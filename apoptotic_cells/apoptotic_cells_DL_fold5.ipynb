{
 "cells": [
  {
   "cell_type": "markdown",
   "metadata": {},
   "source": [
    "# Classification of Apoptotic cells\n",
    "\n",
    "In this jupyter notebook, we provide an example of how to extract explainable features and run a classification for the imaging flow cytometry dataset provided by:\n",
    "\n",
    "In vivo identification of apoptotic and extracellular vesicle-bound live cells using image-based deep learning https://doi.org/10.1080%2F20013078.2020.1792683\n",
    "\n",
    "\n",
    "We assume you have already installed the library. Otherwise you can install it using \n",
    "\n",
    "`!pip -q install <Path to the cloned module>`\n",
    "\n",
    "This notebook provides an example for deep learning methods"
   ]
  },
  {
   "cell_type": "markdown",
   "metadata": {},
   "source": [
    "here we import a series of needed modules. "
   ]
  },
  {
   "cell_type": "code",
   "execution_count": 1,
   "metadata": {},
   "outputs": [],
   "source": [
    "import scifAI\n",
    "import numpy as np\n",
    "from sklearn.datasets import make_classification\n",
    "import torch.nn as nn\n",
    "from skorch import NeuralNetClassifier\n",
    "import matplotlib.pyplot as plt\n",
    "import glob\n",
    "from imageio import imread\n",
    "# Ignore warnings\n",
    "import warnings\n",
    "warnings.filterwarnings(\"ignore\")\n",
    "import os\n",
    "import numpy as np\n",
    "from tqdm import tqdm\n",
    "import pandas as pd\n",
    "from sklearn.ensemble import RandomForestClassifier\n",
    "from sklearn.metrics import classification_report\n",
    "import torch\n",
    "from torchvision import transforms\n",
    "from IPython.core.debugger import Tracer\n",
    "from torch.utils.data import DataLoader, Dataset\n",
    "from sklearn.pipeline import Pipeline, FeatureUnion\n",
    "# Compare Algorithms\n",
    "from sklearn.model_selection import train_test_split\n",
    "from imblearn.over_sampling import RandomOverSampler\n",
    "from sklearn.metrics import f1_score"
   ]
  },
  {
   "cell_type": "code",
   "execution_count": 2,
   "metadata": {},
   "outputs": [],
   "source": [
    "from scifAI.dl.utils import calculate_weights, train_validation_test_split, get_statistics\n",
    "from scifAI.dl.dataset import DatasetGenerator\n",
    "from scifAI.dl.custom_transforms import ShuffleChannel\n",
    "from scifAI.dl.models import PretrainedModel, resnet18"
   ]
  },
  {
   "cell_type": "code",
   "execution_count": 3,
   "metadata": {},
   "outputs": [],
   "source": [
    "from iflai.dl.models import PretrainedModel\n",
    "from skorch.callbacks import LRScheduler,Checkpoint,EpochScoring,EarlyStopping\n",
    "import torch.optim as optim\n",
    "from skorch.helper import predefined_split"
   ]
  },
  {
   "cell_type": "markdown",
   "metadata": {},
   "source": [
    "here, we provide a function for visualizing the result of the confusion matrix which will be used later."
   ]
  },
  {
   "cell_type": "code",
   "execution_count": 4,
   "metadata": {},
   "outputs": [],
   "source": [
    "from sklearn.metrics import (plot_confusion_matrix, \n",
    "                             matthews_corrcoef, \n",
    "                             classification_report,\n",
    "                             confusion_matrix, \n",
    "                             accuracy_score, \n",
    "                             balanced_accuracy_score, \n",
    "                             cohen_kappa_score, \n",
    "                             f1_score,  \n",
    "                             precision_score, recall_score)\n",
    "from imblearn.metrics import classification_report_imbalanced\n",
    "\n",
    "def classification_complete_report(y_true, y_pred, plot = True ): \n",
    "    print(classification_report(y_true, y_pred))\n",
    "    print(15*\"----\")\n",
    "    print(\"matthews correlation coeff: %.2f\" % (matthews_corrcoef(y_true, y_pred)) )\n",
    "    print(\"Cohen Kappa score: %.2f\" % (cohen_kappa_score(y_true, y_pred)) )\n",
    "    print(\"Accuracy: %.2f & balanced Accuracy: %.2f\" % (accuracy_score(y_true, y_pred), balanced_accuracy_score(y_true, y_pred)) )\n",
    "    print(\"macro F1 score: %.2f & micro F1 score: %.2f\" % (f1_score(y_true, y_pred, average = \"macro\"), f1_score(y_true, y_pred, average = \"micro\")) )\n",
    "    print(\"macro Precision score: %.2f & micro Precision score: %.2f\" % (precision_score(y_true, y_pred, average = \"macro\"), precision_score(y_true, y_pred, average = \"micro\")) )\n",
    "    print(\"macro Recall score: %.2f & micro Recall score: %.2f\" % (recall_score(y_true, y_pred, average = \"macro\"), recall_score(y_true, y_pred, average = \"micro\")) )\n",
    "    print(15*\"----\")\n",
    "    \n",
    "    "
   ]
  },
  {
   "cell_type": "markdown",
   "metadata": {},
   "source": [
    "now lets calculate the metadata:"
   ]
  },
  {
   "cell_type": "code",
   "execution_count": 5,
   "metadata": {},
   "outputs": [
    {
     "name": "stdout",
     "output_type": "stream",
     "text": [
      "Metadata prepration starts...\n",
      "Experiment_1 Donor_1 condition_1\n"
     ]
    },
    {
     "name": "stderr",
     "output_type": "stream",
     "text": [
      "100%|██████████| 15311/15311 [00:02<00:00, 5586.71it/s]\n"
     ]
    },
    {
     "name": "stdout",
     "output_type": "stream",
     "text": [
      "...metadata prepration ended.\n",
      "CPU times: user 233 ms, sys: 170 ms, total: 403 ms\n",
      "Wall time: 3.24 s\n"
     ]
    }
   ],
   "source": [
    "%%time\n",
    "\n",
    "data_path = \"/pstore/data/DS4/Apoptotic_cell_detection/\"\n",
    "metadata = scifAI.metadata_generator(data_path)"
   ]
  },
  {
   "cell_type": "code",
   "execution_count": 6,
   "metadata": {},
   "outputs": [
    {
     "data": {
      "text/html": [
       "<div>\n",
       "<style scoped>\n",
       "    .dataframe tbody tr th:only-of-type {\n",
       "        vertical-align: middle;\n",
       "    }\n",
       "\n",
       "    .dataframe tbody tr th {\n",
       "        vertical-align: top;\n",
       "    }\n",
       "\n",
       "    .dataframe thead th {\n",
       "        text-align: right;\n",
       "    }\n",
       "</style>\n",
       "<table border=\"1\" class=\"dataframe\">\n",
       "  <thead>\n",
       "    <tr style=\"text-align: right;\">\n",
       "      <th></th>\n",
       "      <th>file</th>\n",
       "      <th>experiment</th>\n",
       "      <th>donor</th>\n",
       "      <th>condition</th>\n",
       "      <th>object_number</th>\n",
       "      <th>set</th>\n",
       "      <th>label</th>\n",
       "    </tr>\n",
       "  </thead>\n",
       "  <tbody>\n",
       "    <tr>\n",
       "      <th>0</th>\n",
       "      <td>/pstore/data/DS4/Apoptotic_cell_detection/Expe...</td>\n",
       "      <td>Experiment_1</td>\n",
       "      <td>Donor_1</td>\n",
       "      <td>condition_1</td>\n",
       "      <td>822</td>\n",
       "      <td>labeled</td>\n",
       "      <td>apoptotic</td>\n",
       "    </tr>\n",
       "    <tr>\n",
       "      <th>1</th>\n",
       "      <td>/pstore/data/DS4/Apoptotic_cell_detection/Expe...</td>\n",
       "      <td>Experiment_1</td>\n",
       "      <td>Donor_1</td>\n",
       "      <td>condition_1</td>\n",
       "      <td>12187</td>\n",
       "      <td>labeled</td>\n",
       "      <td>non-apoptotic</td>\n",
       "    </tr>\n",
       "    <tr>\n",
       "      <th>2</th>\n",
       "      <td>/pstore/data/DS4/Apoptotic_cell_detection/Expe...</td>\n",
       "      <td>Experiment_1</td>\n",
       "      <td>Donor_1</td>\n",
       "      <td>condition_1</td>\n",
       "      <td>2295</td>\n",
       "      <td>labeled</td>\n",
       "      <td>apoptotic</td>\n",
       "    </tr>\n",
       "    <tr>\n",
       "      <th>3</th>\n",
       "      <td>/pstore/data/DS4/Apoptotic_cell_detection/Expe...</td>\n",
       "      <td>Experiment_1</td>\n",
       "      <td>Donor_1</td>\n",
       "      <td>condition_1</td>\n",
       "      <td>14306</td>\n",
       "      <td>labeled</td>\n",
       "      <td>non-apoptotic</td>\n",
       "    </tr>\n",
       "    <tr>\n",
       "      <th>4</th>\n",
       "      <td>/pstore/data/DS4/Apoptotic_cell_detection/Expe...</td>\n",
       "      <td>Experiment_1</td>\n",
       "      <td>Donor_1</td>\n",
       "      <td>condition_1</td>\n",
       "      <td>2584</td>\n",
       "      <td>labeled</td>\n",
       "      <td>apoptotic</td>\n",
       "    </tr>\n",
       "    <tr>\n",
       "      <th>...</th>\n",
       "      <td>...</td>\n",
       "      <td>...</td>\n",
       "      <td>...</td>\n",
       "      <td>...</td>\n",
       "      <td>...</td>\n",
       "      <td>...</td>\n",
       "      <td>...</td>\n",
       "    </tr>\n",
       "    <tr>\n",
       "      <th>15306</th>\n",
       "      <td>/pstore/data/DS4/Apoptotic_cell_detection/Expe...</td>\n",
       "      <td>Experiment_1</td>\n",
       "      <td>Donor_1</td>\n",
       "      <td>condition_1</td>\n",
       "      <td>10365</td>\n",
       "      <td>labeled</td>\n",
       "      <td>apoptotic</td>\n",
       "    </tr>\n",
       "    <tr>\n",
       "      <th>15307</th>\n",
       "      <td>/pstore/data/DS4/Apoptotic_cell_detection/Expe...</td>\n",
       "      <td>Experiment_1</td>\n",
       "      <td>Donor_1</td>\n",
       "      <td>condition_1</td>\n",
       "      <td>2952</td>\n",
       "      <td>labeled</td>\n",
       "      <td>apoptotic</td>\n",
       "    </tr>\n",
       "    <tr>\n",
       "      <th>15308</th>\n",
       "      <td>/pstore/data/DS4/Apoptotic_cell_detection/Expe...</td>\n",
       "      <td>Experiment_1</td>\n",
       "      <td>Donor_1</td>\n",
       "      <td>condition_1</td>\n",
       "      <td>7308</td>\n",
       "      <td>labeled</td>\n",
       "      <td>non-apoptotic</td>\n",
       "    </tr>\n",
       "    <tr>\n",
       "      <th>15309</th>\n",
       "      <td>/pstore/data/DS4/Apoptotic_cell_detection/Expe...</td>\n",
       "      <td>Experiment_1</td>\n",
       "      <td>Donor_1</td>\n",
       "      <td>condition_1</td>\n",
       "      <td>3211</td>\n",
       "      <td>labeled</td>\n",
       "      <td>apoptotic</td>\n",
       "    </tr>\n",
       "    <tr>\n",
       "      <th>15310</th>\n",
       "      <td>/pstore/data/DS4/Apoptotic_cell_detection/Expe...</td>\n",
       "      <td>Experiment_1</td>\n",
       "      <td>Donor_1</td>\n",
       "      <td>condition_1</td>\n",
       "      <td>3500</td>\n",
       "      <td>labeled</td>\n",
       "      <td>apoptotic</td>\n",
       "    </tr>\n",
       "  </tbody>\n",
       "</table>\n",
       "<p>15311 rows × 7 columns</p>\n",
       "</div>"
      ],
      "text/plain": [
       "                                                    file    experiment  \\\n",
       "0      /pstore/data/DS4/Apoptotic_cell_detection/Expe...  Experiment_1   \n",
       "1      /pstore/data/DS4/Apoptotic_cell_detection/Expe...  Experiment_1   \n",
       "2      /pstore/data/DS4/Apoptotic_cell_detection/Expe...  Experiment_1   \n",
       "3      /pstore/data/DS4/Apoptotic_cell_detection/Expe...  Experiment_1   \n",
       "4      /pstore/data/DS4/Apoptotic_cell_detection/Expe...  Experiment_1   \n",
       "...                                                  ...           ...   \n",
       "15306  /pstore/data/DS4/Apoptotic_cell_detection/Expe...  Experiment_1   \n",
       "15307  /pstore/data/DS4/Apoptotic_cell_detection/Expe...  Experiment_1   \n",
       "15308  /pstore/data/DS4/Apoptotic_cell_detection/Expe...  Experiment_1   \n",
       "15309  /pstore/data/DS4/Apoptotic_cell_detection/Expe...  Experiment_1   \n",
       "15310  /pstore/data/DS4/Apoptotic_cell_detection/Expe...  Experiment_1   \n",
       "\n",
       "         donor    condition object_number      set          label  \n",
       "0      Donor_1  condition_1           822  labeled      apoptotic  \n",
       "1      Donor_1  condition_1         12187  labeled  non-apoptotic  \n",
       "2      Donor_1  condition_1          2295  labeled      apoptotic  \n",
       "3      Donor_1  condition_1         14306  labeled  non-apoptotic  \n",
       "4      Donor_1  condition_1          2584  labeled      apoptotic  \n",
       "...        ...          ...           ...      ...            ...  \n",
       "15306  Donor_1  condition_1         10365  labeled      apoptotic  \n",
       "15307  Donor_1  condition_1          2952  labeled      apoptotic  \n",
       "15308  Donor_1  condition_1          7308  labeled  non-apoptotic  \n",
       "15309  Donor_1  condition_1          3211  labeled      apoptotic  \n",
       "15310  Donor_1  condition_1          3500  labeled      apoptotic  \n",
       "\n",
       "[15311 rows x 7 columns]"
      ]
     },
     "execution_count": 6,
     "metadata": {},
     "output_type": "execute_result"
    }
   ],
   "source": [
    "metadata"
   ]
  },
  {
   "cell_type": "code",
   "execution_count": 7,
   "metadata": {},
   "outputs": [
    {
     "name": "stdout",
     "output_type": "stream",
     "text": [
      "['apoptotic' 'non-apoptotic']\n"
     ]
    },
    {
     "data": {
      "text/plain": [
       "<AxesSubplot:>"
      ]
     },
     "execution_count": 7,
     "metadata": {},
     "output_type": "execute_result"
    },
    {
     "data": {
      "image/png": "[encoded data removed]",
      "text/plain": [
       "<Figure size 432x288 with 1 Axes>"
      ]
     },
     "metadata": {
      "needs_background": "light"
     },
     "output_type": "display_data"
    }
   ],
   "source": [
    "print(metadata.label.unique())\n",
    "metadata.label.hist()"
   ]
  },
  {
   "cell_type": "markdown",
   "metadata": {},
   "source": [
    "so we have 31280  files with various labels. first we need to get rid of `unknown` labels"
   ]
  },
  {
   "cell_type": "code",
   "execution_count": 8,
   "metadata": {},
   "outputs": [],
   "source": [
    "row_index = metadata.label != \"unknown\"\n",
    "\n",
    "metadata = metadata.loc[row_index,:].reset_index(drop = True)"
   ]
  },
  {
   "cell_type": "markdown",
   "metadata": {},
   "source": [
    "lets plot a random image per class"
   ]
  },
  {
   "cell_type": "code",
   "execution_count": 9,
   "metadata": {},
   "outputs": [
    {
     "name": "stdout",
     "output_type": "stream",
     "text": [
      "apoptotic\n",
      "non-apoptotic\n"
     ]
    },
    {
     "data": {
      "image/png": "[encoded data removed]",
      "text/plain": [
       "<Figure size 144x144 with 4 Axes>"
      ]
     },
     "metadata": {},
     "output_type": "display_data"
    }
   ],
   "source": [
    "from skimage.util import crop\n",
    "import h5py\n",
    "\n",
    "def crop_pad_h_w(image_dummy,reshape_size):\n",
    "    if image_dummy.shape[0] < reshape_size:\n",
    "        h1_pad = ( reshape_size - image_dummy.shape[0])/2\n",
    "        h1_pad = int(h1_pad)\n",
    "        h2_pad =  reshape_size - h1_pad - image_dummy.shape[0]\n",
    "        h1_crop = 0\n",
    "        h2_crop = 0\n",
    "    else:\n",
    "        h1_pad = 0\n",
    "        h2_pad = 0\n",
    "        h1_crop = ( reshape_size - image_dummy.shape[0])/2\n",
    "        h1_crop = abs(int(h1_crop))\n",
    "        h2_crop = image_dummy.shape[0]- reshape_size  - h1_crop\n",
    "\n",
    "    if image_dummy.shape[1] < reshape_size:\n",
    "        w1_pad = (reshape_size - image_dummy.shape[1])/2\n",
    "        w1_pad = int(w1_pad)\n",
    "        w2_pad = reshape_size - w1_pad - image_dummy.shape[1]\n",
    "        w1_crop = 0\n",
    "        w2_crop = 0\n",
    "    else:\n",
    "        w1_pad = 0\n",
    "        w2_pad = 0\n",
    "        w1_crop = (reshape_size - image_dummy.shape[1])/2\n",
    "        w1_crop = abs(int(w1_crop))\n",
    "        w2_crop = image_dummy.shape[1]- reshape_size  - w1_crop\n",
    "\n",
    "    h = [h1_crop, h2_crop, h1_pad, h2_pad]\n",
    "    w = [w1_crop, w2_crop, w1_pad, w2_pad] \n",
    "    return h, w\n",
    "\n",
    "def plot_images_with_metadata(metadata,  \n",
    "                              figsize = None,\n",
    "                              channels = [\"BF\",\"BF\", \"BF\"],\n",
    "                    channel_colors =  [\"Greys\", \"Oranges\", \"Blues\"],\n",
    "                    image_size = 128):\n",
    "    \n",
    "    metadata_dummy = metadata.copy()\n",
    "    metadata_dummy = metadata_dummy.reset_index(drop = True)\n",
    "    \n",
    "    nrows = len(metadata_dummy)\n",
    "    ncols = len(channel_colors)\n",
    "    \n",
    "    if figsize is None:\n",
    "        figsize = ( ncols*2, nrows*2 )\n",
    "    fix,ax = plt.subplots(nrows, ncols, figsize = figsize, tight_layout = True)\n",
    "    \n",
    "    vmin = [4095.]*ncols\n",
    "    vmax = [0.]*ncols\n",
    "    \n",
    "    for i in range(nrows):\n",
    "        h5_file_ = h5py.File(metadata_dummy.loc[i,\"file\"], \"r\")\n",
    "        image = h5_file_.get(\"image\")[()]\n",
    "        for j, ch in enumerate(range(ncols)):\n",
    "            vmin[j] = min(vmin[j], image[:,:,ch].min()  )\n",
    "            vmax[j] = max(vmax[j], image[:,:,ch].max()  )\n",
    "        \n",
    "    for i in range(nrows):\n",
    "        h5_file_ = h5py.File(metadata_dummy.loc[i,\"file\"], \"r\")\n",
    "        image = h5_file_.get(\"image\")[()]         \n",
    "        \n",
    "        h, w = crop_pad_h_w(image, image_size)\n",
    "        h1_crop, h2_crop, h1_pad, h2_pad =  h \n",
    "        w1_crop, w2_crop, w1_pad, w2_pad = w \n",
    "        for j, ch in enumerate(channel_colors):\n",
    "            image_dummy = crop(image[:,:,j], ((h1_crop,h2_crop),(w1_crop,w2_crop)))            \n",
    "            image_dummy = np.pad(image_dummy, \n",
    "                                     ((h1_pad,h2_pad),(w1_pad,w2_pad)), \n",
    "                                     'constant', \n",
    "                                     constant_values = np.mean(image_dummy) )\n",
    "            ax[i,j].imshow(image_dummy, cmap = channel_colors[j] , vmin = vmin[j], vmax = vmax[j]  )\n",
    "            ax[i,j].set_xticks([])\n",
    "            ax[i,j].set_yticks([])\n",
    "            \n",
    "            if j == 0:\n",
    "                print(metadata_dummy.loc[i,\"label\"])\n",
    "                ax[i,j].set_ylabel(metadata_dummy.loc[i,\"label\"])\n",
    "            if i == 0:\n",
    "                ax[i,j].set_xlabel(channels[j])\n",
    "                ax[i,j].xaxis.set_label_position('top') \n",
    "            \n",
    "        h5_file_.close()\n",
    "    plt.tight_layout()\n",
    "\n",
    "    \n",
    "plot_images_with_metadata(metadata.groupby('label').apply(lambda s: s.sample(1, random_state = 2)).reset_index(drop = True) ,  \n",
    "                              figsize = (2,2),\n",
    "                    channel_colors =  [\"Greys\", \"copper\"],\n",
    "                          channels = [\"BF\",\"FL\"],\n",
    "                    image_size = 32)\n",
    "\n",
    "\n",
    "\n",
    "plt.savefig(\"Dataset 1 - apoptotic vs non apoptotic cells.png\", bbox_inches='tight')\n",
    "plt.savefig(\"Dataset 1 - apoptotic vs non apoptotic cells.svg\", bbox_inches='tight')"
   ]
  },
  {
   "cell_type": "markdown",
   "metadata": {},
   "source": [
    "Set all random seeds to the specific value, so the results are more reproducable"
   ]
  },
  {
   "cell_type": "code",
   "execution_count": 10,
   "metadata": {},
   "outputs": [],
   "source": [
    "seed_value = 42\n",
    "\n",
    "os.environ['PYTHONHASHSEED']=str(seed_value)\n",
    "import random\n",
    "random.seed(seed_value)\n",
    "\n",
    "np.random.seed(seed_value)\n",
    "torch.manual_seed(seed_value)\n",
    "\n",
    "torch.backends.cudnn.deterministic = True\n",
    "torch.backends.cudnn.benchmark = False"
   ]
  },
  {
   "cell_type": "markdown",
   "metadata": {},
   "source": [
    "Define all necessary parameters"
   ]
  },
  {
   "cell_type": "code",
   "execution_count": 11,
   "metadata": {},
   "outputs": [],
   "source": [
    "class AddGaussianNoise(object):\n",
    "    def __init__(self, mean=0., std=1.):\n",
    "        self.std = std\n",
    "        self.mean = mean\n",
    "        \n",
    "    def __call__(self, tensor):\n",
    "        return tensor + torch.randn(tensor.size()) * self.std + self.mean\n",
    "    \n",
    "    def __repr__(self):\n",
    "        return self.__class__.__name__ + '(mean={0}, std={1})'.format(self.mean, self.std)"
   ]
  },
  {
   "cell_type": "code",
   "execution_count": 12,
   "metadata": {},
   "outputs": [],
   "source": [
    "class MinMaxScaler(object):\n",
    "    def __init__(self, min_in , max_in, min_out, max_out):\n",
    "        self.min_in = min_in.reshape(-1,1,1)\n",
    "        self.max_in = max_in.reshape(-1,1,1)\n",
    "        self.min_out = min_out\n",
    "        self.max_out = max_out\n",
    "        \n",
    "    def __call__(self, tensor):\n",
    "        \n",
    "        tensor_ = (tensor - self.min_in)/(self.max_in - self.min_in)\n",
    "        tensor_ = tensor_*(self.max_out - self.min_out) + self.min_out\n",
    "        tensor_[tensor_<self.min_out]= self.min_out\n",
    "        tensor_[tensor_>self.max_out]= self.max_out\n",
    "        return tensor_\n",
    "    \n",
    "    def __repr__(self):\n",
    "        return self.__class__.__name__ + '(min_out={0}, max_out={1})'.format(self.min_out, self.max_out)"
   ]
  },
  {
   "cell_type": "code",
   "execution_count": 13,
   "metadata": {},
   "outputs": [],
   "source": [
    "\n",
    "model_dir = \"models\"\n",
    "log_dir = \"logs\"\n",
    "scaling_factor = 255.\n",
    "reshape_size = 32\n",
    "num_classes = len(metadata.label.unique())"
   ]
  },
  {
   "cell_type": "code",
   "execution_count": 14,
   "metadata": {},
   "outputs": [],
   "source": [
    "\n",
    "selected_channels = np.arange(2)\n",
    "num_channels = len(selected_channels)\n",
    "channels = np.asarray([ \"Ch\" + str(i) for i in selected_channels])\n",
    "num_of_all_channels = len(channels)\n",
    "all_channels = np.arange(num_of_all_channels)"
   ]
  },
  {
   "cell_type": "code",
   "execution_count": 15,
   "metadata": {},
   "outputs": [],
   "source": [
    "batch_size = 128\n",
    "num_workers = 4\n",
    "device=\"cuda\""
   ]
  },
  {
   "cell_type": "markdown",
   "metadata": {},
   "source": [
    "splitting data to train, validaiton and test"
   ]
  },
  {
   "cell_type": "code",
   "execution_count": 16,
   "metadata": {},
   "outputs": [
    {
     "name": "stdout",
     "output_type": "stream",
     "text": [
      "1\n",
      "2\n",
      "3\n",
      "4\n"
     ]
    }
   ],
   "source": [
    "from sklearn.model_selection import StratifiedKFold\n",
    "from sklearn.model_selection import train_test_split\n",
    "\n",
    "skf = StratifiedKFold(n_splits=5, random_state=seed_value, shuffle=True)\n",
    "main_fold = 5\n",
    "i = 1\n",
    "for train_index, test_index in skf.split(metadata.index.tolist(), metadata[\"label\"]):\n",
    "    if i == main_fold:\n",
    "        break\n",
    "    else:\n",
    "        print(i)\n",
    "        i+=1\n",
    "\n",
    "\n",
    "train_index, validation_index, _, _ = train_test_split(train_index, \n",
    "                                                    metadata.loc[train_index,\"label\"].index.tolist(), \n",
    "                                                    stratify = metadata.loc[train_index,\"label\"].tolist(),\n",
    "                                                    test_size=0.2, \n",
    "                                                    random_state=seed_value)"
   ]
  },
  {
   "cell_type": "code",
   "execution_count": null,
   "metadata": {},
   "outputs": [],
   "source": []
  },
  {
   "cell_type": "code",
   "execution_count": 17,
   "metadata": {},
   "outputs": [
    {
     "data": {
      "text/plain": [
       "{'apoptotic': 0, 'non-apoptotic': 1}"
      ]
     },
     "execution_count": 17,
     "metadata": {},
     "output_type": "execute_result"
    }
   ],
   "source": [
    "label_map = dict(zip(sorted(set(metadata.loc[train_index, \"label\"])), \n",
    "                     np.arange(len(set(metadata.loc[train_index, \"label\"])))))\n",
    "\n",
    "set_of_interesting_classes = metadata.label.unique().tolist()\n",
    "\n",
    "label_map"
   ]
  },
  {
   "cell_type": "markdown",
   "metadata": {},
   "source": [
    "now we calculate the statistics of every channel to later use for nomalizing the dataset"
   ]
  },
  {
   "cell_type": "code",
   "execution_count": 18,
   "metadata": {},
   "outputs": [],
   "source": [
    "train_dataset = DatasetGenerator(metadata=metadata.loc[train_index,:],\n",
    "                                 label_map=label_map,\n",
    "                                 selected_channels=selected_channels,\n",
    "                                 scaling_factor=scaling_factor,\n",
    "                                 reshape_size=reshape_size,\n",
    "                                 transform=transforms.Compose([]))"
   ]
  },
  {
   "cell_type": "code",
   "execution_count": 19,
   "metadata": {},
   "outputs": [],
   "source": [
    "train_loader = DataLoader(train_dataset, batch_size=batch_size, shuffle=False, num_workers=num_workers)"
   ]
  },
  {
   "cell_type": "code",
   "execution_count": 20,
   "metadata": {},
   "outputs": [
    {
     "data": {
      "text/plain": [
       "<matplotlib.image.AxesImage at 0x2aab57d3ebe0>"
      ]
     },
     "execution_count": 20,
     "metadata": {},
     "output_type": "execute_result"
    },
    {
     "data": {
      "image/png": "[encoded data removed]",
      "text/plain": [
       "<Figure size 432x288 with 1 Axes>"
      ]
     },
     "metadata": {
      "needs_background": "light"
     },
     "output_type": "display_data"
    }
   ],
   "source": [
    "plt.imshow(train_dataset[0][0][1])"
   ]
  },
  {
   "cell_type": "code",
   "execution_count": 21,
   "metadata": {},
   "outputs": [
    {
     "name": "stderr",
     "output_type": "stream",
     "text": [
      "100%|██████████| 77/77 [00:14<00:00,  5.36it/s]"
     ]
    },
    {
     "name": "stdout",
     "output_type": "stream",
     "text": [
      "statistics used: {'min': tensor([1.5383, 0.0000]), 'p01': tensor([2.5298, 0.0170]), 'p05': tensor([2.8084, 0.0272]), 'p25': tensor([3.0936, 0.0484]), 'p50': tensor([3.1463, 0.0764]), 'p75': tensor([3.1878, 0.1635]), 'p95': tensor([3.4512, 0.7942]), 'p99': tensor([3.7484, 2.1700]), 'max': tensor([  5.2319, 250.7382]), 'mean': tensor([3.1397, 0.2241]), 'std': tensor([0.1969, 1.9374])}\n"
     ]
    },
    {
     "name": "stderr",
     "output_type": "stream",
     "text": [
      "\n"
     ]
    }
   ],
   "source": [
    "statistics = get_statistics(train_loader, selected_channels=selected_channels)"
   ]
  },
  {
   "cell_type": "markdown",
   "metadata": {},
   "source": [
    "adding the normalization to each transform"
   ]
  },
  {
   "cell_type": "code",
   "execution_count": 22,
   "metadata": {},
   "outputs": [],
   "source": [
    "stats = dict()\n",
    "stats[\"lower_bound\"] = torch.tensor([statistics['min'][0], statistics['p01'][1]])\n",
    "stats[\"upper_bound\"] = torch.tensor([statistics['p99'][0], statistics['p99'][1]])\n",
    "\n",
    "train_transform = [ \n",
    "        MinMaxScaler(           min_in =  stats[\"lower_bound\"] , \n",
    "                                max_in =  stats[\"upper_bound\"] , \n",
    "                                min_out =  0. , \n",
    "                                max_out =  1.),\n",
    "        transforms.RandomHorizontalFlip(),\n",
    "        transforms.RandomVerticalFlip(),\n",
    "        AddGaussianNoise(mean=0., std=0.01),\n",
    "]\n",
    "\n",
    "validation_transform =  [ \n",
    "        MinMaxScaler(           min_in =  stats[\"lower_bound\"] , \n",
    "                                max_in =  stats[\"upper_bound\"] , \n",
    "                                min_out =  0. , \n",
    "                                max_out =  1.),\n",
    "]\n",
    "\n",
    "test_transform =  [ \n",
    "        MinMaxScaler(           min_in =  stats[\"lower_bound\"] , \n",
    "                                max_in =  stats[\"upper_bound\"] , \n",
    "                                min_out =  0. , \n",
    "                                max_out =  1.),\n",
    "]"
   ]
  },
  {
   "cell_type": "code",
   "execution_count": 23,
   "metadata": {},
   "outputs": [],
   "source": [
    "train_loader = None"
   ]
  },
  {
   "cell_type": "markdown",
   "metadata": {},
   "source": [
    "defining train, validation and test datasets"
   ]
  },
  {
   "cell_type": "code",
   "execution_count": 24,
   "metadata": {},
   "outputs": [],
   "source": [
    "train_dataset = DatasetGenerator(metadata=metadata.loc[train_index,:],\n",
    "                                 label_map=label_map,\n",
    "                                 selected_channels=selected_channels,\n",
    "                                 scaling_factor=scaling_factor, \n",
    "                                 reshape_size=reshape_size,\n",
    "                                 transform= transforms.Compose(train_transform))\n",
    "\n",
    "validation_dataset = DatasetGenerator(metadata=metadata.loc[validation_index,:],\n",
    "                                      label_map=label_map,\n",
    "                                      selected_channels=selected_channels,\n",
    "                                      scaling_factor=scaling_factor,\n",
    "                                      reshape_size=reshape_size,\n",
    "                                      transform=transforms.Compose(test_transform))\n",
    "\n",
    "test_dataset = DatasetGenerator(metadata=metadata.loc[test_index,:],\n",
    "                                label_map=label_map,\n",
    "                                selected_channels=selected_channels,\n",
    "                                scaling_factor=scaling_factor,\n",
    "                                reshape_size=reshape_size,\n",
    "                                transform=\n",
    "                                transforms.Compose(test_transform))"
   ]
  },
  {
   "cell_type": "code",
   "execution_count": 25,
   "metadata": {},
   "outputs": [
    {
     "data": {
      "text/plain": [
       "<matplotlib.image.AxesImage at 0x2aab583e0430>"
      ]
     },
     "execution_count": 25,
     "metadata": {},
     "output_type": "execute_result"
    },
    {
     "data": {
      "image/png": "[encoded data removed]",
      "text/plain": [
       "<Figure size 432x288 with 1 Axes>"
      ]
     },
     "metadata": {
      "needs_background": "light"
     },
     "output_type": "display_data"
    }
   ],
   "source": [
    "plt.imshow(test_dataset[0][0][0])"
   ]
  },
  {
   "cell_type": "code",
   "execution_count": 26,
   "metadata": {},
   "outputs": [
    {
     "data": {
      "text/plain": [
       "<matplotlib.image.AxesImage at 0x2aab587eb760>"
      ]
     },
     "execution_count": 26,
     "metadata": {},
     "output_type": "execute_result"
    },
    {
     "data": {
      "image/png": "[encoded data removed]",
      "text/plain": [
       "<Figure size 432x288 with 1 Axes>"
      ]
     },
     "metadata": {
      "needs_background": "light"
     },
     "output_type": "display_data"
    }
   ],
   "source": [
    "plt.imshow(validation_dataset[0][0][0])"
   ]
  },
  {
   "cell_type": "code",
   "execution_count": 27,
   "metadata": {},
   "outputs": [
    {
     "data": {
      "text/plain": [
       "<matplotlib.image.AxesImage at 0x2aab58822af0>"
      ]
     },
     "execution_count": 27,
     "metadata": {},
     "output_type": "execute_result"
    },
    {
     "data": {
      "image/png": "[encoded data removed]",
      "text/plain": [
       "<Figure size 432x288 with 1 Axes>"
      ]
     },
     "metadata": {
      "needs_background": "light"
     },
     "output_type": "display_data"
    }
   ],
   "source": [
    "plt.imshow(train_dataset[0][0][0])"
   ]
  },
  {
   "cell_type": "markdown",
   "metadata": {},
   "source": [
    "considering that we have multiple input channels, we need to modify the ResNet18 network input layer"
   ]
  },
  {
   "cell_type": "code",
   "execution_count": 28,
   "metadata": {},
   "outputs": [],
   "source": [
    "import torch.nn as nn\n",
    "from scifAI.dl.models import PretrainedModel\n",
    "import torch.nn.functional as F\n",
    "\n",
    "resnet18_modified = PretrainedModel(len(selected_channels),\n",
    "                                     len(set_of_interesting_classes), \n",
    "                                     pretrained = True)"
   ]
  },
  {
   "cell_type": "code",
   "execution_count": null,
   "metadata": {},
   "outputs": [],
   "source": []
  },
  {
   "cell_type": "markdown",
   "metadata": {},
   "source": [
    "finally, we add a scheduler and an early stopping based on valid_f1_macro"
   ]
  },
  {
   "cell_type": "code",
   "execution_count": 29,
   "metadata": {},
   "outputs": [],
   "source": [
    "lr_scheduler = LRScheduler(policy='ReduceLROnPlateau', factor=0.5, patience=5)\n",
    "\n",
    "epoch_scoring_f1_micro = EpochScoring(\"f1_micro\", \n",
    "                             name =  \"valid_f1_micro\", \n",
    "                             on_train = False,\n",
    "                             lower_is_better = False)\n",
    "\n",
    "epoch_scoring_f1_macro = EpochScoring(\"f1_macro\", \n",
    "                             name =  \"valid_f1_macro\", \n",
    "                             on_train = False,\n",
    "                             lower_is_better = False)\n",
    "\n",
    "early_stopping = EarlyStopping(monitor='valid_f1_macro', \n",
    "                               patience=50, \n",
    "                               threshold=0.0001, \n",
    "                               threshold_mode='rel', \n",
    "                               lower_is_better=False)\n",
    "\n",
    "checkpoint = Checkpoint(f_params='apoptotic_cells_DL_fold5.pth',\n",
    "                        monitor='valid_f1_macro_best', load_best=True)"
   ]
  },
  {
   "cell_type": "markdown",
   "metadata": {},
   "source": [
    "lets define and train the model using `skorch`"
   ]
  },
  {
   "cell_type": "code",
   "execution_count": 30,
   "metadata": {},
   "outputs": [],
   "source": [
    "net = NeuralNetClassifier(    \n",
    "    resnet18_modified, \n",
    "    criterion=nn.CrossEntropyLoss,\n",
    "    lr=0.001,\n",
    "    batch_size=batch_size,\n",
    "    max_epochs=1000,\n",
    "    optimizer=optim.Adam,\n",
    "    iterator_train__shuffle=True,\n",
    "    iterator_train__num_workers=num_workers,\n",
    "    iterator_valid__shuffle=False,\n",
    "    iterator_valid__num_workers=2,\n",
    "    callbacks=[lr_scheduler, epoch_scoring_f1_micro, \n",
    "               epoch_scoring_f1_macro, \n",
    "               early_stopping, checkpoint],\n",
    "    train_split=predefined_split(validation_dataset),\n",
    "    device=\"cuda\",\n",
    "    warm_start=True)"
   ]
  },
  {
   "cell_type": "code",
   "execution_count": 31,
   "metadata": {},
   "outputs": [
    {
     "name": "stdout",
     "output_type": "stream",
     "text": [
      "  epoch    train_loss    valid_acc    valid_f1_macro    valid_f1_micro    valid_loss    cp     dur\n",
      "-------  ------------  -----------  ----------------  ----------------  ------------  ----  ------\n",
      "      1        \u001b[36m0.4032\u001b[0m       \u001b[32m0.8482\u001b[0m            \u001b[35m0.8459\u001b[0m            \u001b[31m0.8482\u001b[0m        \u001b[94m0.3750\u001b[0m     +  6.0540\n",
      "      2        \u001b[36m0.2516\u001b[0m       \u001b[32m0.9016\u001b[0m            \u001b[35m0.9001\u001b[0m            \u001b[31m0.9016\u001b[0m        \u001b[94m0.2659\u001b[0m     +  6.0373\n",
      "      3        \u001b[36m0.2161\u001b[0m       0.8567            0.8565            0.8567        0.3260        6.0663\n",
      "      4        \u001b[36m0.2076\u001b[0m       \u001b[32m0.9135\u001b[0m            \u001b[35m0.9117\u001b[0m            \u001b[31m0.9135\u001b[0m        \u001b[94m0.1959\u001b[0m     +  6.1322\n",
      "      5        \u001b[36m0.1875\u001b[0m       0.8771            0.8758            0.8771        0.3006        6.0245\n",
      "      6        \u001b[36m0.1836\u001b[0m       0.8914            0.8902            0.8914        0.2232        6.0493\n",
      "      7        \u001b[36m0.1807\u001b[0m       0.9082            0.9036            0.9082        0.2349        5.9939\n",
      "      8        \u001b[36m0.1738\u001b[0m       \u001b[32m0.9220\u001b[0m            \u001b[35m0.9193\u001b[0m            \u001b[31m0.9220\u001b[0m        0.2028     +  6.0095\n",
      "      9        \u001b[36m0.1582\u001b[0m       0.9216            \u001b[35m0.9202\u001b[0m            0.9216        \u001b[94m0.1900\u001b[0m     +  5.9770\n",
      "     10        \u001b[36m0.1517\u001b[0m       0.8882            0.8807            0.8882        0.2970        6.0135\n",
      "     11        0.1639       0.8812            0.8804            0.8812        0.2804        6.0345\n",
      "     12        0.1520       0.9159            0.9142            0.9159        0.2202        5.9894\n",
      "     13        \u001b[36m0.1420\u001b[0m       0.9155            0.9136            0.9155        0.2241        6.0608\n",
      "     14        \u001b[36m0.1382\u001b[0m       \u001b[32m0.9290\u001b[0m            \u001b[35m0.9274\u001b[0m            \u001b[31m0.9290\u001b[0m        \u001b[94m0.1858\u001b[0m     +  6.1361\n",
      "     15        0.1395       \u001b[32m0.9302\u001b[0m            \u001b[35m0.9285\u001b[0m            \u001b[31m0.9302\u001b[0m        \u001b[94m0.1759\u001b[0m     +  5.9080\n",
      "     16        \u001b[36m0.1374\u001b[0m       \u001b[32m0.9347\u001b[0m            \u001b[35m0.9323\u001b[0m            \u001b[31m0.9347\u001b[0m        \u001b[94m0.1731\u001b[0m     +  6.0735\n",
      "     17        \u001b[36m0.1292\u001b[0m       0.9098            0.9063            0.9098        0.2229        6.0394\n",
      "     18        0.1393       0.9286            0.9275            0.9286        0.1783        5.9605\n",
      "     19        \u001b[36m0.1241\u001b[0m       0.9322            0.9298            0.9322        \u001b[94m0.1662\u001b[0m        6.0034\n",
      "     20        \u001b[36m0.1212\u001b[0m       0.9302            0.9283            0.9302        0.1782        6.0528\n",
      "     21        0.1242       0.9322            0.9304            0.9322        0.1874        6.1031\n",
      "     22        \u001b[36m0.1193\u001b[0m       0.9314            0.9287            0.9314        0.1735        5.9557\n",
      "     23        0.1206       0.9147            0.9137            0.9147        0.2242        6.0410\n",
      "     24        \u001b[36m0.1164\u001b[0m       0.9310            0.9286            0.9310        0.1750        6.0092\n",
      "     25        \u001b[36m0.1139\u001b[0m       0.9237            0.9216            0.9237        0.2053        6.0960\n",
      "     26        0.1189       0.8988            0.8942            0.8988        0.8494        6.0270\n",
      "     27        \u001b[36m0.1107\u001b[0m       0.9171            0.9161            0.9171        0.2221        5.9607\n",
      "     28        \u001b[36m0.1024\u001b[0m       \u001b[32m0.9380\u001b[0m            \u001b[35m0.9366\u001b[0m            \u001b[31m0.9380\u001b[0m        \u001b[94m0.1619\u001b[0m     +  6.0399\n",
      "     29        \u001b[36m0.1004\u001b[0m       0.9135            0.9125            0.9135        0.2299        5.9996\n",
      "     30        \u001b[36m0.0928\u001b[0m       0.9278            0.9256            0.9278        0.2062        6.0137\n",
      "     31        0.1097       0.9306            0.9285            0.9306        0.1918        5.9413\n",
      "     32        \u001b[36m0.0923\u001b[0m       0.9029            0.8966            0.9029        0.2616        5.9681\n",
      "     33        0.0988       0.9331            0.9311            0.9331        0.1811        5.9627\n",
      "     34        0.0941       0.9290            0.9269            0.9290        0.1868        5.9861\n",
      "     35        \u001b[36m0.0885\u001b[0m       0.9220            0.9186            0.9220        0.2103        6.0499\n",
      "     36        0.0917       0.9049            0.9040            0.9049        0.2887        6.0349\n",
      "     37        \u001b[36m0.0874\u001b[0m       \u001b[32m0.9429\u001b[0m            \u001b[35m0.9410\u001b[0m            \u001b[31m0.9429\u001b[0m        \u001b[94m0.1594\u001b[0m     +  6.0107\n",
      "     38        \u001b[36m0.0838\u001b[0m       0.9343            0.9328            0.9343        0.1603        6.0110\n",
      "     39        0.0886       0.9396            0.9376            0.9396        0.1606        5.9638\n",
      "     40        \u001b[36m0.0770\u001b[0m       0.9237            0.9216            0.9237        0.2094        6.0053\n",
      "     41        0.0854       0.9384            0.9367            0.9384        0.1811        6.0525\n",
      "     42        0.0791       0.9024            0.9010            0.9024        0.2479        6.0200\n",
      "     43        0.0848       0.9290            0.9262            0.9290        0.2054        5.9322\n",
      "     44        0.0904       0.9306            0.9280            0.9306        0.1985        5.9208\n",
      "     45        0.0799       0.9302            0.9289            0.9302        0.2297        5.9468\n",
      "     46        \u001b[36m0.0715\u001b[0m       0.9143            0.9100            0.9143        0.2602        5.9983\n",
      "     47        0.0738       0.9412            0.9395            0.9412        0.1694        6.1187\n",
      "     48        \u001b[36m0.0682\u001b[0m       0.9224            0.9193            0.9224        0.2645        6.0485\n",
      "     49        0.0712       0.9327            0.9301            0.9327        0.2087        6.0705\n",
      "     50        \u001b[36m0.0660\u001b[0m       0.9347            0.9332            0.9347        0.1824        5.9671\n",
      "     51        \u001b[36m0.0617\u001b[0m       0.9314            0.9301            0.9314        0.2091        5.9728\n",
      "     52        0.0643       0.9327            0.9306            0.9327        0.2343        6.0745\n",
      "     53        0.0659       0.9094            0.9068            0.9094        0.2753        5.9915\n",
      "     54        \u001b[36m0.0529\u001b[0m       0.9380            0.9366            0.9380        0.2142        5.9550\n",
      "     55        0.0590       0.9114            0.9091            0.9114        0.2552        6.0042\n",
      "     56        0.0628       0.9229            0.9217            0.9229        0.2393        5.9226\n",
      "     57        0.0544       0.9392            0.9378            0.9392        0.2012        6.0228\n",
      "     58        0.0575       0.9261            0.9248            0.9261        0.2296        5.9914\n",
      "     59        \u001b[36m0.0487\u001b[0m       0.9159            0.9122            0.9159        0.2873        5.9276\n",
      "     60        0.0548       0.9273            0.9259            0.9273        0.2314        6.0204\n",
      "     61        0.0495       0.9049            0.9040            0.9049        0.3908        5.9807\n",
      "     62        0.0648       0.9310            0.9292            0.9310        0.2157        6.0179\n",
      "     63        0.0529       0.9094            0.9081            0.9094        0.2605        6.0007\n",
      "     64        \u001b[36m0.0466\u001b[0m       0.9388            0.9372            0.9388        0.1955        5.9742\n",
      "     65        \u001b[36m0.0424\u001b[0m       0.9314            0.9297            0.9314        0.2508        5.9451\n",
      "     66        0.0519       0.9318            0.9304            0.9318        0.2044        5.9500\n",
      "     67        0.0439       0.9331            0.9316            0.9331        0.2237        5.9845\n",
      "     68        0.0438       0.9322            0.9308            0.9322        0.2245        6.0211\n",
      "     69        0.0433       0.9229            0.9214            0.9229        0.2467        6.0514\n",
      "     70        0.0442       0.9339            0.9323            0.9339        0.2234        5.9810\n",
      "     71        0.0442       0.9343            0.9326            0.9343        0.2152        6.0241\n",
      "     72        \u001b[36m0.0240\u001b[0m       0.9404            0.9388            0.9404        0.2318        5.9833\n",
      "     73        \u001b[36m0.0212\u001b[0m       0.9392            0.9378            0.9392        0.2281        6.0036\n",
      "     74        \u001b[36m0.0189\u001b[0m       0.9429            \u001b[35m0.9414\u001b[0m            0.9429        0.2523     +  6.0289\n"
     ]
    },
    {
     "name": "stdout",
     "output_type": "stream",
     "text": [
      "     75        \u001b[36m0.0150\u001b[0m       0.9327            0.9311            0.9327        0.3264        5.9957\n",
      "     76        0.0196       0.9339            0.9326            0.9339        0.3032        5.9838\n",
      "     77        0.0188       0.9343            0.9329            0.9343        0.2729        6.0052\n",
      "     78        0.0175       0.9380            0.9359            0.9380        0.2675        6.1045\n",
      "     79        0.0181       0.9388            0.9373            0.9388        0.2652        6.0417\n",
      "     80        0.0208       \u001b[32m0.9465\u001b[0m            \u001b[35m0.9451\u001b[0m            \u001b[31m0.9465\u001b[0m        0.2400     +  6.0063\n",
      "     81        \u001b[36m0.0129\u001b[0m       0.9392            0.9374            0.9392        0.2759        5.9888\n",
      "     82        0.0162       0.9367            0.9354            0.9367        0.2954        5.9956\n",
      "     83        0.0176       0.9384            0.9370            0.9384        0.2911        6.0631\n",
      "     84        0.0129       0.9412            0.9394            0.9412        0.2926        6.0053\n",
      "     85        0.0208       0.9355            0.9342            0.9355        0.2726        6.0347\n",
      "     86        0.0159       0.9351            0.9338            0.9351        0.3106        6.0667\n",
      "     87        0.0135       0.9314            0.9298            0.9314        0.2985        6.0011\n",
      "     88        \u001b[36m0.0122\u001b[0m       0.9363            0.9349            0.9363        0.2729        6.0812\n",
      "     89        \u001b[36m0.0087\u001b[0m       0.9351            0.9336            0.9351        0.2882        5.9337\n",
      "     90        \u001b[36m0.0080\u001b[0m       0.9433            0.9416            0.9433        0.2816        6.0670\n",
      "     91        \u001b[36m0.0057\u001b[0m       0.9441            0.9427            0.9441        0.3020        6.0164\n",
      "     92        \u001b[36m0.0037\u001b[0m       0.9420            0.9406            0.9420        0.3199        6.1281\n",
      "     93        0.0043       0.9384            0.9369            0.9384        0.3555        6.0270\n",
      "     94        0.0089       0.9359            0.9345            0.9359        0.3344        6.1302\n",
      "     95        0.0041       0.9437            0.9421            0.9437        0.3241        5.9961\n",
      "     96        0.0062       0.9404            0.9388            0.9404        0.3058        6.0783\n",
      "     97        \u001b[36m0.0032\u001b[0m       0.9367            0.9352            0.9367        0.3673        5.9479\n",
      "     98        0.0061       0.9408            0.9391            0.9408        0.3479        6.0344\n",
      "     99        0.0069       0.9429            0.9413            0.9429        0.3008        6.0438\n",
      "    100        0.0054       0.9392            0.9375            0.9392        0.3199        6.0136\n",
      "    101        0.0040       0.9429            0.9412            0.9429        0.3392        5.9827\n",
      "    102        0.0087       0.9396            0.9378            0.9396        0.3492        5.9639\n",
      "    103        0.0045       0.9404            0.9389            0.9404        0.3282        5.9749\n",
      "    104        \u001b[36m0.0021\u001b[0m       0.9412            0.9396            0.9412        0.3467        5.9875\n",
      "    105        0.0023       0.9412            0.9396            0.9412        0.3481        6.0280\n",
      "    106        0.0025       0.9420            0.9405            0.9420        0.3680        6.0425\n",
      "    107        \u001b[36m0.0019\u001b[0m       0.9404            0.9389            0.9404        0.3719        6.0797\n",
      "    108        \u001b[36m0.0012\u001b[0m       0.9408            0.9392            0.9408        0.3738        6.0484\n",
      "    109        0.0021       0.9420            0.9403            0.9420        0.4166        6.0573\n",
      "    110        0.0041       0.9429            0.9415            0.9429        0.3625        6.0614\n",
      "    111        0.0024       0.9437            0.9422            0.9437        0.3632        6.0382\n",
      "    112        0.0014       0.9429            0.9414            0.9429        0.3819        6.0315\n",
      "    113        \u001b[36m0.0006\u001b[0m       0.9408            0.9393            0.9408        0.3984        5.9453\n",
      "    114        0.0014       0.9420            0.9405            0.9420        0.4259        6.0794\n",
      "    115        0.0009       0.9437            0.9421            0.9437        0.4068        5.9649\n",
      "    116        0.0021       0.9429            0.9415            0.9429        0.4058        5.9813\n",
      "    117        0.0016       0.9437            0.9422            0.9437        0.3963        5.9849\n",
      "    118        0.0020       0.9449            0.9435            0.9449        0.4083        5.9615\n",
      "    119        0.0024       0.9461            0.9446            0.9461        0.4189        6.0101\n",
      "    120        0.0013       0.9441            0.9426            0.9441        0.4149        5.9679\n",
      "    121        0.0015       0.9457            0.9443            0.9457        0.4001        5.9239\n",
      "    122        \u001b[36m0.0003\u001b[0m       \u001b[32m0.9473\u001b[0m            \u001b[35m0.9459\u001b[0m            \u001b[31m0.9473\u001b[0m        0.3993     +  5.9565\n",
      "    123        0.0004       0.9457            0.9442            0.9457        0.4167        6.0178\n",
      "    124        0.0008       0.9457            0.9442            0.9457        0.4175        6.0375\n",
      "    125        0.0005       0.9473            0.9459            0.9473        0.4269        6.0497\n",
      "    126        0.0009       0.9461            0.9447            0.9461        0.4332        6.0146\n",
      "    127        0.0005       0.9465            0.9450            0.9465        0.4401        6.0578\n",
      "    128        0.0004       0.9461            0.9446            0.9461        0.4492        6.1255\n",
      "    129        0.0007       0.9457            0.9442            0.9457        0.4626        6.1993\n",
      "    130        \u001b[36m0.0002\u001b[0m       0.9457            0.9443            0.9457        0.4633        6.0517\n",
      "    131        0.0003       0.9465            0.9450            0.9465        0.4562        6.1132\n",
      "    132        0.0006       0.9473            \u001b[35m0.9460\u001b[0m            0.9473        0.4686     +  6.1059\n",
      "    133        0.0009       0.9461            0.9446            0.9461        0.4733        6.0977\n",
      "    134        0.0009       0.9469            0.9455            0.9469        0.4650        6.0644\n",
      "    135        0.0003       0.9457            0.9443            0.9457        0.4622        6.0968\n",
      "    136        \u001b[36m0.0002\u001b[0m       0.9465            0.9451            0.9465        0.4761        6.0769\n",
      "    137        0.0007       0.9461            0.9448            0.9461        0.4711        6.0414\n",
      "    138        0.0008       0.9469            0.9455            0.9469        0.4558        6.0641\n",
      "    139        0.0014       0.9449            0.9434            0.9449        0.4524        6.1272\n",
      "    140        0.0010       0.9453            0.9439            0.9453        0.4475        6.0615\n",
      "    141        \u001b[36m0.0001\u001b[0m       0.9453            0.9438            0.9453        0.4461        6.0403\n",
      "    142        0.0003       0.9437            0.9422            0.9437        0.4735        6.0430\n",
      "    143        0.0005       0.9453            0.9438            0.9453        0.4666        6.0773\n",
      "    144        0.0002       0.9457            0.9442            0.9457        0.4551        6.0622\n",
      "    145        0.0006       0.9461            0.9446            0.9461        0.4706        6.0758\n",
      "    146        \u001b[36m0.0001\u001b[0m       0.9453            0.9439            0.9453        0.4711        6.1375\n",
      "    147        0.0005       0.9445            0.9431            0.9445        0.4684        6.0497\n",
      "    148        0.0002       0.9449            0.9434            0.9449        0.4724        6.0806\n",
      "    149        0.0001       0.9449            0.9434            0.9449        0.4699        6.1275\n",
      "    150        0.0001       0.9461            0.9446            0.9461        0.4703        6.1003\n",
      "    151        0.0002       0.9457            0.9442            0.9457        0.4783        6.1596\n",
      "    152        0.0001       0.9441            0.9425            0.9441        0.4713        6.0792\n",
      "    153        0.0002       0.9461            0.9447            0.9461        0.4743        6.0126\n",
      "    154        0.0007       0.9437            0.9421            0.9437        0.4769        6.0191\n",
      "    155        0.0007       0.9445            0.9431            0.9445        0.4638        6.0977\n"
     ]
    },
    {
     "name": "stdout",
     "output_type": "stream",
     "text": [
      "    156        0.0008       0.9469            0.9454            0.9469        0.4620        6.0792\n",
      "    157        0.0001       0.9441            0.9426            0.9441        0.4638        6.0185\n",
      "    158        0.0001       0.9441            0.9426            0.9441        0.4733        6.0753\n",
      "    159        0.0001       0.9453            0.9438            0.9453        0.4698        6.0587\n",
      "    160        0.0007       0.9461            0.9446            0.9461        0.4708        6.0665\n",
      "    161        0.0007       0.9449            0.9434            0.9449        0.4606        6.0654\n",
      "    162        0.0003       0.9445            0.9430            0.9445        0.4612        6.0063\n",
      "    163        0.0001       0.9461            0.9446            0.9461        0.4567        6.3868\n",
      "    164        0.0010       0.9457            0.9443            0.9457        0.4652        6.0861\n",
      "    165        0.0009       0.9445            0.9430            0.9445        0.4624        6.0437\n",
      "    166        0.0001       0.9457            0.9443            0.9457        0.4591        6.1311\n",
      "    167        0.0002       0.9457            0.9443            0.9457        0.4537        6.1991\n",
      "    168        0.0005       0.9441            0.9426            0.9441        0.4739        6.0626\n",
      "    169        0.0003       0.9457            0.9443            0.9457        0.4640        6.3497\n",
      "    170        0.0002       0.9461            0.9447            0.9461        0.4579        6.0634\n",
      "    171        0.0001       0.9453            0.9439            0.9453        0.4632        6.2904\n",
      "    172        0.0012       0.9457            0.9442            0.9457        0.4673        6.2539\n",
      "    173        0.0001       0.9453            0.9438            0.9453        0.4612        6.2968\n",
      "    174        \u001b[36m0.0000\u001b[0m       0.9469            0.9455            0.9469        0.4697        6.2731\n",
      "    175        0.0001       0.9457            0.9442            0.9457        0.4611        6.1896\n",
      "    176        0.0001       0.9461            0.9446            0.9461        0.4617        6.3772\n",
      "    177        0.0003       0.9465            0.9451            0.9465        0.4687        6.2930\n",
      "    178        \u001b[36m0.0000\u001b[0m       0.9445            0.9430            0.9445        0.4756        6.3377\n",
      "    179        0.0002       0.9449            0.9434            0.9449        0.4662        6.2868\n",
      "    180        0.0003       0.9453            0.9438            0.9453        0.4743        6.2440\n",
      "    181        0.0002       0.9445            0.9430            0.9445        0.4672        6.2991\n",
      "Stopping since valid_f1_macro has not improved in the last 50 epochs.\n"
     ]
    }
   ],
   "source": [
    "net = net.fit(train_dataset, y = None)"
   ]
  },
  {
   "cell_type": "code",
   "execution_count": 32,
   "metadata": {},
   "outputs": [
    {
     "data": {
      "text/plain": [
       "<All keys matched successfully>"
      ]
     },
     "execution_count": 32,
     "metadata": {},
     "output_type": "execute_result"
    }
   ],
   "source": [
    "net.module.load_state_dict(torch.load('apoptotic_cells_DL_fold5.pth')) "
   ]
  },
  {
   "cell_type": "markdown",
   "metadata": {},
   "source": [
    "\n",
    "\n",
    "lets take a look the prediction pefromance for the validation set"
   ]
  },
  {
   "cell_type": "code",
   "execution_count": 33,
   "metadata": {},
   "outputs": [
    {
     "name": "stdout",
     "output_type": "stream",
     "text": [
      "               precision    recall  f1-score   support\n",
      "\n",
      "    apoptotic       0.96      0.95      0.95      1422\n",
      "non-apoptotic       0.93      0.94      0.94      1028\n",
      "\n",
      "     accuracy                           0.95      2450\n",
      "    macro avg       0.95      0.95      0.95      2450\n",
      " weighted avg       0.95      0.95      0.95      2450\n",
      "\n",
      "------------------------------------------------------------\n",
      "matthews correlation coeff: 0.89\n",
      "Cohen Kappa score: 0.89\n",
      "Accuracy: 0.95 & balanced Accuracy: 0.95\n",
      "macro F1 score: 0.95 & micro F1 score: 0.95\n",
      "macro Precision score: 0.95 & micro Precision score: 0.95\n",
      "macro Recall score: 0.95 & micro Recall score: 0.95\n",
      "------------------------------------------------------------\n"
     ]
    }
   ],
   "source": [
    "inv_label_map = {v: k for k, v in label_map.items()}\n",
    "\n",
    "preds = net.predict(validation_dataset)\n",
    "preds =  [inv_label_map[int(t)] for t in preds]\n",
    "\n",
    "classification_complete_report(validation_dataset.metadata.label, \n",
    "                               preds  )"
   ]
  },
  {
   "cell_type": "markdown",
   "metadata": {},
   "source": [
    "and finally for the test set"
   ]
  },
  {
   "cell_type": "code",
   "execution_count": 34,
   "metadata": {},
   "outputs": [
    {
     "name": "stdout",
     "output_type": "stream",
     "text": [
      "               precision    recall  f1-score   support\n",
      "\n",
      "    apoptotic       0.96      0.94      0.95      1776\n",
      "non-apoptotic       0.91      0.95      0.93      1286\n",
      "\n",
      "     accuracy                           0.94      3062\n",
      "    macro avg       0.94      0.94      0.94      3062\n",
      " weighted avg       0.94      0.94      0.94      3062\n",
      "\n",
      "------------------------------------------------------------\n",
      "matthews correlation coeff: 0.88\n",
      "Cohen Kappa score: 0.88\n",
      "Accuracy: 0.94 & balanced Accuracy: 0.94\n",
      "macro F1 score: 0.94 & micro F1 score: 0.94\n",
      "macro Precision score: 0.94 & micro Precision score: 0.94\n",
      "macro Recall score: 0.94 & micro Recall score: 0.94\n",
      "------------------------------------------------------------\n"
     ]
    }
   ],
   "source": [
    "preds = net.predict(test_dataset)\n",
    "preds =  [inv_label_map[int(t)] for t in preds]\n",
    "\n",
    "classification_complete_report(test_dataset.metadata.label, \n",
    "                               preds  )"
   ]
  },
  {
   "cell_type": "code",
   "execution_count": null,
   "metadata": {},
   "outputs": [],
   "source": []
  },
  {
   "cell_type": "code",
   "execution_count": 35,
   "metadata": {},
   "outputs": [],
   "source": [
    "performance_with_all_channels = pd.read_csv(\"performance_with_all_channels.csv\")\n",
    "\n",
    "performance_with_all_channels.loc[main_fold,\"accuracy\"] = accuracy_score(test_dataset.metadata.label, preds)\n",
    "performance_with_all_channels.loc[main_fold,\"f1_macro\"] = f1_score(test_dataset.metadata.label, preds, average=\"macro\")\n",
    "performance_with_all_channels.loc[main_fold,\"f1_micro\"] = f1_score(test_dataset.metadata.label, preds, average=\"micro\")\n",
    "\n",
    "performance_with_all_channels.to_csv(\"performance_with_all_channels.csv\", index = False)"
   ]
  },
  {
   "cell_type": "code",
   "execution_count": 36,
   "metadata": {},
   "outputs": [],
   "source": [
    "model = net.module_\n",
    "net = None\n",
    "torch.cuda.empty_cache()"
   ]
  },
  {
   "cell_type": "markdown",
   "metadata": {},
   "source": [
    "### Model Interpretation"
   ]
  },
  {
   "cell_type": "code",
   "execution_count": 37,
   "metadata": {},
   "outputs": [],
   "source": [
    "# where to save results\n",
    "model_name = \"resnet18\"\n",
    "dataset_name = \"apoptotic vs. non-apoptotic\""
   ]
  },
  {
   "cell_type": "markdown",
   "metadata": {},
   "source": [
    "#### Pixel-Permutation Tests"
   ]
  },
  {
   "cell_type": "code",
   "execution_count": 38,
   "metadata": {},
   "outputs": [],
   "source": [
    "from time import process_time"
   ]
  },
  {
   "cell_type": "code",
   "execution_count": 39,
   "metadata": {},
   "outputs": [],
   "source": [
    "\n",
    "test_loader = DataLoader(test_dataset, batch_size=batch_size, shuffle=False, num_workers=num_workers)"
   ]
  },
  {
   "cell_type": "code",
   "execution_count": 40,
   "metadata": {},
   "outputs": [],
   "source": [
    "correct = 0.\n",
    "total = 0.\n",
    "y_true = list()\n",
    "y_pred = list()\n",
    "y_true_proba = list()\n",
    "with torch.no_grad():\n",
    "    for data in test_loader:\n",
    "        inputs, labels = data[0].to(device).float(), data[1].to(device).long()\n",
    "        outputs = model(inputs)\n",
    "        pred = outputs.argmax(dim=1)\n",
    "        true_proba = np.array([j[i] for (i,j) in zip(pred, outputs.cpu())])\n",
    "        _, predicted = torch.max(outputs.data, 1)\n",
    "        total += labels.size(0)\n",
    "        correct += (labels.reshape(-1) == predicted).sum().item()\n",
    "        for i in range(len(pred)):\n",
    "            y_true.append(labels[i].item())\n",
    "            y_pred.append(pred[i].item())\n",
    "            y_true_proba.append(true_proba[i].item())"
   ]
  },
  {
   "cell_type": "code",
   "execution_count": 41,
   "metadata": {},
   "outputs": [],
   "source": [
    "class_names_targets = [c for c in label_map.keys()]"
   ]
  },
  {
   "cell_type": "code",
   "execution_count": 42,
   "metadata": {},
   "outputs": [
    {
     "name": "stdout",
     "output_type": "stream",
     "text": [
      "               precision    recall  f1-score   support\n",
      "\n",
      "    apoptotic       0.96      0.94      0.95      1776\n",
      "non-apoptotic       0.91      0.95      0.93      1286\n",
      "\n",
      "     accuracy                           0.94      3062\n",
      "    macro avg       0.94      0.94      0.94      3062\n",
      " weighted avg       0.94      0.94      0.94      3062\n",
      "\n"
     ]
    }
   ],
   "source": [
    "print(classification_report(y_true, y_pred, target_names=class_names_targets, digits=2))"
   ]
  },
  {
   "cell_type": "code",
   "execution_count": 43,
   "metadata": {},
   "outputs": [
    {
     "name": "stderr",
     "output_type": "stream",
     "text": [
      "100%|██████████| 100/100 [02:30<00:00,  1.51s/it]\n",
      "100%|██████████| 100/100 [02:29<00:00,  1.49s/it]"
     ]
    },
    {
     "name": "stdout",
     "output_type": "stream",
     "text": [
      "Candidate channel  to remove is 0\n"
     ]
    },
    {
     "name": "stderr",
     "output_type": "stream",
     "text": [
      "\n"
     ]
    },
    {
     "data": {
      "image/png": "[encoded data removed]",
      "text/plain": [
       "<Figure size 720x360 with 1 Axes>"
      ]
     },
     "metadata": {
      "needs_background": "light"
     },
     "output_type": "display_data"
    },
    {
     "data": {
      "image/png": "[encoded data removed]",
      "text/plain": [
       "<Figure size 720x360 with 1 Axes>"
      ]
     },
     "metadata": {
      "needs_background": "light"
     },
     "output_type": "display_data"
    }
   ],
   "source": [
    "t1_start = process_time()\n",
    "f1_score_original = f1_score(y_true, y_pred, average=None, labels=np.arange(num_classes))\n",
    "min_mean_dif = 1.0\n",
    "candidate = 0\n",
    "shuffle_times = 100\n",
    "df_all = pd.DataFrame([], columns=class_names_targets)\n",
    "for c in range(num_channels):\n",
    "    f1_score_diff_from_original_per_channel_per_shuffle = []\n",
    "    transform = test_transform.copy()\n",
    "    transform.append(ShuffleChannel(channels_to_shuffle=[c]))\n",
    "    for s in tqdm(range(shuffle_times)):\n",
    "        dataset = DatasetGenerator(metadata=metadata.loc[test_index,:],\n",
    "                                 label_map=label_map,\n",
    "                                 selected_channels=selected_channels,\n",
    "                                 scaling_factor=scaling_factor,\n",
    "                                 reshape_size=reshape_size,\n",
    "                                 transform=transforms.Compose(transform))\n",
    "        dataloader = DataLoader(dataset,\n",
    "                                batch_size=batch_size,\n",
    "                                shuffle=False,\n",
    "                                num_workers=num_workers)\n",
    "        y_true = list()\n",
    "        y_pred = list()\n",
    "        with torch.no_grad():\n",
    "            for data in dataloader:\n",
    "                inputs, labels = data[0].to(device).float(), data[1].to(device).reshape(-1).long()\n",
    "                outputs = model(inputs)\n",
    "                pred = outputs.argmax(dim=1)\n",
    "                for i in range(len(pred)):\n",
    "                    y_true.append(labels[i].item())\n",
    "                    y_pred.append(pred[i].item())\n",
    "            f1_score_per_channel = f1_score(y_true, y_pred, average=None, labels=np.arange(num_classes))\n",
    "            f1_score_diff_from_original_per_channel_per_shuffle.append(f1_score_original - f1_score_per_channel)\n",
    "    mean_along_columns = np.mean(f1_score_diff_from_original_per_channel_per_shuffle, axis=0)\n",
    "    mean_dif = np.mean(mean_along_columns)\n",
    "    if mean_dif < min_mean_dif and mean_dif > 0 and not selected_channels[c]:\n",
    "        min_mean_dif = mean_dif\n",
    "        candidate = selected_channels[c]\n",
    "    df_diff = pd.DataFrame(np.atleast_2d(f1_score_diff_from_original_per_channel_per_shuffle), columns=class_names_targets)\n",
    "    df_mean_diff = pd.DataFrame(np.atleast_2d(mean_along_columns), columns=class_names_targets)\n",
    "    df_all = pd.concat([df_all, df_mean_diff], ignore_index=True, sort=False)\n",
    "    fig, ax = plt.subplots(figsize=(10, 5))\n",
    "    ax = df_diff.boxplot()\n",
    "    ax.set_xticklabels(class_names_targets, rotation=45)\n",
    "    #fig.savefig(os.path.join(\"results\",model_name, \"{}-shuffle_method-model-{}-channel-{}.png\".format(dataset_name, str(model_name), str(selected_channels[c]))))\n",
    "print(\"Candidate channel  to remove is {}\".format(candidate))"
   ]
  },
  {
   "cell_type": "code",
   "execution_count": 44,
   "metadata": {},
   "outputs": [
    {
     "data": {
      "text/plain": [
       "<BarContainer object of 2 artists>"
      ]
     },
     "execution_count": 44,
     "metadata": {},
     "output_type": "execute_result"
    },
    {
     "data": {
      "image/png": "[encoded data removed]",
      "text/plain": [
       "<Figure size 432x288 with 1 Axes>"
      ]
     },
     "metadata": {
      "needs_background": "light"
     },
     "output_type": "display_data"
    }
   ],
   "source": [
    "plt.bar(channels[selected_channels], df_all.T.mean(), color='Grey')\n",
    "#plt.savefig(os.path.join(\"results\",model_name, \"{}-pixel-permutation-method-model-all-{}.svg\".format(dataset_name, str(\"resnet_all\"))))"
   ]
  },
  {
   "cell_type": "code",
   "execution_count": 45,
   "metadata": {},
   "outputs": [],
   "source": [
    "channel_ranking_pixel_permutation = pd.DataFrame(data={'channels': channels[np.asarray(selected_channels)], 'importance': df_all.T.mean().to_numpy()})"
   ]
  },
  {
   "cell_type": "code",
   "execution_count": null,
   "metadata": {},
   "outputs": [],
   "source": []
  },
  {
   "cell_type": "code",
   "execution_count": null,
   "metadata": {},
   "outputs": [],
   "source": []
  },
  {
   "cell_type": "code",
   "execution_count": 46,
   "metadata": {},
   "outputs": [],
   "source": [
    "from captum.attr import (\n",
    "    GuidedGradCam,\n",
    "    DeepLift,\n",
    "    Saliency,\n",
    "    DeepLiftShap,\n",
    "    GradientShap,\n",
    "    InputXGradient,\n",
    "    IntegratedGradients,\n",
    "    GuidedBackprop,\n",
    "    Deconvolution,\n",
    "    Occlusion,\n",
    "    FeaturePermutation,\n",
    "    ShapleyValueSampling,\n",
    "    Lime,\n",
    "    KernelShap,\n",
    "    LRP\n",
    ")\n",
    "from time import process_time"
   ]
  },
  {
   "cell_type": "code",
   "execution_count": 47,
   "metadata": {},
   "outputs": [],
   "source": [
    "def run_interpretation_method(ablator, method_name, require_baseline=False, require_sliding_window=False):\n",
    "    t1_start = process_time()\n",
    "    dataset = DatasetGenerator(metadata=metadata.loc[test_index,:],\n",
    "                                     label_map=label_map,\n",
    "                                     selected_channels=selected_channels,\n",
    "                                     scaling_factor=scaling_factor,\n",
    "                                     reshape_size=reshape_size,\n",
    "                                     transform=transforms.Compose(test_transform))\n",
    "    testloader = DataLoader(test_dataset,\n",
    "                                    batch_size=batch_size,\n",
    "                                    shuffle=False,\n",
    "                                    num_workers=num_workers)\n",
    "\n",
    "    heatmaps = torch.empty(0, dtype=torch.float32, device=device)\n",
    "    with torch.no_grad():\n",
    "        for data in testloader:\n",
    "            inputs, labels = data[0].to(device).float(), data[1].to(device).reshape(-1).long()\n",
    "            if require_baseline:\n",
    "                baselines=torch.zeros(inputs.shape).to(device)\n",
    "                attr = ablator.attribute(inputs, target=labels, baselines=baselines)\n",
    "            elif require_sliding_window:\n",
    "                attr = ablator.attribute(inputs, target=labels, sliding_window_shapes=(1,3,3))\n",
    "            else:\n",
    "                attr = ablator.attribute(inputs, target=labels)\n",
    "            heatmaps = torch.cat((heatmaps,  torch.from_numpy(np.percentile(torch.flatten(attr, start_dim=-2).cpu().numpy(), q=50, axis=-1)).to(device)))\n",
    "    heatmaps_mean = torch.mean(heatmaps, dim=0)\n",
    "    plt.bar(channels, heatmaps_mean.cpu(), color='grey')\n",
    "    #plt.savefig(os.path.join(\"results\", \"resnet_all\", \"{}-{}_method-model-50-percentile-{}.png\".format(dataset_name, method_name, str(\"resnet_all\"))))\n",
    "\n",
    "    t1_stop = process_time()\n",
    "    print(\"Elapsed time:\", t1_stop, t1_start) \n",
    "\n",
    "    print(\"Elapsed time during the whole program in seconds:\",\n",
    "                                             t1_stop-t1_start)\n",
    "    return heatmaps_mean"
   ]
  },
  {
   "cell_type": "code",
   "execution_count": 48,
   "metadata": {},
   "outputs": [],
   "source": [
    "# DeepLift"
   ]
  },
  {
   "cell_type": "code",
   "execution_count": 49,
   "metadata": {},
   "outputs": [
    {
     "name": "stdout",
     "output_type": "stream",
     "text": [
      "Elapsed time: 727.920481267 726.285853795\n",
      "Elapsed time during the whole program in seconds: 1.6346274720000338\n"
     ]
    },
    {
     "data": {
      "image/png": "[encoded data removed]",
      "text/plain": [
       "<Figure size 432x288 with 1 Axes>"
      ]
     },
     "metadata": {
      "needs_background": "light"
     },
     "output_type": "display_data"
    }
   ],
   "source": [
    "dl = DeepLift(model)\n",
    "heatmaps_deeplift_mean = run_interpretation_method(dl, 'dl')"
   ]
  },
  {
   "cell_type": "code",
   "execution_count": null,
   "metadata": {},
   "outputs": [],
   "source": []
  },
  {
   "cell_type": "code",
   "execution_count": 50,
   "metadata": {},
   "outputs": [],
   "source": [
    "# Saliency"
   ]
  },
  {
   "cell_type": "code",
   "execution_count": 51,
   "metadata": {},
   "outputs": [
    {
     "name": "stdout",
     "output_type": "stream",
     "text": [
      "Elapsed time: 729.155233689 728.026128576\n",
      "Elapsed time during the whole program in seconds: 1.129105113000037\n"
     ]
    },
    {
     "data": {
      "image/png": "[encoded data removed]",
      "text/plain": [
       "<Figure size 432x288 with 1 Axes>"
      ]
     },
     "metadata": {
      "needs_background": "light"
     },
     "output_type": "display_data"
    }
   ],
   "source": [
    "saliency = Saliency(model)\n",
    "heatmaps_saliency_mean = run_interpretation_method(saliency, 'saliency')"
   ]
  },
  {
   "cell_type": "code",
   "execution_count": 52,
   "metadata": {},
   "outputs": [],
   "source": [
    "# IntegratedGradients"
   ]
  },
  {
   "cell_type": "code",
   "execution_count": 53,
   "metadata": {},
   "outputs": [
    {
     "name": "stdout",
     "output_type": "stream",
     "text": [
      "Elapsed time: 750.033193845 729.261659102\n",
      "Elapsed time during the whole program in seconds: 20.771534743000075\n"
     ]
    },
    {
     "data": {
      "image/png": "[encoded data removed]",
      "text/plain": [
       "<Figure size 432x288 with 1 Axes>"
      ]
     },
     "metadata": {
      "needs_background": "light"
     },
     "output_type": "display_data"
    }
   ],
   "source": [
    "ig = IntegratedGradients(model)\n",
    "heatmaps_integrated_gradient_mean = run_interpretation_method(ig, 'IntegratedGradients')"
   ]
  },
  {
   "cell_type": "code",
   "execution_count": 54,
   "metadata": {},
   "outputs": [],
   "source": [
    "# LRP"
   ]
  },
  {
   "cell_type": "code",
   "execution_count": 55,
   "metadata": {},
   "outputs": [
    {
     "name": "stdout",
     "output_type": "stream",
     "text": [
      "Elapsed time: 751.51148142 750.135149231\n",
      "Elapsed time during the whole program in seconds: 1.3763321889999816\n"
     ]
    },
    {
     "data": {
      "image/png": "[encoded data removed]",
      "text/plain": [
       "<Figure size 432x288 with 1 Axes>"
      ]
     },
     "metadata": {
      "needs_background": "light"
     },
     "output_type": "display_data"
    }
   ],
   "source": [
    "lrp = LRP(model)\n",
    "heatmaps_lrp_mean = run_interpretation_method(lrp, 'LRP')"
   ]
  },
  {
   "cell_type": "code",
   "execution_count": 56,
   "metadata": {},
   "outputs": [],
   "source": [
    "# GuidedGradCAM"
   ]
  },
  {
   "cell_type": "code",
   "execution_count": 57,
   "metadata": {},
   "outputs": [
    {
     "name": "stdout",
     "output_type": "stream",
     "text": [
      "Elapsed time: 753.333740691 751.615924529\n",
      "Elapsed time during the whole program in seconds: 1.7178161619999628\n"
     ]
    },
    {
     "data": {
      "image/png": "[encoded data removed]",
      "text/plain": [
       "<Figure size 432x288 with 1 Axes>"
      ]
     },
     "metadata": {
      "needs_background": "light"
     },
     "output_type": "display_data"
    }
   ],
   "source": [
    "guided_cram = GuidedGradCam(model, model.model.layer1)\n",
    "heatmaps_gradcam_mean = run_interpretation_method(guided_cram, 'GuidedGradCam')"
   ]
  },
  {
   "cell_type": "code",
   "execution_count": 58,
   "metadata": {},
   "outputs": [
    {
     "data": {
      "text/html": [
       "<div>\n",
       "<style scoped>\n",
       "    .dataframe tbody tr th:only-of-type {\n",
       "        vertical-align: middle;\n",
       "    }\n",
       "\n",
       "    .dataframe tbody tr th {\n",
       "        vertical-align: top;\n",
       "    }\n",
       "\n",
       "    .dataframe thead th {\n",
       "        text-align: right;\n",
       "    }\n",
       "</style>\n",
       "<table border=\"1\" class=\"dataframe\">\n",
       "  <thead>\n",
       "    <tr style=\"text-align: right;\">\n",
       "      <th></th>\n",
       "      <th>channels</th>\n",
       "      <th>importance</th>\n",
       "    </tr>\n",
       "  </thead>\n",
       "  <tbody>\n",
       "    <tr>\n",
       "      <th>0</th>\n",
       "      <td>Ch0</td>\n",
       "      <td>-0.000271</td>\n",
       "    </tr>\n",
       "    <tr>\n",
       "      <th>1</th>\n",
       "      <td>Ch1</td>\n",
       "      <td>0.461033</td>\n",
       "    </tr>\n",
       "  </tbody>\n",
       "</table>\n",
       "</div>"
      ],
      "text/plain": [
       "  channels  importance\n",
       "0      Ch0   -0.000271\n",
       "1      Ch1    0.461033"
      ]
     },
     "execution_count": 58,
     "metadata": {},
     "output_type": "execute_result"
    }
   ],
   "source": [
    "channel_ranking_pixel_permutation"
   ]
  },
  {
   "cell_type": "markdown",
   "metadata": {},
   "source": [
    "5fold CV on the data and get the importance per fold for statistical evaluation\n",
    "    \n",
    "our result is in alignment with the original paper. On the other hand, guided gradcam failed"
   ]
  },
  {
   "cell_type": "code",
   "execution_count": 59,
   "metadata": {},
   "outputs": [],
   "source": [
    "channel_importance = pd.read_csv(\"channel_importance.csv\")\n",
    "\n",
    "channel_importance_fold = pd.DataFrame(columns = channel_importance.columns)\n",
    "\n",
    "channel_importance_fold[\"channel\"] = channels\n",
    "channel_importance_fold[\"fold\"] = main_fold\n",
    "channel_importance_fold[\"PXPermute\"] = channel_ranking_pixel_permutation[\"importance\"]\n",
    "channel_importance_fold[\"DeepLift\"] = heatmaps_deeplift_mean.cpu().numpy()\n",
    "channel_importance_fold[\"IntegratedGradients\"] = heatmaps_integrated_gradient_mean.cpu().numpy()\n",
    "channel_importance_fold[\"LRP\"] = heatmaps_lrp_mean.cpu().numpy()\n",
    "channel_importance_fold[\"GuidedGradCAM\"] = heatmaps_gradcam_mean.cpu().numpy()\n",
    "\n",
    "channel_importance = channel_importance.append(channel_importance_fold, ignore_index = True)\n",
    "\n",
    "channel_importance.to_csv(\"channel_importance.csv\", index = False)"
   ]
  },
  {
   "cell_type": "code",
   "execution_count": null,
   "metadata": {},
   "outputs": [],
   "source": []
  },
  {
   "cell_type": "code",
   "execution_count": null,
   "metadata": {},
   "outputs": [],
   "source": []
  }
 ],
 "metadata": {
  "kernelspec": {
   "display_name": "py310",
   "language": "python",
   "name": "py310"
  },
  "language_info": {
   "codemirror_mode": {
    "name": "ipython",
    "version": 3
   },
   "file_extension": ".py",
   "mimetype": "text/x-python",
   "name": "python",
   "nbconvert_exporter": "python",
   "pygments_lexer": "ipython3",
   "version": "3.8.3"
  },
  "vscode": {
   "interpreter": {
    "hash": "dc85c72049d21f557e30689d2619ffc4ab3f684c40ae26d281fe4539bf4644b2"
   }
  }
 },
 "nbformat": 4,
 "nbformat_minor": 5
}
