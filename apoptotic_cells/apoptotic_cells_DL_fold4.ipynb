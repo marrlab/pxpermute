{
 "cells": [
  {
   "cell_type": "markdown",
   "metadata": {},
   "source": [
    "# Classification of Apoptotic cells\n",
    "\n",
    "In this jupyter notebook, we provide an example of how to extract explainable features and run a classification for the imaging flow cytometry dataset provided by:\n",
    "\n",
    "In vivo identification of apoptotic and extracellular vesicle-bound live cells using image-based deep learning https://doi.org/10.1080%2F20013078.2020.1792683\n",
    "\n",
    "\n",
    "We assume you have already installed the library. Otherwise you can install it using \n",
    "\n",
    "`!pip -q install <Path to the cloned module>`\n",
    "\n",
    "This notebook provides an example for deep learning methods"
   ]
  },
  {
   "cell_type": "markdown",
   "metadata": {},
   "source": [
    "here we import a series of needed modules. "
   ]
  },
  {
   "cell_type": "code",
   "execution_count": 1,
   "metadata": {},
   "outputs": [],
   "source": [
    "import scifAI\n",
    "import numpy as np\n",
    "from sklearn.datasets import make_classification\n",
    "import torch.nn as nn\n",
    "from skorch import NeuralNetClassifier\n",
    "import matplotlib.pyplot as plt\n",
    "import glob\n",
    "from imageio import imread\n",
    "# Ignore warnings\n",
    "import warnings\n",
    "warnings.filterwarnings(\"ignore\")\n",
    "import os\n",
    "import numpy as np\n",
    "from tqdm import tqdm\n",
    "import pandas as pd\n",
    "from sklearn.ensemble import RandomForestClassifier\n",
    "from sklearn.metrics import classification_report\n",
    "import torch\n",
    "from torchvision import transforms\n",
    "from IPython.core.debugger import Tracer\n",
    "from torch.utils.data import DataLoader, Dataset\n",
    "from sklearn.pipeline import Pipeline, FeatureUnion\n",
    "# Compare Algorithms\n",
    "from sklearn.model_selection import train_test_split\n",
    "from imblearn.over_sampling import RandomOverSampler\n",
    "from sklearn.metrics import f1_score"
   ]
  },
  {
   "cell_type": "code",
   "execution_count": 2,
   "metadata": {},
   "outputs": [],
   "source": [
    "from scifAI.dl.utils import calculate_weights, train_validation_test_split, get_statistics\n",
    "from scifAI.dl.dataset import DatasetGenerator\n",
    "from scifAI.dl.custom_transforms import ShuffleChannel\n",
    "from scifAI.dl.models import PretrainedModel, resnet18"
   ]
  },
  {
   "cell_type": "code",
   "execution_count": 3,
   "metadata": {},
   "outputs": [],
   "source": [
    "from iflai.dl.models import PretrainedModel\n",
    "from skorch.callbacks import LRScheduler,Checkpoint,EpochScoring,EarlyStopping\n",
    "import torch.optim as optim\n",
    "from skorch.helper import predefined_split"
   ]
  },
  {
   "cell_type": "markdown",
   "metadata": {},
   "source": [
    "here, we provide a function for visualizing the result of the confusion matrix which will be used later."
   ]
  },
  {
   "cell_type": "code",
   "execution_count": 4,
   "metadata": {},
   "outputs": [],
   "source": [
    "from sklearn.metrics import (plot_confusion_matrix, \n",
    "                             matthews_corrcoef, \n",
    "                             classification_report,\n",
    "                             confusion_matrix, \n",
    "                             accuracy_score, \n",
    "                             balanced_accuracy_score, \n",
    "                             cohen_kappa_score, \n",
    "                             f1_score,  \n",
    "                             precision_score, recall_score)\n",
    "from imblearn.metrics import classification_report_imbalanced\n",
    "\n",
    "def classification_complete_report(y_true, y_pred, plot = True ): \n",
    "    print(classification_report(y_true, y_pred))\n",
    "    print(15*\"----\")\n",
    "    print(\"matthews correlation coeff: %.2f\" % (matthews_corrcoef(y_true, y_pred)) )\n",
    "    print(\"Cohen Kappa score: %.2f\" % (cohen_kappa_score(y_true, y_pred)) )\n",
    "    print(\"Accuracy: %.2f & balanced Accuracy: %.2f\" % (accuracy_score(y_true, y_pred), balanced_accuracy_score(y_true, y_pred)) )\n",
    "    print(\"macro F1 score: %.2f & micro F1 score: %.2f\" % (f1_score(y_true, y_pred, average = \"macro\"), f1_score(y_true, y_pred, average = \"micro\")) )\n",
    "    print(\"macro Precision score: %.2f & micro Precision score: %.2f\" % (precision_score(y_true, y_pred, average = \"macro\"), precision_score(y_true, y_pred, average = \"micro\")) )\n",
    "    print(\"macro Recall score: %.2f & micro Recall score: %.2f\" % (recall_score(y_true, y_pred, average = \"macro\"), recall_score(y_true, y_pred, average = \"micro\")) )\n",
    "    print(15*\"----\")\n",
    "    \n",
    "    "
   ]
  },
  {
   "cell_type": "markdown",
   "metadata": {},
   "source": [
    "now lets calculate the metadata:"
   ]
  },
  {
   "cell_type": "code",
   "execution_count": 5,
   "metadata": {},
   "outputs": [
    {
     "name": "stdout",
     "output_type": "stream",
     "text": [
      "Metadata prepration starts...\n",
      "Experiment_1 Donor_1 condition_1\n"
     ]
    },
    {
     "name": "stderr",
     "output_type": "stream",
     "text": [
      "100%|██████████| 15311/15311 [00:03<00:00, 4963.49it/s]\n"
     ]
    },
    {
     "name": "stdout",
     "output_type": "stream",
     "text": [
      "...metadata prepration ended.\n",
      "CPU times: user 257 ms, sys: 179 ms, total: 436 ms\n",
      "Wall time: 3.75 s\n"
     ]
    }
   ],
   "source": [
    "%%time\n",
    "\n",
    "data_path = \"/pstore/data/DS4/Apoptotic_cell_detection/\"\n",
    "metadata = scifAI.metadata_generator(data_path)"
   ]
  },
  {
   "cell_type": "code",
   "execution_count": 6,
   "metadata": {},
   "outputs": [
    {
     "data": {
      "text/html": [
       "<div>\n",
       "<style scoped>\n",
       "    .dataframe tbody tr th:only-of-type {\n",
       "        vertical-align: middle;\n",
       "    }\n",
       "\n",
       "    .dataframe tbody tr th {\n",
       "        vertical-align: top;\n",
       "    }\n",
       "\n",
       "    .dataframe thead th {\n",
       "        text-align: right;\n",
       "    }\n",
       "</style>\n",
       "<table border=\"1\" class=\"dataframe\">\n",
       "  <thead>\n",
       "    <tr style=\"text-align: right;\">\n",
       "      <th></th>\n",
       "      <th>file</th>\n",
       "      <th>experiment</th>\n",
       "      <th>donor</th>\n",
       "      <th>condition</th>\n",
       "      <th>object_number</th>\n",
       "      <th>set</th>\n",
       "      <th>label</th>\n",
       "    </tr>\n",
       "  </thead>\n",
       "  <tbody>\n",
       "    <tr>\n",
       "      <th>0</th>\n",
       "      <td>/pstore/data/DS4/Apoptotic_cell_detection/Expe...</td>\n",
       "      <td>Experiment_1</td>\n",
       "      <td>Donor_1</td>\n",
       "      <td>condition_1</td>\n",
       "      <td>822</td>\n",
       "      <td>labeled</td>\n",
       "      <td>apoptotic</td>\n",
       "    </tr>\n",
       "    <tr>\n",
       "      <th>1</th>\n",
       "      <td>/pstore/data/DS4/Apoptotic_cell_detection/Expe...</td>\n",
       "      <td>Experiment_1</td>\n",
       "      <td>Donor_1</td>\n",
       "      <td>condition_1</td>\n",
       "      <td>12187</td>\n",
       "      <td>labeled</td>\n",
       "      <td>non-apoptotic</td>\n",
       "    </tr>\n",
       "    <tr>\n",
       "      <th>2</th>\n",
       "      <td>/pstore/data/DS4/Apoptotic_cell_detection/Expe...</td>\n",
       "      <td>Experiment_1</td>\n",
       "      <td>Donor_1</td>\n",
       "      <td>condition_1</td>\n",
       "      <td>2295</td>\n",
       "      <td>labeled</td>\n",
       "      <td>apoptotic</td>\n",
       "    </tr>\n",
       "    <tr>\n",
       "      <th>3</th>\n",
       "      <td>/pstore/data/DS4/Apoptotic_cell_detection/Expe...</td>\n",
       "      <td>Experiment_1</td>\n",
       "      <td>Donor_1</td>\n",
       "      <td>condition_1</td>\n",
       "      <td>14306</td>\n",
       "      <td>labeled</td>\n",
       "      <td>non-apoptotic</td>\n",
       "    </tr>\n",
       "    <tr>\n",
       "      <th>4</th>\n",
       "      <td>/pstore/data/DS4/Apoptotic_cell_detection/Expe...</td>\n",
       "      <td>Experiment_1</td>\n",
       "      <td>Donor_1</td>\n",
       "      <td>condition_1</td>\n",
       "      <td>2584</td>\n",
       "      <td>labeled</td>\n",
       "      <td>apoptotic</td>\n",
       "    </tr>\n",
       "    <tr>\n",
       "      <th>...</th>\n",
       "      <td>...</td>\n",
       "      <td>...</td>\n",
       "      <td>...</td>\n",
       "      <td>...</td>\n",
       "      <td>...</td>\n",
       "      <td>...</td>\n",
       "      <td>...</td>\n",
       "    </tr>\n",
       "    <tr>\n",
       "      <th>15306</th>\n",
       "      <td>/pstore/data/DS4/Apoptotic_cell_detection/Expe...</td>\n",
       "      <td>Experiment_1</td>\n",
       "      <td>Donor_1</td>\n",
       "      <td>condition_1</td>\n",
       "      <td>10365</td>\n",
       "      <td>labeled</td>\n",
       "      <td>apoptotic</td>\n",
       "    </tr>\n",
       "    <tr>\n",
       "      <th>15307</th>\n",
       "      <td>/pstore/data/DS4/Apoptotic_cell_detection/Expe...</td>\n",
       "      <td>Experiment_1</td>\n",
       "      <td>Donor_1</td>\n",
       "      <td>condition_1</td>\n",
       "      <td>2952</td>\n",
       "      <td>labeled</td>\n",
       "      <td>apoptotic</td>\n",
       "    </tr>\n",
       "    <tr>\n",
       "      <th>15308</th>\n",
       "      <td>/pstore/data/DS4/Apoptotic_cell_detection/Expe...</td>\n",
       "      <td>Experiment_1</td>\n",
       "      <td>Donor_1</td>\n",
       "      <td>condition_1</td>\n",
       "      <td>7308</td>\n",
       "      <td>labeled</td>\n",
       "      <td>non-apoptotic</td>\n",
       "    </tr>\n",
       "    <tr>\n",
       "      <th>15309</th>\n",
       "      <td>/pstore/data/DS4/Apoptotic_cell_detection/Expe...</td>\n",
       "      <td>Experiment_1</td>\n",
       "      <td>Donor_1</td>\n",
       "      <td>condition_1</td>\n",
       "      <td>3211</td>\n",
       "      <td>labeled</td>\n",
       "      <td>apoptotic</td>\n",
       "    </tr>\n",
       "    <tr>\n",
       "      <th>15310</th>\n",
       "      <td>/pstore/data/DS4/Apoptotic_cell_detection/Expe...</td>\n",
       "      <td>Experiment_1</td>\n",
       "      <td>Donor_1</td>\n",
       "      <td>condition_1</td>\n",
       "      <td>3500</td>\n",
       "      <td>labeled</td>\n",
       "      <td>apoptotic</td>\n",
       "    </tr>\n",
       "  </tbody>\n",
       "</table>\n",
       "<p>15311 rows × 7 columns</p>\n",
       "</div>"
      ],
      "text/plain": [
       "                                                    file    experiment  \\\n",
       "0      /pstore/data/DS4/Apoptotic_cell_detection/Expe...  Experiment_1   \n",
       "1      /pstore/data/DS4/Apoptotic_cell_detection/Expe...  Experiment_1   \n",
       "2      /pstore/data/DS4/Apoptotic_cell_detection/Expe...  Experiment_1   \n",
       "3      /pstore/data/DS4/Apoptotic_cell_detection/Expe...  Experiment_1   \n",
       "4      /pstore/data/DS4/Apoptotic_cell_detection/Expe...  Experiment_1   \n",
       "...                                                  ...           ...   \n",
       "15306  /pstore/data/DS4/Apoptotic_cell_detection/Expe...  Experiment_1   \n",
       "15307  /pstore/data/DS4/Apoptotic_cell_detection/Expe...  Experiment_1   \n",
       "15308  /pstore/data/DS4/Apoptotic_cell_detection/Expe...  Experiment_1   \n",
       "15309  /pstore/data/DS4/Apoptotic_cell_detection/Expe...  Experiment_1   \n",
       "15310  /pstore/data/DS4/Apoptotic_cell_detection/Expe...  Experiment_1   \n",
       "\n",
       "         donor    condition object_number      set          label  \n",
       "0      Donor_1  condition_1           822  labeled      apoptotic  \n",
       "1      Donor_1  condition_1         12187  labeled  non-apoptotic  \n",
       "2      Donor_1  condition_1          2295  labeled      apoptotic  \n",
       "3      Donor_1  condition_1         14306  labeled  non-apoptotic  \n",
       "4      Donor_1  condition_1          2584  labeled      apoptotic  \n",
       "...        ...          ...           ...      ...            ...  \n",
       "15306  Donor_1  condition_1         10365  labeled      apoptotic  \n",
       "15307  Donor_1  condition_1          2952  labeled      apoptotic  \n",
       "15308  Donor_1  condition_1          7308  labeled  non-apoptotic  \n",
       "15309  Donor_1  condition_1          3211  labeled      apoptotic  \n",
       "15310  Donor_1  condition_1          3500  labeled      apoptotic  \n",
       "\n",
       "[15311 rows x 7 columns]"
      ]
     },
     "execution_count": 6,
     "metadata": {},
     "output_type": "execute_result"
    }
   ],
   "source": [
    "metadata"
   ]
  },
  {
   "cell_type": "code",
   "execution_count": 7,
   "metadata": {},
   "outputs": [
    {
     "name": "stdout",
     "output_type": "stream",
     "text": [
      "['apoptotic' 'non-apoptotic']\n"
     ]
    },
    {
     "data": {
      "text/plain": [
       "<AxesSubplot:>"
      ]
     },
     "execution_count": 7,
     "metadata": {},
     "output_type": "execute_result"
    },
    {
     "data": {
      "image/png": "[encoded data removed]",
      "text/plain": [
       "<Figure size 432x288 with 1 Axes>"
      ]
     },
     "metadata": {
      "needs_background": "light"
     },
     "output_type": "display_data"
    }
   ],
   "source": [
    "print(metadata.label.unique())\n",
    "metadata.label.hist()"
   ]
  },
  {
   "cell_type": "markdown",
   "metadata": {},
   "source": [
    "so we have 31280  files with various labels. first we need to get rid of `unknown` labels"
   ]
  },
  {
   "cell_type": "code",
   "execution_count": 8,
   "metadata": {},
   "outputs": [],
   "source": [
    "row_index = metadata.label != \"unknown\"\n",
    "\n",
    "metadata = metadata.loc[row_index,:].reset_index(drop = True)"
   ]
  },
  {
   "cell_type": "markdown",
   "metadata": {},
   "source": [
    "lets plot a random image per class"
   ]
  },
  {
   "cell_type": "code",
   "execution_count": 9,
   "metadata": {},
   "outputs": [
    {
     "name": "stdout",
     "output_type": "stream",
     "text": [
      "apoptotic\n",
      "non-apoptotic\n"
     ]
    },
    {
     "data": {
      "image/png": "[encoded data removed]",
      "text/plain": [
       "<Figure size 144x144 with 4 Axes>"
      ]
     },
     "metadata": {},
     "output_type": "display_data"
    }
   ],
   "source": [
    "from skimage.util import crop\n",
    "import h5py\n",
    "\n",
    "def crop_pad_h_w(image_dummy,reshape_size):\n",
    "    if image_dummy.shape[0] < reshape_size:\n",
    "        h1_pad = ( reshape_size - image_dummy.shape[0])/2\n",
    "        h1_pad = int(h1_pad)\n",
    "        h2_pad =  reshape_size - h1_pad - image_dummy.shape[0]\n",
    "        h1_crop = 0\n",
    "        h2_crop = 0\n",
    "    else:\n",
    "        h1_pad = 0\n",
    "        h2_pad = 0\n",
    "        h1_crop = ( reshape_size - image_dummy.shape[0])/2\n",
    "        h1_crop = abs(int(h1_crop))\n",
    "        h2_crop = image_dummy.shape[0]- reshape_size  - h1_crop\n",
    "\n",
    "    if image_dummy.shape[1] < reshape_size:\n",
    "        w1_pad = (reshape_size - image_dummy.shape[1])/2\n",
    "        w1_pad = int(w1_pad)\n",
    "        w2_pad = reshape_size - w1_pad - image_dummy.shape[1]\n",
    "        w1_crop = 0\n",
    "        w2_crop = 0\n",
    "    else:\n",
    "        w1_pad = 0\n",
    "        w2_pad = 0\n",
    "        w1_crop = (reshape_size - image_dummy.shape[1])/2\n",
    "        w1_crop = abs(int(w1_crop))\n",
    "        w2_crop = image_dummy.shape[1]- reshape_size  - w1_crop\n",
    "\n",
    "    h = [h1_crop, h2_crop, h1_pad, h2_pad]\n",
    "    w = [w1_crop, w2_crop, w1_pad, w2_pad] \n",
    "    return h, w\n",
    "\n",
    "def plot_images_with_metadata(metadata,  \n",
    "                              figsize = None,\n",
    "                              channels = [\"BF\",\"BF\", \"BF\"],\n",
    "                    channel_colors =  [\"Greys\", \"Oranges\", \"Blues\"],\n",
    "                    image_size = 128):\n",
    "    \n",
    "    metadata_dummy = metadata.copy()\n",
    "    metadata_dummy = metadata_dummy.reset_index(drop = True)\n",
    "    \n",
    "    nrows = len(metadata_dummy)\n",
    "    ncols = len(channel_colors)\n",
    "    \n",
    "    if figsize is None:\n",
    "        figsize = ( ncols*2, nrows*2 )\n",
    "    fix,ax = plt.subplots(nrows, ncols, figsize = figsize, tight_layout = True)\n",
    "    \n",
    "    vmin = [4095.]*ncols\n",
    "    vmax = [0.]*ncols\n",
    "    \n",
    "    for i in range(nrows):\n",
    "        h5_file_ = h5py.File(metadata_dummy.loc[i,\"file\"], \"r\")\n",
    "        image = h5_file_.get(\"image\")[()]\n",
    "        for j, ch in enumerate(range(ncols)):\n",
    "            vmin[j] = min(vmin[j], image[:,:,ch].min()  )\n",
    "            vmax[j] = max(vmax[j], image[:,:,ch].max()  )\n",
    "        \n",
    "    for i in range(nrows):\n",
    "        h5_file_ = h5py.File(metadata_dummy.loc[i,\"file\"], \"r\")\n",
    "        image = h5_file_.get(\"image\")[()]         \n",
    "        \n",
    "        h, w = crop_pad_h_w(image, image_size)\n",
    "        h1_crop, h2_crop, h1_pad, h2_pad =  h \n",
    "        w1_crop, w2_crop, w1_pad, w2_pad = w \n",
    "        for j, ch in enumerate(channel_colors):\n",
    "            image_dummy = crop(image[:,:,j], ((h1_crop,h2_crop),(w1_crop,w2_crop)))            \n",
    "            image_dummy = np.pad(image_dummy, \n",
    "                                     ((h1_pad,h2_pad),(w1_pad,w2_pad)), \n",
    "                                     'constant', \n",
    "                                     constant_values = np.mean(image_dummy) )\n",
    "            ax[i,j].imshow(image_dummy, cmap = channel_colors[j] , vmin = vmin[j], vmax = vmax[j]  )\n",
    "            ax[i,j].set_xticks([])\n",
    "            ax[i,j].set_yticks([])\n",
    "            \n",
    "            if j == 0:\n",
    "                print(metadata_dummy.loc[i,\"label\"])\n",
    "                ax[i,j].set_ylabel(metadata_dummy.loc[i,\"label\"])\n",
    "            if i == 0:\n",
    "                ax[i,j].set_xlabel(channels[j])\n",
    "                ax[i,j].xaxis.set_label_position('top') \n",
    "            \n",
    "        h5_file_.close()\n",
    "    plt.tight_layout()\n",
    "\n",
    "    \n",
    "plot_images_with_metadata(metadata.groupby('label').apply(lambda s: s.sample(1, random_state = 2)).reset_index(drop = True) ,  \n",
    "                              figsize = (2,2),\n",
    "                    channel_colors =  [\"Greys\", \"copper\"],\n",
    "                          channels = [\"BF\",\"FL\"],\n",
    "                    image_size = 32)\n",
    "\n",
    "\n",
    "\n",
    "plt.savefig(\"Dataset 1 - apoptotic vs non apoptotic cells.png\", bbox_inches='tight')\n",
    "plt.savefig(\"Dataset 1 - apoptotic vs non apoptotic cells.svg\", bbox_inches='tight')"
   ]
  },
  {
   "cell_type": "markdown",
   "metadata": {},
   "source": [
    "Set all random seeds to the specific value, so the results are more reproducable"
   ]
  },
  {
   "cell_type": "code",
   "execution_count": 10,
   "metadata": {},
   "outputs": [],
   "source": [
    "seed_value = 42\n",
    "\n",
    "os.environ['PYTHONHASHSEED']=str(seed_value)\n",
    "import random\n",
    "random.seed(seed_value)\n",
    "\n",
    "np.random.seed(seed_value)\n",
    "torch.manual_seed(seed_value)\n",
    "\n",
    "torch.backends.cudnn.deterministic = True\n",
    "torch.backends.cudnn.benchmark = False"
   ]
  },
  {
   "cell_type": "markdown",
   "metadata": {},
   "source": [
    "Define all necessary parameters"
   ]
  },
  {
   "cell_type": "code",
   "execution_count": 11,
   "metadata": {},
   "outputs": [],
   "source": [
    "class AddGaussianNoise(object):\n",
    "    def __init__(self, mean=0., std=1.):\n",
    "        self.std = std\n",
    "        self.mean = mean\n",
    "        \n",
    "    def __call__(self, tensor):\n",
    "        return tensor + torch.randn(tensor.size()) * self.std + self.mean\n",
    "    \n",
    "    def __repr__(self):\n",
    "        return self.__class__.__name__ + '(mean={0}, std={1})'.format(self.mean, self.std)"
   ]
  },
  {
   "cell_type": "code",
   "execution_count": 12,
   "metadata": {},
   "outputs": [],
   "source": [
    "class MinMaxScaler(object):\n",
    "    def __init__(self, min_in , max_in, min_out, max_out):\n",
    "        self.min_in = min_in.reshape(-1,1,1)\n",
    "        self.max_in = max_in.reshape(-1,1,1)\n",
    "        self.min_out = min_out\n",
    "        self.max_out = max_out\n",
    "        \n",
    "    def __call__(self, tensor):\n",
    "        \n",
    "        tensor_ = (tensor - self.min_in)/(self.max_in - self.min_in)\n",
    "        tensor_ = tensor_*(self.max_out - self.min_out) + self.min_out\n",
    "        tensor_[tensor_<self.min_out]= self.min_out\n",
    "        tensor_[tensor_>self.max_out]= self.max_out\n",
    "        return tensor_\n",
    "    \n",
    "    def __repr__(self):\n",
    "        return self.__class__.__name__ + '(min_out={0}, max_out={1})'.format(self.min_out, self.max_out)"
   ]
  },
  {
   "cell_type": "code",
   "execution_count": 13,
   "metadata": {},
   "outputs": [],
   "source": [
    "\n",
    "model_dir = \"models\"\n",
    "log_dir = \"logs\"\n",
    "scaling_factor = 255.\n",
    "reshape_size = 32\n",
    "num_classes = len(metadata.label.unique())"
   ]
  },
  {
   "cell_type": "code",
   "execution_count": 14,
   "metadata": {},
   "outputs": [],
   "source": [
    "\n",
    "selected_channels = np.arange(2)\n",
    "num_channels = len(selected_channels)\n",
    "channels = np.asarray([ \"Ch\" + str(i) for i in selected_channels])\n",
    "num_of_all_channels = len(channels)\n",
    "all_channels = np.arange(num_of_all_channels)"
   ]
  },
  {
   "cell_type": "code",
   "execution_count": 15,
   "metadata": {},
   "outputs": [],
   "source": [
    "batch_size = 128\n",
    "num_workers = 4\n",
    "device=\"cuda\""
   ]
  },
  {
   "cell_type": "markdown",
   "metadata": {},
   "source": [
    "splitting data to train, validaiton and test"
   ]
  },
  {
   "cell_type": "code",
   "execution_count": 16,
   "metadata": {},
   "outputs": [
    {
     "name": "stdout",
     "output_type": "stream",
     "text": [
      "1\n",
      "2\n",
      "3\n"
     ]
    }
   ],
   "source": [
    "from sklearn.model_selection import StratifiedKFold\n",
    "from sklearn.model_selection import train_test_split\n",
    "\n",
    "skf = StratifiedKFold(n_splits=5, random_state=seed_value, shuffle=True)\n",
    "main_fold = 4\n",
    "i = 1\n",
    "for train_index, test_index in skf.split(metadata.index.tolist(), metadata[\"label\"]):\n",
    "    if i == main_fold:\n",
    "        break\n",
    "    else:\n",
    "        print(i)\n",
    "        i+=1\n",
    "\n",
    "\n",
    "train_index, validation_index, _, _ = train_test_split(train_index, \n",
    "                                                    metadata.loc[train_index,\"label\"].index.tolist(), \n",
    "                                                    stratify = metadata.loc[train_index,\"label\"].tolist(),\n",
    "                                                    test_size=0.2, \n",
    "                                                    random_state=seed_value)"
   ]
  },
  {
   "cell_type": "code",
   "execution_count": null,
   "metadata": {},
   "outputs": [],
   "source": []
  },
  {
   "cell_type": "code",
   "execution_count": 17,
   "metadata": {},
   "outputs": [
    {
     "data": {
      "text/plain": [
       "{'apoptotic': 0, 'non-apoptotic': 1}"
      ]
     },
     "execution_count": 17,
     "metadata": {},
     "output_type": "execute_result"
    }
   ],
   "source": [
    "label_map = dict(zip(sorted(set(metadata.loc[train_index, \"label\"])), \n",
    "                     np.arange(len(set(metadata.loc[train_index, \"label\"])))))\n",
    "\n",
    "set_of_interesting_classes = metadata.label.unique().tolist()\n",
    "\n",
    "label_map"
   ]
  },
  {
   "cell_type": "markdown",
   "metadata": {},
   "source": [
    "now we calculate the statistics of every channel to later use for nomalizing the dataset"
   ]
  },
  {
   "cell_type": "code",
   "execution_count": 18,
   "metadata": {},
   "outputs": [],
   "source": [
    "train_dataset = DatasetGenerator(metadata=metadata.loc[train_index,:],\n",
    "                                 label_map=label_map,\n",
    "                                 selected_channels=selected_channels,\n",
    "                                 scaling_factor=scaling_factor,\n",
    "                                 reshape_size=reshape_size,\n",
    "                                 transform=transforms.Compose([]))"
   ]
  },
  {
   "cell_type": "code",
   "execution_count": 19,
   "metadata": {},
   "outputs": [],
   "source": [
    "train_loader = DataLoader(train_dataset, batch_size=batch_size, shuffle=False, num_workers=num_workers)"
   ]
  },
  {
   "cell_type": "code",
   "execution_count": 20,
   "metadata": {},
   "outputs": [
    {
     "data": {
      "text/plain": [
       "<matplotlib.image.AxesImage at 0x2aab58582a30>"
      ]
     },
     "execution_count": 20,
     "metadata": {},
     "output_type": "execute_result"
    },
    {
     "data": {
      "image/png": "[encoded data removed]",
      "text/plain": [
       "<Figure size 432x288 with 1 Axes>"
      ]
     },
     "metadata": {
      "needs_background": "light"
     },
     "output_type": "display_data"
    }
   ],
   "source": [
    "plt.imshow(train_dataset[0][0][1])"
   ]
  },
  {
   "cell_type": "code",
   "execution_count": 21,
   "metadata": {},
   "outputs": [
    {
     "name": "stderr",
     "output_type": "stream",
     "text": [
      "100%|██████████| 77/77 [00:25<00:00,  3.03it/s]"
     ]
    },
    {
     "name": "stdout",
     "output_type": "stream",
     "text": [
      "statistics used: {'min': tensor([1.4757, 0.0000]), 'p01': tensor([2.5295, 0.0172]), 'p05': tensor([2.8071, 0.0272]), 'p25': tensor([3.0940, 0.0482]), 'p50': tensor([3.1461, 0.0761]), 'p75': tensor([3.1876, 0.1634]), 'p95': tensor([3.4514, 0.7914]), 'p99': tensor([3.7498, 2.1942]), 'max': tensor([  5.2048, 250.7378]), 'mean': tensor([3.1395, 0.2242]), 'std': tensor([0.1973, 1.9192])}\n"
     ]
    },
    {
     "name": "stderr",
     "output_type": "stream",
     "text": [
      "\n"
     ]
    }
   ],
   "source": [
    "statistics = get_statistics(train_loader, selected_channels=selected_channels)"
   ]
  },
  {
   "cell_type": "markdown",
   "metadata": {},
   "source": [
    "adding the normalization to each transform"
   ]
  },
  {
   "cell_type": "code",
   "execution_count": 22,
   "metadata": {},
   "outputs": [],
   "source": [
    "stats = dict()\n",
    "stats[\"lower_bound\"] = torch.tensor([statistics['min'][0], statistics['p01'][1]])\n",
    "stats[\"upper_bound\"] = torch.tensor([statistics['p99'][0], statistics['p99'][1]])\n",
    "\n",
    "train_transform = [ \n",
    "        MinMaxScaler(           min_in =  stats[\"lower_bound\"] , \n",
    "                                max_in =  stats[\"upper_bound\"] , \n",
    "                                min_out =  0. , \n",
    "                                max_out =  1.),\n",
    "        transforms.RandomHorizontalFlip(),\n",
    "        transforms.RandomVerticalFlip(),\n",
    "        AddGaussianNoise(mean=0., std=0.01),\n",
    "]\n",
    "\n",
    "validation_transform =  [ \n",
    "        MinMaxScaler(           min_in =  stats[\"lower_bound\"] , \n",
    "                                max_in =  stats[\"upper_bound\"] , \n",
    "                                min_out =  0. , \n",
    "                                max_out =  1.),\n",
    "]\n",
    "\n",
    "test_transform =  [ \n",
    "        MinMaxScaler(           min_in =  stats[\"lower_bound\"] , \n",
    "                                max_in =  stats[\"upper_bound\"] , \n",
    "                                min_out =  0. , \n",
    "                                max_out =  1.),\n",
    "]"
   ]
  },
  {
   "cell_type": "code",
   "execution_count": 23,
   "metadata": {},
   "outputs": [],
   "source": [
    "train_loader = None"
   ]
  },
  {
   "cell_type": "markdown",
   "metadata": {},
   "source": [
    "defining train, validation and test datasets"
   ]
  },
  {
   "cell_type": "code",
   "execution_count": 24,
   "metadata": {},
   "outputs": [],
   "source": [
    "train_dataset = DatasetGenerator(metadata=metadata.loc[train_index,:],\n",
    "                                 label_map=label_map,\n",
    "                                 selected_channels=selected_channels,\n",
    "                                 scaling_factor=scaling_factor, \n",
    "                                 reshape_size=reshape_size,\n",
    "                                 transform= transforms.Compose(train_transform))\n",
    "\n",
    "validation_dataset = DatasetGenerator(metadata=metadata.loc[validation_index,:],\n",
    "                                      label_map=label_map,\n",
    "                                      selected_channels=selected_channels,\n",
    "                                      scaling_factor=scaling_factor,\n",
    "                                      reshape_size=reshape_size,\n",
    "                                      transform=transforms.Compose(test_transform))\n",
    "\n",
    "test_dataset = DatasetGenerator(metadata=metadata.loc[test_index,:],\n",
    "                                label_map=label_map,\n",
    "                                selected_channels=selected_channels,\n",
    "                                scaling_factor=scaling_factor,\n",
    "                                reshape_size=reshape_size,\n",
    "                                transform=\n",
    "                                transforms.Compose(test_transform))"
   ]
  },
  {
   "cell_type": "code",
   "execution_count": 25,
   "metadata": {},
   "outputs": [
    {
     "data": {
      "text/plain": [
       "<matplotlib.image.AxesImage at 0x2aab587bd3a0>"
      ]
     },
     "execution_count": 25,
     "metadata": {},
     "output_type": "execute_result"
    },
    {
     "data": {
      "image/png": "[encoded data removed]",
      "text/plain": [
       "<Figure size 432x288 with 1 Axes>"
      ]
     },
     "metadata": {
      "needs_background": "light"
     },
     "output_type": "display_data"
    }
   ],
   "source": [
    "plt.imshow(test_dataset[0][0][0])"
   ]
  },
  {
   "cell_type": "code",
   "execution_count": 26,
   "metadata": {},
   "outputs": [
    {
     "data": {
      "text/plain": [
       "<matplotlib.image.AxesImage at 0x2aab587f5730>"
      ]
     },
     "execution_count": 26,
     "metadata": {},
     "output_type": "execute_result"
    },
    {
     "data": {
      "image/png": "[encoded data removed]",
      "text/plain": [
       "<Figure size 432x288 with 1 Axes>"
      ]
     },
     "metadata": {
      "needs_background": "light"
     },
     "output_type": "display_data"
    }
   ],
   "source": [
    "plt.imshow(validation_dataset[0][0][0])"
   ]
  },
  {
   "cell_type": "code",
   "execution_count": 27,
   "metadata": {},
   "outputs": [
    {
     "data": {
      "text/plain": [
       "<matplotlib.image.AxesImage at 0x2aab5882ca60>"
      ]
     },
     "execution_count": 27,
     "metadata": {},
     "output_type": "execute_result"
    },
    {
     "data": {
      "image/png": "[encoded data removed]",
      "text/plain": [
       "<Figure size 432x288 with 1 Axes>"
      ]
     },
     "metadata": {
      "needs_background": "light"
     },
     "output_type": "display_data"
    }
   ],
   "source": [
    "plt.imshow(train_dataset[0][0][0])"
   ]
  },
  {
   "cell_type": "markdown",
   "metadata": {},
   "source": [
    "considering that we have multiple input channels, we need to modify the ResNet18 network input layer"
   ]
  },
  {
   "cell_type": "code",
   "execution_count": 28,
   "metadata": {},
   "outputs": [],
   "source": [
    "import torch.nn as nn\n",
    "from scifAI.dl.models import PretrainedModel\n",
    "import torch.nn.functional as F\n",
    "\n",
    "resnet18_modified = PretrainedModel(len(selected_channels),\n",
    "                                     len(set_of_interesting_classes), \n",
    "                                     pretrained = True)"
   ]
  },
  {
   "cell_type": "code",
   "execution_count": null,
   "metadata": {},
   "outputs": [],
   "source": []
  },
  {
   "cell_type": "markdown",
   "metadata": {},
   "source": [
    "finally, we add a scheduler and an early stopping based on valid_f1_macro"
   ]
  },
  {
   "cell_type": "code",
   "execution_count": 29,
   "metadata": {},
   "outputs": [],
   "source": [
    "lr_scheduler = LRScheduler(policy='ReduceLROnPlateau', factor=0.5, patience=5)\n",
    "\n",
    "epoch_scoring_f1_micro = EpochScoring(\"f1_micro\", \n",
    "                             name =  \"valid_f1_micro\", \n",
    "                             on_train = False,\n",
    "                             lower_is_better = False)\n",
    "\n",
    "epoch_scoring_f1_macro = EpochScoring(\"f1_macro\", \n",
    "                             name =  \"valid_f1_macro\", \n",
    "                             on_train = False,\n",
    "                             lower_is_better = False)\n",
    "\n",
    "early_stopping = EarlyStopping(monitor='valid_f1_macro', \n",
    "                               patience=50, \n",
    "                               threshold=0.0001, \n",
    "                               threshold_mode='rel', \n",
    "                               lower_is_better=False)\n",
    "\n",
    "checkpoint = Checkpoint(f_params='apoptotic_cells_DL_fold4.pth',\n",
    "                        monitor='valid_f1_macro_best', load_best=True)"
   ]
  },
  {
   "cell_type": "markdown",
   "metadata": {},
   "source": [
    "lets define and train the model using `skorch`"
   ]
  },
  {
   "cell_type": "code",
   "execution_count": 30,
   "metadata": {},
   "outputs": [],
   "source": [
    "net = NeuralNetClassifier(    \n",
    "    resnet18_modified, \n",
    "    criterion=nn.CrossEntropyLoss,\n",
    "    lr=0.001,\n",
    "    batch_size=batch_size,\n",
    "    max_epochs=1000,\n",
    "    optimizer=optim.Adam,\n",
    "    iterator_train__shuffle=True,\n",
    "    iterator_train__num_workers=num_workers,\n",
    "    iterator_valid__shuffle=False,\n",
    "    iterator_valid__num_workers=2,\n",
    "    callbacks=[lr_scheduler, epoch_scoring_f1_micro, \n",
    "               epoch_scoring_f1_macro, \n",
    "               early_stopping, checkpoint],\n",
    "    train_split=predefined_split(validation_dataset),\n",
    "    device=\"cuda\",\n",
    "    warm_start=True)"
   ]
  },
  {
   "cell_type": "code",
   "execution_count": 31,
   "metadata": {},
   "outputs": [
    {
     "name": "stdout",
     "output_type": "stream",
     "text": [
      "  epoch    train_loss    valid_acc    valid_f1_macro    valid_f1_micro    valid_loss    cp     dur\n",
      "-------  ------------  -----------  ----------------  ----------------  ------------  ----  ------\n",
      "      1        \u001b[36m0.4092\u001b[0m       \u001b[32m0.6090\u001b[0m            \u001b[35m0.5887\u001b[0m            \u001b[31m0.6090\u001b[0m        \u001b[94m1.0056\u001b[0m     +  6.4685\n",
      "      2        \u001b[36m0.2637\u001b[0m       \u001b[32m0.8816\u001b[0m            \u001b[35m0.8792\u001b[0m            \u001b[31m0.8816\u001b[0m        \u001b[94m0.3041\u001b[0m     +  6.2093\n",
      "      3        \u001b[36m0.2258\u001b[0m       \u001b[32m0.9029\u001b[0m            \u001b[35m0.9009\u001b[0m            \u001b[31m0.9029\u001b[0m        \u001b[94m0.2341\u001b[0m     +  6.3370\n",
      "      4        \u001b[36m0.2104\u001b[0m       0.8996            0.8942            0.8996        0.2696        6.9688\n",
      "      5        \u001b[36m0.1953\u001b[0m       \u001b[32m0.9069\u001b[0m            \u001b[35m0.9058\u001b[0m            \u001b[31m0.9069\u001b[0m        0.2352     +  6.4445\n",
      "      6        \u001b[36m0.1818\u001b[0m       \u001b[32m0.9090\u001b[0m            \u001b[35m0.9075\u001b[0m            \u001b[31m0.9090\u001b[0m        \u001b[94m0.2272\u001b[0m     +  6.7154\n",
      "      7        \u001b[36m0.1758\u001b[0m       \u001b[32m0.9229\u001b[0m            \u001b[35m0.9203\u001b[0m            \u001b[31m0.9229\u001b[0m        \u001b[94m0.2061\u001b[0m     +  6.3536\n",
      "      8        \u001b[36m0.1708\u001b[0m       0.9127            0.9083            0.9127        0.2154        6.5445\n",
      "      9        \u001b[36m0.1620\u001b[0m       0.9200            0.9170            0.9200        \u001b[94m0.1893\u001b[0m        6.6121\n",
      "     10        \u001b[36m0.1430\u001b[0m       \u001b[32m0.9253\u001b[0m            \u001b[35m0.9222\u001b[0m            \u001b[31m0.9253\u001b[0m        0.1924     +  6.5087\n",
      "     11        0.1622       0.9135            0.9120            0.9135        0.2323        6.4353\n",
      "     12        0.1452       \u001b[32m0.9278\u001b[0m            \u001b[35m0.9258\u001b[0m            \u001b[31m0.9278\u001b[0m        \u001b[94m0.1876\u001b[0m     +  6.5935\n",
      "     13        0.1560       \u001b[32m0.9318\u001b[0m            \u001b[35m0.9300\u001b[0m            \u001b[31m0.9318\u001b[0m        0.1944     +  6.3729\n",
      "     14        \u001b[36m0.1374\u001b[0m       \u001b[32m0.9343\u001b[0m            \u001b[35m0.9324\u001b[0m            \u001b[31m0.9343\u001b[0m        \u001b[94m0.1610\u001b[0m     +  6.6382\n",
      "     15        \u001b[36m0.1370\u001b[0m       0.9196            0.9154            0.9196        0.2126        6.4713\n",
      "     16        \u001b[36m0.1293\u001b[0m       0.9224            0.9186            0.9224        0.1884        6.4385\n",
      "     17        \u001b[36m0.1247\u001b[0m       0.9004            0.8936            0.9004        0.2705        6.4341\n",
      "     18        0.1255       0.9122            0.9108            0.9122        0.2384        6.2810\n",
      "     19        0.1290       0.9257            0.9235            0.9257        0.1862        6.3379\n",
      "     20        \u001b[36m0.1197\u001b[0m       0.9294            0.9268            0.9294        0.1865        6.4319\n",
      "     21        0.1239       0.9229            0.9192            0.9229        0.2291        6.6637\n",
      "     22        \u001b[36m0.1126\u001b[0m       0.8927            0.8853            0.8927        0.2980        6.3026\n",
      "     23        0.1152       0.9261            0.9243            0.9261        0.1795        6.4548\n",
      "     24        0.1153       0.9302            0.9282            0.9302        0.1977        6.8900\n",
      "     25        0.1139       \u001b[32m0.9396\u001b[0m            \u001b[35m0.9382\u001b[0m            \u001b[31m0.9396\u001b[0m        \u001b[94m0.1577\u001b[0m     +  6.6662\n",
      "     26        \u001b[36m0.1095\u001b[0m       0.9110            0.9086            0.9110        0.2315        6.4112\n",
      "     27        \u001b[36m0.0989\u001b[0m       0.9200            0.9183            0.9200        0.2359        6.5305\n",
      "     28        0.1010       0.9380            0.9358            0.9380        0.1731        6.7815\n",
      "     29        0.1008       0.9139            0.9130            0.9139        0.2359        6.2850\n",
      "     30        \u001b[36m0.0910\u001b[0m       0.9347            0.9323            0.9347        0.1925        6.5732\n",
      "     31        0.1076       0.8943            0.8926            0.8943        0.3319        6.6537\n",
      "     32        0.0949       0.9376            0.9361            0.9376        0.1821        6.3426\n",
      "     33        \u001b[36m0.0883\u001b[0m       0.9278            0.9243            0.9278        0.1955        6.3002\n",
      "     34        0.0895       \u001b[32m0.9412\u001b[0m            \u001b[35m0.9397\u001b[0m            \u001b[31m0.9412\u001b[0m        0.1698     +  6.4996\n",
      "     35        \u001b[36m0.0872\u001b[0m       0.9094            0.9078            0.9094        0.2658        6.3949\n",
      "     36        \u001b[36m0.0839\u001b[0m       0.9363            0.9345            0.9363        0.1773        6.6522\n",
      "     37        0.0880       \u001b[32m0.9420\u001b[0m            \u001b[35m0.9406\u001b[0m            \u001b[31m0.9420\u001b[0m        0.1589     +  6.5171\n",
      "     38        \u001b[36m0.0810\u001b[0m       0.9335            0.9316            0.9335        0.1917        6.3843\n",
      "     39        \u001b[36m0.0790\u001b[0m       0.9380            0.9362            0.9380        0.1784        6.4846\n",
      "     40        0.0794       0.9241            0.9221            0.9241        0.2344        6.3587\n",
      "     41        0.0860       0.9339            0.9319            0.9339        0.1867        6.6295\n",
      "     42        \u001b[36m0.0765\u001b[0m       0.9363            0.9345            0.9363        0.1666        6.5385\n",
      "     43        0.0846       0.9290            0.9277            0.9290        0.2723        6.3224\n",
      "     44        0.0783       0.9249            0.9233            0.9249        0.1786        6.3216\n",
      "     45        0.0842       0.9106            0.9081            0.9106        0.2833        6.4460\n",
      "     46        0.0780       0.9339            0.9311            0.9339        0.1844        6.4004\n",
      "     47        \u001b[36m0.0763\u001b[0m       0.9331            0.9303            0.9331        0.2268        6.4832\n",
      "     48        \u001b[36m0.0695\u001b[0m       0.9359            0.9347            0.9359        0.1864        6.5816\n",
      "     49        0.0756       0.9282            0.9265            0.9282        0.1982        6.5343\n",
      "     50        \u001b[36m0.0689\u001b[0m       \u001b[32m0.9437\u001b[0m            \u001b[35m0.9421\u001b[0m            \u001b[31m0.9437\u001b[0m        \u001b[94m0.1468\u001b[0m     +  6.5994\n",
      "     51        \u001b[36m0.0574\u001b[0m       0.9384            0.9369            0.9384        0.1959        6.4130\n",
      "     52        \u001b[36m0.0572\u001b[0m       0.9384            0.9371            0.9384        0.2074        6.3490\n",
      "     53        0.0645       0.9318            0.9302            0.9318        0.2422        6.5281\n",
      "     54        0.0637       0.9343            0.9323            0.9343        0.2356        6.3163\n",
      "     55        \u001b[36m0.0556\u001b[0m       0.9286            0.9273            0.9286        0.2484        6.5470\n",
      "     56        \u001b[36m0.0535\u001b[0m       0.9269            0.9254            0.9269        0.2205        6.6293\n",
      "     57        0.0546       0.9384            0.9368            0.9384        0.2224        6.5849\n",
      "     58        \u001b[36m0.0526\u001b[0m       0.9376            0.9359            0.9376        0.1907        6.4394\n",
      "     59        0.0561       0.9073            0.9065            0.9073        0.3757        6.4625\n",
      "     60        \u001b[36m0.0465\u001b[0m       0.9286            0.9272            0.9286        0.2781        6.5197\n",
      "     61        0.0521       0.9318            0.9298            0.9318        0.1882        6.3837\n",
      "     62        0.0622       0.9196            0.9186            0.9196        0.2520        6.4429\n",
      "     63        0.0512       0.9367            0.9343            0.9367        0.2279        6.4750\n",
      "     64        0.0467       \u001b[32m0.9457\u001b[0m            \u001b[35m0.9440\u001b[0m            \u001b[31m0.9457\u001b[0m        0.1794     +  6.4048\n",
      "     65        0.0501       0.9441            0.9424            0.9441        0.1628        6.8365\n",
      "     66        0.0467       0.9331            0.9316            0.9331        0.2281        6.4876\n",
      "     67        \u001b[36m0.0298\u001b[0m       0.9367            0.9349            0.9367        0.2773        6.6630\n",
      "     68        0.0314       0.9429            0.9412            0.9429        0.2019        6.4202\n",
      "     69        \u001b[36m0.0289\u001b[0m       0.9429            0.9414            0.9429        0.2157        6.5423\n",
      "     70        \u001b[36m0.0182\u001b[0m       0.9420            0.9404            0.9420        0.2415        6.4063\n",
      "     71        0.0213       0.9359            0.9343            0.9359        0.2689        6.3773\n",
      "     72        0.0205       0.9322            0.9298            0.9322        0.2623        6.3540\n",
      "     73        0.0256       0.9396            0.9380            0.9396        0.2486        6.3313\n"
     ]
    },
    {
     "name": "stdout",
     "output_type": "stream",
     "text": [
      "     74        0.0280       0.9392            0.9375            0.9392        0.2085        6.4114\n",
      "     75        0.0185       0.9384            0.9363            0.9384        0.2532        6.4237\n",
      "     76        \u001b[36m0.0171\u001b[0m       0.9376            0.9359            0.9376        0.2545        6.5678\n",
      "     77        0.0182       0.9400            0.9383            0.9400        0.2460        6.3426\n",
      "     78        0.0192       0.9424            0.9409            0.9424        0.2447        6.3851\n",
      "     79        \u001b[36m0.0168\u001b[0m       0.9404            0.9386            0.9404        0.2596        6.3802\n",
      "     80        0.0182       0.9392            0.9374            0.9392        0.2400        6.4848\n",
      "     81        0.0173       0.9392            0.9377            0.9392        0.2817        6.5560\n",
      "     82        0.0172       0.9359            0.9342            0.9359        0.3260        6.4492\n",
      "     83        \u001b[36m0.0158\u001b[0m       0.9396            0.9379            0.9396        0.2912        6.4240\n",
      "     84        \u001b[36m0.0128\u001b[0m       0.9359            0.9341            0.9359        0.3010        6.3762\n",
      "     85        0.0185       0.9351            0.9332            0.9351        0.2674        6.5384\n",
      "     86        0.0175       0.9371            0.9359            0.9371        0.3072        6.3048\n",
      "     87        0.0132       0.9384            0.9364            0.9384        0.3069        6.3335\n",
      "     88        0.0171       0.9363            0.9345            0.9363        0.2705        6.3033\n",
      "     89        0.0159       0.9359            0.9347            0.9359        0.3048        6.2923\n",
      "     90        \u001b[36m0.0128\u001b[0m       0.9408            0.9393            0.9408        0.2872        6.3973\n",
      "     91        0.0159       0.9339            0.9319            0.9339        0.2958        6.3297\n",
      "     92        0.0152       0.9363            0.9340            0.9363        0.3314        6.2993\n",
      "     93        \u001b[36m0.0091\u001b[0m       0.9376            0.9357            0.9376        0.3632        6.5910\n",
      "     94        0.0166       0.9408            0.9393            0.9408        0.2637        6.4152\n",
      "     95        0.0121       0.9359            0.9343            0.9359        0.3068        6.4667\n",
      "     96        0.0182       0.9376            0.9354            0.9376        0.2995        6.5736\n",
      "     97        0.0151       0.9371            0.9355            0.9371        0.3056        6.4124\n",
      "     98        0.0167       0.9371            0.9353            0.9371        0.2812        6.4210\n",
      "     99        0.0127       0.9359            0.9343            0.9359        0.3227        6.4009\n",
      "    100        0.0111       0.9408            0.9390            0.9408        0.2787        6.4108\n",
      "    101        \u001b[36m0.0044\u001b[0m       0.9445            0.9430            0.9445        0.2979        6.5503\n",
      "    102        \u001b[36m0.0039\u001b[0m       0.9424            0.9410            0.9424        0.3399        6.5219\n",
      "    103        0.0052       0.9441            0.9425            0.9441        0.3247        6.3086\n",
      "    104        0.0087       0.9441            0.9426            0.9441        0.3160        6.7678\n",
      "    105        \u001b[36m0.0034\u001b[0m       0.9441            0.9425            0.9441        0.3801        6.5178\n",
      "    106        0.0052       0.9412            0.9397            0.9412        0.3640        6.3596\n",
      "    107        0.0050       0.9412            0.9397            0.9412        0.3479        6.5636\n",
      "    108        0.0058       0.9424            0.9408            0.9424        0.3324        6.2678\n",
      "    109        0.0041       0.9424            0.9410            0.9424        0.3485        6.4433\n",
      "    110        0.0053       0.9404            0.9388            0.9404        0.3310        6.4882\n",
      "    111        0.0037       0.9388            0.9372            0.9388        0.4254        6.3956\n",
      "    112        0.0035       0.9376            0.9357            0.9376        0.4068        6.5503\n",
      "    113        \u001b[36m0.0033\u001b[0m       0.9400            0.9385            0.9400        0.3779        6.6622\n",
      "Stopping since valid_f1_macro has not improved in the last 50 epochs.\n"
     ]
    }
   ],
   "source": [
    "net = net.fit(train_dataset, y = None)"
   ]
  },
  {
   "cell_type": "code",
   "execution_count": 32,
   "metadata": {},
   "outputs": [
    {
     "data": {
      "text/plain": [
       "<All keys matched successfully>"
      ]
     },
     "execution_count": 32,
     "metadata": {},
     "output_type": "execute_result"
    }
   ],
   "source": [
    "net.module.load_state_dict(torch.load('apoptotic_cells_DL_fold4.pth')) "
   ]
  },
  {
   "cell_type": "markdown",
   "metadata": {},
   "source": [
    "\n",
    "\n",
    "lets take a look the prediction pefromance for the validation set"
   ]
  },
  {
   "cell_type": "code",
   "execution_count": 33,
   "metadata": {},
   "outputs": [
    {
     "name": "stdout",
     "output_type": "stream",
     "text": [
      "               precision    recall  f1-score   support\n",
      "\n",
      "    apoptotic       0.94      0.96      0.95      1422\n",
      "non-apoptotic       0.95      0.92      0.93      1028\n",
      "\n",
      "     accuracy                           0.95      2450\n",
      "    macro avg       0.95      0.94      0.94      2450\n",
      " weighted avg       0.95      0.95      0.95      2450\n",
      "\n",
      "------------------------------------------------------------\n",
      "matthews correlation coeff: 0.89\n",
      "Cohen Kappa score: 0.89\n",
      "Accuracy: 0.95 & balanced Accuracy: 0.94\n",
      "macro F1 score: 0.94 & micro F1 score: 0.95\n",
      "macro Precision score: 0.95 & micro Precision score: 0.95\n",
      "macro Recall score: 0.94 & micro Recall score: 0.95\n",
      "------------------------------------------------------------\n"
     ]
    }
   ],
   "source": [
    "inv_label_map = {v: k for k, v in label_map.items()}\n",
    "\n",
    "preds = net.predict(validation_dataset)\n",
    "preds =  [inv_label_map[int(t)] for t in preds]\n",
    "\n",
    "classification_complete_report(validation_dataset.metadata.label, \n",
    "                               preds  )"
   ]
  },
  {
   "cell_type": "markdown",
   "metadata": {},
   "source": [
    "and finally for the test set"
   ]
  },
  {
   "cell_type": "code",
   "execution_count": 34,
   "metadata": {},
   "outputs": [
    {
     "name": "stdout",
     "output_type": "stream",
     "text": [
      "               precision    recall  f1-score   support\n",
      "\n",
      "    apoptotic       0.94      0.95      0.95      1777\n",
      "non-apoptotic       0.93      0.92      0.93      1285\n",
      "\n",
      "     accuracy                           0.94      3062\n",
      "    macro avg       0.94      0.94      0.94      3062\n",
      " weighted avg       0.94      0.94      0.94      3062\n",
      "\n",
      "------------------------------------------------------------\n",
      "matthews correlation coeff: 0.87\n",
      "Cohen Kappa score: 0.87\n",
      "Accuracy: 0.94 & balanced Accuracy: 0.94\n",
      "macro F1 score: 0.94 & micro F1 score: 0.94\n",
      "macro Precision score: 0.94 & micro Precision score: 0.94\n",
      "macro Recall score: 0.94 & micro Recall score: 0.94\n",
      "------------------------------------------------------------\n"
     ]
    }
   ],
   "source": [
    "preds = net.predict(test_dataset)\n",
    "preds =  [inv_label_map[int(t)] for t in preds]\n",
    "\n",
    "classification_complete_report(test_dataset.metadata.label, \n",
    "                               preds  )"
   ]
  },
  {
   "cell_type": "code",
   "execution_count": null,
   "metadata": {},
   "outputs": [],
   "source": []
  },
  {
   "cell_type": "code",
   "execution_count": 35,
   "metadata": {},
   "outputs": [],
   "source": [
    "performance_with_all_channels = pd.read_csv(\"performance_with_all_channels.csv\")\n",
    "\n",
    "performance_with_all_channels.loc[main_fold,\"accuracy\"] = accuracy_score(test_dataset.metadata.label, preds)\n",
    "performance_with_all_channels.loc[main_fold,\"f1_macro\"] = f1_score(test_dataset.metadata.label, preds, average=\"macro\")\n",
    "performance_with_all_channels.loc[main_fold,\"f1_micro\"] = f1_score(test_dataset.metadata.label, preds, average=\"micro\")\n",
    "\n",
    "performance_with_all_channels.to_csv(\"performance_with_all_channels.csv\", index = False)"
   ]
  },
  {
   "cell_type": "code",
   "execution_count": 36,
   "metadata": {},
   "outputs": [],
   "source": [
    "model = net.module_\n",
    "net = None\n",
    "torch.cuda.empty_cache()"
   ]
  },
  {
   "cell_type": "markdown",
   "metadata": {},
   "source": [
    "### Model Interpretation"
   ]
  },
  {
   "cell_type": "code",
   "execution_count": 37,
   "metadata": {},
   "outputs": [],
   "source": [
    "# where to save results\n",
    "model_name = \"resnet18\"\n",
    "dataset_name = \"apoptotic vs. non-apoptotic\""
   ]
  },
  {
   "cell_type": "markdown",
   "metadata": {},
   "source": [
    "#### Pixel-Permutation Tests"
   ]
  },
  {
   "cell_type": "code",
   "execution_count": 38,
   "metadata": {},
   "outputs": [],
   "source": [
    "from time import process_time"
   ]
  },
  {
   "cell_type": "code",
   "execution_count": 39,
   "metadata": {},
   "outputs": [],
   "source": [
    "\n",
    "test_loader = DataLoader(test_dataset, batch_size=batch_size, shuffle=False, num_workers=num_workers)"
   ]
  },
  {
   "cell_type": "code",
   "execution_count": 40,
   "metadata": {},
   "outputs": [],
   "source": [
    "correct = 0.\n",
    "total = 0.\n",
    "y_true = list()\n",
    "y_pred = list()\n",
    "y_true_proba = list()\n",
    "with torch.no_grad():\n",
    "    for data in test_loader:\n",
    "        inputs, labels = data[0].to(device).float(), data[1].to(device).long()\n",
    "        outputs = model(inputs)\n",
    "        pred = outputs.argmax(dim=1)\n",
    "        true_proba = np.array([j[i] for (i,j) in zip(pred, outputs.cpu())])\n",
    "        _, predicted = torch.max(outputs.data, 1)\n",
    "        total += labels.size(0)\n",
    "        correct += (labels.reshape(-1) == predicted).sum().item()\n",
    "        for i in range(len(pred)):\n",
    "            y_true.append(labels[i].item())\n",
    "            y_pred.append(pred[i].item())\n",
    "            y_true_proba.append(true_proba[i].item())"
   ]
  },
  {
   "cell_type": "code",
   "execution_count": 41,
   "metadata": {},
   "outputs": [],
   "source": [
    "class_names_targets = [c for c in label_map.keys()]"
   ]
  },
  {
   "cell_type": "code",
   "execution_count": 42,
   "metadata": {},
   "outputs": [
    {
     "name": "stdout",
     "output_type": "stream",
     "text": [
      "               precision    recall  f1-score   support\n",
      "\n",
      "    apoptotic       0.94      0.95      0.95      1777\n",
      "non-apoptotic       0.93      0.92      0.93      1285\n",
      "\n",
      "     accuracy                           0.94      3062\n",
      "    macro avg       0.94      0.94      0.94      3062\n",
      " weighted avg       0.94      0.94      0.94      3062\n",
      "\n"
     ]
    }
   ],
   "source": [
    "print(classification_report(y_true, y_pred, target_names=class_names_targets, digits=2))"
   ]
  },
  {
   "cell_type": "code",
   "execution_count": 43,
   "metadata": {},
   "outputs": [
    {
     "name": "stderr",
     "output_type": "stream",
     "text": [
      "100%|██████████| 100/100 [02:33<00:00,  1.54s/it]\n",
      "100%|██████████| 100/100 [02:34<00:00,  1.55s/it]"
     ]
    },
    {
     "name": "stdout",
     "output_type": "stream",
     "text": [
      "Candidate channel  to remove is 0\n"
     ]
    },
    {
     "name": "stderr",
     "output_type": "stream",
     "text": [
      "\n"
     ]
    },
    {
     "data": {
      "image/png": "[encoded data removed]",
      "text/plain": [
       "<Figure size 720x360 with 1 Axes>"
      ]
     },
     "metadata": {
      "needs_background": "light"
     },
     "output_type": "display_data"
    },
    {
     "data": {
      "image/png": "[encoded data removed]",
      "text/plain": [
       "<Figure size 720x360 with 1 Axes>"
      ]
     },
     "metadata": {
      "needs_background": "light"
     },
     "output_type": "display_data"
    }
   ],
   "source": [
    "t1_start = process_time()\n",
    "f1_score_original = f1_score(y_true, y_pred, average=None, labels=np.arange(num_classes))\n",
    "min_mean_dif = 1.0\n",
    "candidate = 0\n",
    "shuffle_times = 100\n",
    "df_all = pd.DataFrame([], columns=class_names_targets)\n",
    "for c in range(num_channels):\n",
    "    f1_score_diff_from_original_per_channel_per_shuffle = []\n",
    "    transform = test_transform.copy()\n",
    "    transform.append(ShuffleChannel(channels_to_shuffle=[c]))\n",
    "    for s in tqdm(range(shuffle_times)):\n",
    "        dataset = DatasetGenerator(metadata=metadata.loc[test_index,:],\n",
    "                                 label_map=label_map,\n",
    "                                 selected_channels=selected_channels,\n",
    "                                 scaling_factor=scaling_factor,\n",
    "                                 reshape_size=reshape_size,\n",
    "                                 transform=transforms.Compose(transform))\n",
    "        dataloader = DataLoader(dataset,\n",
    "                                batch_size=batch_size,\n",
    "                                shuffle=False,\n",
    "                                num_workers=num_workers)\n",
    "        y_true = list()\n",
    "        y_pred = list()\n",
    "        with torch.no_grad():\n",
    "            for data in dataloader:\n",
    "                inputs, labels = data[0].to(device).float(), data[1].to(device).reshape(-1).long()\n",
    "                outputs = model(inputs)\n",
    "                pred = outputs.argmax(dim=1)\n",
    "                for i in range(len(pred)):\n",
    "                    y_true.append(labels[i].item())\n",
    "                    y_pred.append(pred[i].item())\n",
    "            f1_score_per_channel = f1_score(y_true, y_pred, average=None, labels=np.arange(num_classes))\n",
    "            f1_score_diff_from_original_per_channel_per_shuffle.append(f1_score_original - f1_score_per_channel)\n",
    "    mean_along_columns = np.mean(f1_score_diff_from_original_per_channel_per_shuffle, axis=0)\n",
    "    mean_dif = np.mean(mean_along_columns)\n",
    "    if mean_dif < min_mean_dif and mean_dif > 0 and not selected_channels[c]:\n",
    "        min_mean_dif = mean_dif\n",
    "        candidate = selected_channels[c]\n",
    "    df_diff = pd.DataFrame(np.atleast_2d(f1_score_diff_from_original_per_channel_per_shuffle), columns=class_names_targets)\n",
    "    df_mean_diff = pd.DataFrame(np.atleast_2d(mean_along_columns), columns=class_names_targets)\n",
    "    df_all = pd.concat([df_all, df_mean_diff], ignore_index=True, sort=False)\n",
    "    fig, ax = plt.subplots(figsize=(10, 5))\n",
    "    ax = df_diff.boxplot()\n",
    "    ax.set_xticklabels(class_names_targets, rotation=45)\n",
    "    #fig.savefig(os.path.join(\"results\",model_name, \"{}-shuffle_method-model-{}-channel-{}.png\".format(dataset_name, str(model_name), str(selected_channels[c]))))\n",
    "print(\"Candidate channel  to remove is {}\".format(candidate))"
   ]
  },
  {
   "cell_type": "code",
   "execution_count": 44,
   "metadata": {},
   "outputs": [
    {
     "data": {
      "text/plain": [
       "<BarContainer object of 2 artists>"
      ]
     },
     "execution_count": 44,
     "metadata": {},
     "output_type": "execute_result"
    },
    {
     "data": {
      "image/png": "[encoded data removed]",
      "text/plain": [
       "<Figure size 432x288 with 1 Axes>"
      ]
     },
     "metadata": {
      "needs_background": "light"
     },
     "output_type": "display_data"
    }
   ],
   "source": [
    "plt.bar(channels[selected_channels], df_all.T.mean(), color='Grey')\n",
    "#plt.savefig(os.path.join(\"results\",model_name, \"{}-pixel-permutation-method-model-all-{}.svg\".format(dataset_name, str(\"resnet_all\"))))"
   ]
  },
  {
   "cell_type": "code",
   "execution_count": 45,
   "metadata": {},
   "outputs": [],
   "source": [
    "channel_ranking_pixel_permutation = pd.DataFrame(data={'channels': channels[np.asarray(selected_channels)], 'importance': df_all.T.mean().to_numpy()})"
   ]
  },
  {
   "cell_type": "code",
   "execution_count": null,
   "metadata": {},
   "outputs": [],
   "source": []
  },
  {
   "cell_type": "code",
   "execution_count": null,
   "metadata": {},
   "outputs": [],
   "source": []
  },
  {
   "cell_type": "code",
   "execution_count": 46,
   "metadata": {},
   "outputs": [],
   "source": [
    "from captum.attr import (\n",
    "    GuidedGradCam,\n",
    "    DeepLift,\n",
    "    Saliency,\n",
    "    DeepLiftShap,\n",
    "    GradientShap,\n",
    "    InputXGradient,\n",
    "    IntegratedGradients,\n",
    "    GuidedBackprop,\n",
    "    Deconvolution,\n",
    "    Occlusion,\n",
    "    FeaturePermutation,\n",
    "    ShapleyValueSampling,\n",
    "    Lime,\n",
    "    KernelShap,\n",
    "    LRP\n",
    ")\n",
    "from time import process_time"
   ]
  },
  {
   "cell_type": "code",
   "execution_count": 47,
   "metadata": {},
   "outputs": [],
   "source": [
    "def run_interpretation_method(ablator, method_name, require_baseline=False, require_sliding_window=False):\n",
    "    t1_start = process_time()\n",
    "    dataset = DatasetGenerator(metadata=metadata.loc[test_index,:],\n",
    "                                     label_map=label_map,\n",
    "                                     selected_channels=selected_channels,\n",
    "                                     scaling_factor=scaling_factor,\n",
    "                                     reshape_size=reshape_size,\n",
    "                                     transform=transforms.Compose(test_transform))\n",
    "    testloader = DataLoader(test_dataset,\n",
    "                                    batch_size=batch_size,\n",
    "                                    shuffle=False,\n",
    "                                    num_workers=num_workers)\n",
    "\n",
    "    heatmaps = torch.empty(0, dtype=torch.float32, device=device)\n",
    "    with torch.no_grad():\n",
    "        for data in testloader:\n",
    "            inputs, labels = data[0].to(device).float(), data[1].to(device).reshape(-1).long()\n",
    "            if require_baseline:\n",
    "                baselines=torch.zeros(inputs.shape).to(device)\n",
    "                attr = ablator.attribute(inputs, target=labels, baselines=baselines)\n",
    "            elif require_sliding_window:\n",
    "                attr = ablator.attribute(inputs, target=labels, sliding_window_shapes=(1,3,3))\n",
    "            else:\n",
    "                attr = ablator.attribute(inputs, target=labels)\n",
    "            heatmaps = torch.cat((heatmaps,  torch.from_numpy(np.percentile(torch.flatten(attr, start_dim=-2).cpu().numpy(), q=50, axis=-1)).to(device)))\n",
    "    heatmaps_mean = torch.mean(heatmaps, dim=0)\n",
    "    plt.bar(channels, heatmaps_mean.cpu(), color='grey')\n",
    "    #plt.savefig(os.path.join(\"results\", \"resnet_all\", \"{}-{}_method-model-50-percentile-{}.png\".format(dataset_name, method_name, str(\"resnet_all\"))))\n",
    "\n",
    "    t1_stop = process_time()\n",
    "    print(\"Elapsed time:\", t1_stop, t1_start) \n",
    "\n",
    "    print(\"Elapsed time during the whole program in seconds:\",\n",
    "                                             t1_stop-t1_start)\n",
    "    return heatmaps_mean"
   ]
  },
  {
   "cell_type": "code",
   "execution_count": 48,
   "metadata": {},
   "outputs": [],
   "source": [
    "# DeepLift"
   ]
  },
  {
   "cell_type": "code",
   "execution_count": 49,
   "metadata": {},
   "outputs": [
    {
     "name": "stdout",
     "output_type": "stream",
     "text": [
      "Elapsed time: 561.011135226 559.344334009\n",
      "Elapsed time during the whole program in seconds: 1.6668012169999429\n"
     ]
    },
    {
     "data": {
      "image/png": "[encoded data removed]",
      "text/plain": [
       "<Figure size 432x288 with 1 Axes>"
      ]
     },
     "metadata": {
      "needs_background": "light"
     },
     "output_type": "display_data"
    }
   ],
   "source": [
    "dl = DeepLift(model)\n",
    "heatmaps_deeplift_mean = run_interpretation_method(dl, 'dl')"
   ]
  },
  {
   "cell_type": "code",
   "execution_count": null,
   "metadata": {},
   "outputs": [],
   "source": []
  },
  {
   "cell_type": "code",
   "execution_count": 50,
   "metadata": {},
   "outputs": [],
   "source": [
    "# Saliency"
   ]
  },
  {
   "cell_type": "code",
   "execution_count": 51,
   "metadata": {},
   "outputs": [
    {
     "name": "stdout",
     "output_type": "stream",
     "text": [
      "Elapsed time: 562.268220787 561.129296711\n",
      "Elapsed time during the whole program in seconds: 1.1389240759999666\n"
     ]
    },
    {
     "data": {
      "image/png": "[encoded data removed]",
      "text/plain": [
       "<Figure size 432x288 with 1 Axes>"
      ]
     },
     "metadata": {
      "needs_background": "light"
     },
     "output_type": "display_data"
    }
   ],
   "source": [
    "saliency = Saliency(model)\n",
    "heatmaps_saliency_mean = run_interpretation_method(saliency, 'saliency')"
   ]
  },
  {
   "cell_type": "code",
   "execution_count": 52,
   "metadata": {},
   "outputs": [],
   "source": [
    "# IntegratedGradients"
   ]
  },
  {
   "cell_type": "code",
   "execution_count": 53,
   "metadata": {},
   "outputs": [
    {
     "name": "stdout",
     "output_type": "stream",
     "text": [
      "Elapsed time: 583.236661815 562.374657033\n",
      "Elapsed time during the whole program in seconds: 20.8620047820001\n"
     ]
    },
    {
     "data": {
      "image/png": "[encoded data removed]",
      "text/plain": [
       "<Figure size 432x288 with 1 Axes>"
      ]
     },
     "metadata": {
      "needs_background": "light"
     },
     "output_type": "display_data"
    }
   ],
   "source": [
    "ig = IntegratedGradients(model)\n",
    "heatmaps_integrated_gradient_mean = run_interpretation_method(ig, 'IntegratedGradients')"
   ]
  },
  {
   "cell_type": "code",
   "execution_count": 54,
   "metadata": {},
   "outputs": [],
   "source": [
    "# LRP"
   ]
  },
  {
   "cell_type": "code",
   "execution_count": 55,
   "metadata": {},
   "outputs": [
    {
     "name": "stdout",
     "output_type": "stream",
     "text": [
      "Elapsed time: 584.709210801 583.335043464\n",
      "Elapsed time during the whole program in seconds: 1.3741673370000171\n"
     ]
    },
    {
     "data": {
      "image/png": "[encoded data removed]",
      "text/plain": [
       "<Figure size 432x288 with 1 Axes>"
      ]
     },
     "metadata": {
      "needs_background": "light"
     },
     "output_type": "display_data"
    }
   ],
   "source": [
    "lrp = LRP(model)\n",
    "heatmaps_lrp_mean = run_interpretation_method(lrp, 'LRP')"
   ]
  },
  {
   "cell_type": "code",
   "execution_count": 56,
   "metadata": {},
   "outputs": [],
   "source": [
    "# GuidedGradCAM"
   ]
  },
  {
   "cell_type": "code",
   "execution_count": 57,
   "metadata": {},
   "outputs": [
    {
     "name": "stdout",
     "output_type": "stream",
     "text": [
      "Elapsed time: 586.514900086 584.806756539\n",
      "Elapsed time during the whole program in seconds: 1.7081435469999633\n"
     ]
    },
    {
     "data": {
      "image/png": "[encoded data removed]",
      "text/plain": [
       "<Figure size 432x288 with 1 Axes>"
      ]
     },
     "metadata": {
      "needs_background": "light"
     },
     "output_type": "display_data"
    }
   ],
   "source": [
    "guided_cram = GuidedGradCam(model, model.model.layer1)\n",
    "heatmaps_gradcam_mean = run_interpretation_method(guided_cram, 'GuidedGradCam')"
   ]
  },
  {
   "cell_type": "code",
   "execution_count": 58,
   "metadata": {},
   "outputs": [
    {
     "data": {
      "text/html": [
       "<div>\n",
       "<style scoped>\n",
       "    .dataframe tbody tr th:only-of-type {\n",
       "        vertical-align: middle;\n",
       "    }\n",
       "\n",
       "    .dataframe tbody tr th {\n",
       "        vertical-align: top;\n",
       "    }\n",
       "\n",
       "    .dataframe thead th {\n",
       "        text-align: right;\n",
       "    }\n",
       "</style>\n",
       "<table border=\"1\" class=\"dataframe\">\n",
       "  <thead>\n",
       "    <tr style=\"text-align: right;\">\n",
       "      <th></th>\n",
       "      <th>channels</th>\n",
       "      <th>importance</th>\n",
       "    </tr>\n",
       "  </thead>\n",
       "  <tbody>\n",
       "    <tr>\n",
       "      <th>0</th>\n",
       "      <td>Ch0</td>\n",
       "      <td>0.003956</td>\n",
       "    </tr>\n",
       "    <tr>\n",
       "      <th>1</th>\n",
       "      <td>Ch1</td>\n",
       "      <td>0.458152</td>\n",
       "    </tr>\n",
       "  </tbody>\n",
       "</table>\n",
       "</div>"
      ],
      "text/plain": [
       "  channels  importance\n",
       "0      Ch0    0.003956\n",
       "1      Ch1    0.458152"
      ]
     },
     "execution_count": 58,
     "metadata": {},
     "output_type": "execute_result"
    }
   ],
   "source": [
    "channel_ranking_pixel_permutation"
   ]
  },
  {
   "cell_type": "markdown",
   "metadata": {},
   "source": [
    "5fold CV on the data and get the importance per fold for statistical evaluation\n",
    "    \n",
    "our result is in alignment with the original paper. On the other hand, guided gradcam failed"
   ]
  },
  {
   "cell_type": "code",
   "execution_count": 59,
   "metadata": {},
   "outputs": [],
   "source": [
    "channel_importance = pd.read_csv(\"channel_importance.csv\")\n",
    "\n",
    "channel_importance_fold = pd.DataFrame(columns = channel_importance.columns)\n",
    "\n",
    "channel_importance_fold[\"channel\"] = channels\n",
    "channel_importance_fold[\"fold\"] = main_fold\n",
    "channel_importance_fold[\"PXPermute\"] = channel_ranking_pixel_permutation[\"importance\"]\n",
    "channel_importance_fold[\"DeepLift\"] = heatmaps_deeplift_mean.cpu().numpy()\n",
    "channel_importance_fold[\"IntegratedGradients\"] = heatmaps_integrated_gradient_mean.cpu().numpy()\n",
    "channel_importance_fold[\"LRP\"] = heatmaps_lrp_mean.cpu().numpy()\n",
    "channel_importance_fold[\"GuidedGradCAM\"] = heatmaps_gradcam_mean.cpu().numpy()\n",
    "\n",
    "channel_importance = channel_importance.append(channel_importance_fold, ignore_index = True)\n",
    "\n",
    "channel_importance.to_csv(\"channel_importance.csv\", index = False)"
   ]
  },
  {
   "cell_type": "code",
   "execution_count": null,
   "metadata": {},
   "outputs": [],
   "source": []
  },
  {
   "cell_type": "code",
   "execution_count": null,
   "metadata": {},
   "outputs": [],
   "source": []
  }
 ],
 "metadata": {
  "kernelspec": {
   "display_name": "py310",
   "language": "python",
   "name": "py310"
  },
  "language_info": {
   "codemirror_mode": {
    "name": "ipython",
    "version": 3
   },
   "file_extension": ".py",
   "mimetype": "text/x-python",
   "name": "python",
   "nbconvert_exporter": "python",
   "pygments_lexer": "ipython3",
   "version": "3.8.3"
  },
  "vscode": {
   "interpreter": {
    "hash": "dc85c72049d21f557e30689d2619ffc4ab3f684c40ae26d281fe4539bf4644b2"
   }
  }
 },
 "nbformat": 4,
 "nbformat_minor": 5
}
