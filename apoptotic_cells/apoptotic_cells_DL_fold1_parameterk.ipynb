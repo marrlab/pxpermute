{
 "cells": [
  {
   "cell_type": "markdown",
   "id": "981535b1",
   "metadata": {},
   "source": [
    "# Classification of Apoptotic cells\n",
    "\n",
    "In this jupyter notebook, we provide an example of how to extract explainable features and run a classification for the imaging flow cytometry dataset provided by:\n",
    "\n",
    "In vivo identification of apoptotic and extracellular vesicle-bound live cells using image-based deep learning https://doi.org/10.1080%2F20013078.2020.1792683\n",
    "\n",
    "\n",
    "We assume you have already installed the library. Otherwise you can install it using \n",
    "\n",
    "`!pip -q install <Path to the cloned module>`\n",
    "\n",
    "This notebook provides an example for deep learning methods"
   ]
  },
  {
   "cell_type": "markdown",
   "id": "6b1bdf82",
   "metadata": {},
   "source": [
    "here we import a series of needed modules. "
   ]
  },
  {
   "cell_type": "code",
   "execution_count": 1,
   "id": "42797cdf",
   "metadata": {},
   "outputs": [],
   "source": [
    "import scifAI\n",
    "import numpy as np\n",
    "from sklearn.datasets import make_classification\n",
    "import torch.nn as nn\n",
    "from skorch import NeuralNetClassifier\n",
    "import matplotlib.pyplot as plt\n",
    "import glob\n",
    "from imageio import imread\n",
    "# Ignore warnings\n",
    "import warnings\n",
    "warnings.filterwarnings(\"ignore\")\n",
    "import os\n",
    "import numpy as np\n",
    "from tqdm import tqdm\n",
    "import pandas as pd\n",
    "from sklearn.ensemble import RandomForestClassifier\n",
    "from sklearn.metrics import classification_report\n",
    "import torch\n",
    "from torchvision import transforms\n",
    "from IPython.core.debugger import Tracer\n",
    "from torch.utils.data import DataLoader, Dataset\n",
    "from sklearn.pipeline import Pipeline, FeatureUnion\n",
    "# Compare Algorithms\n",
    "from sklearn.model_selection import train_test_split\n",
    "from sklearn.metrics import f1_score"
   ]
  },
  {
   "cell_type": "code",
   "execution_count": null,
   "id": "f1df934e",
   "metadata": {},
   "outputs": [],
   "source": []
  },
  {
   "cell_type": "code",
   "execution_count": 2,
   "id": "2ed0ad0c",
   "metadata": {},
   "outputs": [],
   "source": [
    "from scifAI.dl.utils import calculate_weights, train_validation_test_split, get_statistics\n",
    "from scifAI.dl.dataset import DatasetGenerator\n",
    "from scifAI.dl.custom_transforms import ShuffleChannel\n",
    "from scifAI.dl.models import PretrainedModel, resnet18"
   ]
  },
  {
   "cell_type": "code",
   "execution_count": 3,
   "id": "7ae15a06",
   "metadata": {},
   "outputs": [],
   "source": [
    "from skorch.callbacks import LRScheduler,Checkpoint,EpochScoring,EarlyStopping\n",
    "import torch.optim as optim\n",
    "from skorch.helper import predefined_split"
   ]
  },
  {
   "cell_type": "markdown",
   "id": "e89e0a32",
   "metadata": {},
   "source": [
    "here, we provide a function for visualizing the result of the confusion matrix which will be used later."
   ]
  },
  {
   "cell_type": "code",
   "execution_count": 4,
   "id": "9b109557",
   "metadata": {},
   "outputs": [],
   "source": [
    "from sklearn.metrics import (plot_confusion_matrix, \n",
    "                             matthews_corrcoef, \n",
    "                             classification_report,\n",
    "                             confusion_matrix, \n",
    "                             accuracy_score, \n",
    "                             balanced_accuracy_score, \n",
    "                             cohen_kappa_score, \n",
    "                             f1_score,  \n",
    "                             precision_score, recall_score)\n",
    "\n",
    "def classification_complete_report(y_true, y_pred, plot = True ): \n",
    "    print(classification_report(y_true, y_pred))\n",
    "    print(15*\"----\")\n",
    "    print(\"matthews correlation coeff: %.2f\" % (matthews_corrcoef(y_true, y_pred)) )\n",
    "    print(\"Cohen Kappa score: %.2f\" % (cohen_kappa_score(y_true, y_pred)) )\n",
    "    print(\"Accuracy: %.2f & balanced Accuracy: %.2f\" % (accuracy_score(y_true, y_pred), balanced_accuracy_score(y_true, y_pred)) )\n",
    "    print(\"macro F1 score: %.2f & micro F1 score: %.2f\" % (f1_score(y_true, y_pred, average = \"macro\"), f1_score(y_true, y_pred, average = \"micro\")) )\n",
    "    print(\"macro Precision score: %.2f & micro Precision score: %.2f\" % (precision_score(y_true, y_pred, average = \"macro\"), precision_score(y_true, y_pred, average = \"micro\")) )\n",
    "    print(\"macro Recall score: %.2f & micro Recall score: %.2f\" % (recall_score(y_true, y_pred, average = \"macro\"), recall_score(y_true, y_pred, average = \"micro\")) )\n",
    "    print(15*\"----\")\n",
    "    \n",
    "    "
   ]
  },
  {
   "cell_type": "markdown",
   "id": "ffe615c2",
   "metadata": {},
   "source": [
    "now lets calculate the metadata:"
   ]
  },
  {
   "cell_type": "code",
   "execution_count": 5,
   "id": "27f7a8c3",
   "metadata": {},
   "outputs": [
    {
     "name": "stdout",
     "output_type": "stream",
     "text": [
      "Metadata prepration starts...\n",
      "Experiment_1 Donor_1 condition_1\n"
     ]
    },
    {
     "name": "stderr",
     "output_type": "stream",
     "text": [
      "100%|██████████| 15311/15311 [00:15<00:00, 998.59it/s] \n"
     ]
    },
    {
     "name": "stdout",
     "output_type": "stream",
     "text": [
      "...metadata prepration ended.\n",
      "CPU times: user 1.53 s, sys: 1.13 s, total: 2.66 s\n",
      "Wall time: 16.3 s\n"
     ]
    }
   ],
   "source": [
    "%%time\n",
    "\n",
    "data_path = \"/projects/site/pred/data_science/year/2022/Apoptotic_cell_detection/\"\n",
    "metadata = scifAI.metadata_generator(data_path)"
   ]
  },
  {
   "cell_type": "code",
   "execution_count": 6,
   "id": "4f694b25",
   "metadata": {},
   "outputs": [
    {
     "data": {
      "text/html": [
       "<div>\n",
       "<style scoped>\n",
       "    .dataframe tbody tr th:only-of-type {\n",
       "        vertical-align: middle;\n",
       "    }\n",
       "\n",
       "    .dataframe tbody tr th {\n",
       "        vertical-align: top;\n",
       "    }\n",
       "\n",
       "    .dataframe thead th {\n",
       "        text-align: right;\n",
       "    }\n",
       "</style>\n",
       "<table border=\"1\" class=\"dataframe\">\n",
       "  <thead>\n",
       "    <tr style=\"text-align: right;\">\n",
       "      <th></th>\n",
       "      <th>file</th>\n",
       "      <th>experiment</th>\n",
       "      <th>donor</th>\n",
       "      <th>condition</th>\n",
       "      <th>object_number</th>\n",
       "      <th>set</th>\n",
       "      <th>label</th>\n",
       "    </tr>\n",
       "  </thead>\n",
       "  <tbody>\n",
       "    <tr>\n",
       "      <th>0</th>\n",
       "      <td>/projects/site/pred/data_science/year/2022/Apo...</td>\n",
       "      <td>Experiment_1</td>\n",
       "      <td>Donor_1</td>\n",
       "      <td>condition_1</td>\n",
       "      <td>822</td>\n",
       "      <td>labeled</td>\n",
       "      <td>b'apoptotic'</td>\n",
       "    </tr>\n",
       "    <tr>\n",
       "      <th>1</th>\n",
       "      <td>/projects/site/pred/data_science/year/2022/Apo...</td>\n",
       "      <td>Experiment_1</td>\n",
       "      <td>Donor_1</td>\n",
       "      <td>condition_1</td>\n",
       "      <td>12187</td>\n",
       "      <td>labeled</td>\n",
       "      <td>b'non-apoptotic'</td>\n",
       "    </tr>\n",
       "    <tr>\n",
       "      <th>2</th>\n",
       "      <td>/projects/site/pred/data_science/year/2022/Apo...</td>\n",
       "      <td>Experiment_1</td>\n",
       "      <td>Donor_1</td>\n",
       "      <td>condition_1</td>\n",
       "      <td>2295</td>\n",
       "      <td>labeled</td>\n",
       "      <td>b'apoptotic'</td>\n",
       "    </tr>\n",
       "    <tr>\n",
       "      <th>3</th>\n",
       "      <td>/projects/site/pred/data_science/year/2022/Apo...</td>\n",
       "      <td>Experiment_1</td>\n",
       "      <td>Donor_1</td>\n",
       "      <td>condition_1</td>\n",
       "      <td>14306</td>\n",
       "      <td>labeled</td>\n",
       "      <td>b'non-apoptotic'</td>\n",
       "    </tr>\n",
       "    <tr>\n",
       "      <th>4</th>\n",
       "      <td>/projects/site/pred/data_science/year/2022/Apo...</td>\n",
       "      <td>Experiment_1</td>\n",
       "      <td>Donor_1</td>\n",
       "      <td>condition_1</td>\n",
       "      <td>2584</td>\n",
       "      <td>labeled</td>\n",
       "      <td>b'apoptotic'</td>\n",
       "    </tr>\n",
       "    <tr>\n",
       "      <th>...</th>\n",
       "      <td>...</td>\n",
       "      <td>...</td>\n",
       "      <td>...</td>\n",
       "      <td>...</td>\n",
       "      <td>...</td>\n",
       "      <td>...</td>\n",
       "      <td>...</td>\n",
       "    </tr>\n",
       "    <tr>\n",
       "      <th>15306</th>\n",
       "      <td>/projects/site/pred/data_science/year/2022/Apo...</td>\n",
       "      <td>Experiment_1</td>\n",
       "      <td>Donor_1</td>\n",
       "      <td>condition_1</td>\n",
       "      <td>10365</td>\n",
       "      <td>labeled</td>\n",
       "      <td>b'apoptotic'</td>\n",
       "    </tr>\n",
       "    <tr>\n",
       "      <th>15307</th>\n",
       "      <td>/projects/site/pred/data_science/year/2022/Apo...</td>\n",
       "      <td>Experiment_1</td>\n",
       "      <td>Donor_1</td>\n",
       "      <td>condition_1</td>\n",
       "      <td>2952</td>\n",
       "      <td>labeled</td>\n",
       "      <td>b'apoptotic'</td>\n",
       "    </tr>\n",
       "    <tr>\n",
       "      <th>15308</th>\n",
       "      <td>/projects/site/pred/data_science/year/2022/Apo...</td>\n",
       "      <td>Experiment_1</td>\n",
       "      <td>Donor_1</td>\n",
       "      <td>condition_1</td>\n",
       "      <td>7308</td>\n",
       "      <td>labeled</td>\n",
       "      <td>b'non-apoptotic'</td>\n",
       "    </tr>\n",
       "    <tr>\n",
       "      <th>15309</th>\n",
       "      <td>/projects/site/pred/data_science/year/2022/Apo...</td>\n",
       "      <td>Experiment_1</td>\n",
       "      <td>Donor_1</td>\n",
       "      <td>condition_1</td>\n",
       "      <td>3211</td>\n",
       "      <td>labeled</td>\n",
       "      <td>b'apoptotic'</td>\n",
       "    </tr>\n",
       "    <tr>\n",
       "      <th>15310</th>\n",
       "      <td>/projects/site/pred/data_science/year/2022/Apo...</td>\n",
       "      <td>Experiment_1</td>\n",
       "      <td>Donor_1</td>\n",
       "      <td>condition_1</td>\n",
       "      <td>3500</td>\n",
       "      <td>labeled</td>\n",
       "      <td>b'apoptotic'</td>\n",
       "    </tr>\n",
       "  </tbody>\n",
       "</table>\n",
       "<p>15311 rows × 7 columns</p>\n",
       "</div>"
      ],
      "text/plain": [
       "                                                    file    experiment  \\\n",
       "0      /projects/site/pred/data_science/year/2022/Apo...  Experiment_1   \n",
       "1      /projects/site/pred/data_science/year/2022/Apo...  Experiment_1   \n",
       "2      /projects/site/pred/data_science/year/2022/Apo...  Experiment_1   \n",
       "3      /projects/site/pred/data_science/year/2022/Apo...  Experiment_1   \n",
       "4      /projects/site/pred/data_science/year/2022/Apo...  Experiment_1   \n",
       "...                                                  ...           ...   \n",
       "15306  /projects/site/pred/data_science/year/2022/Apo...  Experiment_1   \n",
       "15307  /projects/site/pred/data_science/year/2022/Apo...  Experiment_1   \n",
       "15308  /projects/site/pred/data_science/year/2022/Apo...  Experiment_1   \n",
       "15309  /projects/site/pred/data_science/year/2022/Apo...  Experiment_1   \n",
       "15310  /projects/site/pred/data_science/year/2022/Apo...  Experiment_1   \n",
       "\n",
       "         donor    condition object_number      set             label  \n",
       "0      Donor_1  condition_1           822  labeled      b'apoptotic'  \n",
       "1      Donor_1  condition_1         12187  labeled  b'non-apoptotic'  \n",
       "2      Donor_1  condition_1          2295  labeled      b'apoptotic'  \n",
       "3      Donor_1  condition_1         14306  labeled  b'non-apoptotic'  \n",
       "4      Donor_1  condition_1          2584  labeled      b'apoptotic'  \n",
       "...        ...          ...           ...      ...               ...  \n",
       "15306  Donor_1  condition_1         10365  labeled      b'apoptotic'  \n",
       "15307  Donor_1  condition_1          2952  labeled      b'apoptotic'  \n",
       "15308  Donor_1  condition_1          7308  labeled  b'non-apoptotic'  \n",
       "15309  Donor_1  condition_1          3211  labeled      b'apoptotic'  \n",
       "15310  Donor_1  condition_1          3500  labeled      b'apoptotic'  \n",
       "\n",
       "[15311 rows x 7 columns]"
      ]
     },
     "execution_count": 6,
     "metadata": {},
     "output_type": "execute_result"
    }
   ],
   "source": [
    "metadata"
   ]
  },
  {
   "cell_type": "code",
   "execution_count": 7,
   "id": "9222a2dd",
   "metadata": {},
   "outputs": [
    {
     "name": "stdout",
     "output_type": "stream",
     "text": [
      "[b'apoptotic' b'non-apoptotic']\n"
     ]
    },
    {
     "data": {
      "text/plain": [
       "<AxesSubplot:>"
      ]
     },
     "execution_count": 7,
     "metadata": {},
     "output_type": "execute_result"
    },
    {
     "data": {
      "image/png": "[encoded data removed]",
      "text/plain": [
       "<Figure size 432x288 with 1 Axes>"
      ]
     },
     "metadata": {
      "needs_background": "light"
     },
     "output_type": "display_data"
    }
   ],
   "source": [
    "print(metadata.label.unique())\n",
    "metadata.label.hist()"
   ]
  },
  {
   "cell_type": "markdown",
   "id": "07ec3acd",
   "metadata": {},
   "source": [
    "so we have 15311 files with various labels. first we need to get rid of `unknown` labels"
   ]
  },
  {
   "cell_type": "code",
   "execution_count": 8,
   "id": "d23bb2a0",
   "metadata": {},
   "outputs": [],
   "source": [
    "row_index = metadata.label != \"unknown\"\n",
    "\n",
    "metadata = metadata.loc[row_index,:].reset_index(drop = True)"
   ]
  },
  {
   "cell_type": "markdown",
   "id": "afd92c90",
   "metadata": {},
   "source": [
    "lets plot a random image per class"
   ]
  },
  {
   "cell_type": "code",
   "execution_count": 9,
   "id": "e05efa8c",
   "metadata": {},
   "outputs": [
    {
     "name": "stdout",
     "output_type": "stream",
     "text": [
      "b'apoptotic'\n",
      "b'non-apoptotic'\n"
     ]
    },
    {
     "data": {
      "image/png": "[encoded data removed]",
      "text/plain": [
       "<Figure size 144x144 with 4 Axes>"
      ]
     },
     "metadata": {},
     "output_type": "display_data"
    }
   ],
   "source": [
    "from skimage.util import crop\n",
    "import h5py\n",
    "\n",
    "def crop_pad_h_w(image_dummy,reshape_size):\n",
    "    if image_dummy.shape[0] < reshape_size:\n",
    "        h1_pad = ( reshape_size - image_dummy.shape[0])/2\n",
    "        h1_pad = int(h1_pad)\n",
    "        h2_pad =  reshape_size - h1_pad - image_dummy.shape[0]\n",
    "        h1_crop = 0\n",
    "        h2_crop = 0\n",
    "    else:\n",
    "        h1_pad = 0\n",
    "        h2_pad = 0\n",
    "        h1_crop = ( reshape_size - image_dummy.shape[0])/2\n",
    "        h1_crop = abs(int(h1_crop))\n",
    "        h2_crop = image_dummy.shape[0]- reshape_size  - h1_crop\n",
    "\n",
    "    if image_dummy.shape[1] < reshape_size:\n",
    "        w1_pad = (reshape_size - image_dummy.shape[1])/2\n",
    "        w1_pad = int(w1_pad)\n",
    "        w2_pad = reshape_size - w1_pad - image_dummy.shape[1]\n",
    "        w1_crop = 0\n",
    "        w2_crop = 0\n",
    "    else:\n",
    "        w1_pad = 0\n",
    "        w2_pad = 0\n",
    "        w1_crop = (reshape_size - image_dummy.shape[1])/2\n",
    "        w1_crop = abs(int(w1_crop))\n",
    "        w2_crop = image_dummy.shape[1]- reshape_size  - w1_crop\n",
    "\n",
    "    h = [h1_crop, h2_crop, h1_pad, h2_pad]\n",
    "    w = [w1_crop, w2_crop, w1_pad, w2_pad] \n",
    "    return h, w\n",
    "\n",
    "def plot_images_with_metadata(metadata,  \n",
    "                              figsize = None,\n",
    "                              channels = [\"BF\",\"BF\", \"BF\"],\n",
    "                    channel_colors =  [\"Greys\", \"Oranges\", \"Blues\"],\n",
    "                    image_size = 128):\n",
    "    \n",
    "    metadata_dummy = metadata.copy()\n",
    "    metadata_dummy = metadata_dummy.reset_index(drop = True)\n",
    "    \n",
    "    nrows = len(metadata_dummy)\n",
    "    ncols = len(channel_colors)\n",
    "    \n",
    "    if figsize is None:\n",
    "        figsize = ( ncols*2, nrows*2 )\n",
    "    fix,ax = plt.subplots(nrows, ncols, figsize = figsize, tight_layout = True)\n",
    "    \n",
    "    vmin = [4095.]*ncols\n",
    "    vmax = [0.]*ncols\n",
    "    \n",
    "    for i in range(nrows):\n",
    "        h5_file_ = h5py.File(metadata_dummy.loc[i,\"file\"], \"r\")\n",
    "        image = h5_file_.get(\"image\")[()]\n",
    "        for j, ch in enumerate(range(ncols)):\n",
    "            vmin[j] = min(vmin[j], image[:,:,ch].min()  )\n",
    "            vmax[j] = max(vmax[j], image[:,:,ch].max()  )\n",
    "        \n",
    "    for i in range(nrows):\n",
    "        h5_file_ = h5py.File(metadata_dummy.loc[i,\"file\"], \"r\")\n",
    "        image = h5_file_.get(\"image\")[()]         \n",
    "        \n",
    "        h, w = crop_pad_h_w(image, image_size)\n",
    "        h1_crop, h2_crop, h1_pad, h2_pad =  h \n",
    "        w1_crop, w2_crop, w1_pad, w2_pad = w \n",
    "        for j, ch in enumerate(channel_colors):\n",
    "            image_dummy = crop(image[:,:,j], ((h1_crop,h2_crop),(w1_crop,w2_crop)))            \n",
    "            image_dummy = np.pad(image_dummy, \n",
    "                                     ((h1_pad,h2_pad),(w1_pad,w2_pad)), \n",
    "                                     'constant', \n",
    "                                     constant_values = np.mean(image_dummy) )\n",
    "            ax[i,j].imshow(image_dummy, cmap = channel_colors[j] , vmin = vmin[j], vmax = vmax[j]  )\n",
    "            ax[i,j].set_xticks([])\n",
    "            ax[i,j].set_yticks([])\n",
    "            \n",
    "            if j == 0:\n",
    "                print(metadata_dummy.loc[i,\"label\"])\n",
    "                ax[i,j].set_ylabel(metadata_dummy.loc[i,\"label\"])\n",
    "            if i == 0:\n",
    "                ax[i,j].set_xlabel(channels[j])\n",
    "                ax[i,j].xaxis.set_label_position('top') \n",
    "            \n",
    "        h5_file_.close()\n",
    "    plt.tight_layout()\n",
    "\n",
    "    \n",
    "plot_images_with_metadata(metadata.groupby('label').apply(lambda s: s.sample(1, random_state = 2)).reset_index(drop = True) ,  \n",
    "                              figsize = (2,2),\n",
    "                    channel_colors =  [\"Greys\", \"copper\"],\n",
    "                          channels = [\"BF\",\"FL\"],\n",
    "                    image_size = 32)\n"
   ]
  },
  {
   "cell_type": "markdown",
   "id": "639e2e8e",
   "metadata": {},
   "source": [
    "Set all random seeds to the specific value, so the results are more reproducable"
   ]
  },
  {
   "cell_type": "markdown",
   "id": "27e7d646",
   "metadata": {},
   "source": [
    "Define all necessary parameters"
   ]
  },
  {
   "cell_type": "code",
   "execution_count": 10,
   "id": "2b7aee56",
   "metadata": {},
   "outputs": [],
   "source": [
    "class AddGaussianNoise(object):\n",
    "    def __init__(self, mean=0., std=1.):\n",
    "        self.std = std\n",
    "        self.mean = mean\n",
    "        \n",
    "    def __call__(self, tensor):\n",
    "        return tensor + torch.randn(tensor.size()) * self.std + self.mean\n",
    "    \n",
    "    def __repr__(self):\n",
    "        return self.__class__.__name__ + '(mean={0}, std={1})'.format(self.mean, self.std)"
   ]
  },
  {
   "cell_type": "code",
   "execution_count": 11,
   "id": "29b98f3b",
   "metadata": {},
   "outputs": [],
   "source": [
    "class MinMaxScaler(object):\n",
    "    def __init__(self, min_in , max_in, min_out, max_out):\n",
    "        self.min_in = min_in.reshape(-1,1,1)\n",
    "        self.max_in = max_in.reshape(-1,1,1)\n",
    "        self.min_out = min_out\n",
    "        self.max_out = max_out\n",
    "        \n",
    "    def __call__(self, tensor):\n",
    "        \n",
    "        tensor_ = (tensor - self.min_in)/(self.max_in - self.min_in)\n",
    "        tensor_ = tensor_*(self.max_out - self.min_out) + self.min_out\n",
    "        tensor_[tensor_<self.min_out]= self.min_out\n",
    "        tensor_[tensor_>self.max_out]= self.max_out\n",
    "        return tensor_\n",
    "    \n",
    "    def __repr__(self):\n",
    "        return self.__class__.__name__ + '(min_out={0}, max_out={1})'.format(self.min_out, self.max_out)"
   ]
  },
  {
   "cell_type": "code",
   "execution_count": 12,
   "id": "23990d79",
   "metadata": {},
   "outputs": [],
   "source": [
    "\n",
    "model_dir = \"models\"\n",
    "log_dir = \"logs\"\n",
    "scaling_factor = 255.\n",
    "reshape_size = 32\n",
    "num_classes = len(metadata.label.unique())"
   ]
  },
  {
   "cell_type": "code",
   "execution_count": 13,
   "id": "a86a3b1f",
   "metadata": {},
   "outputs": [],
   "source": [
    "\n",
    "selected_channels = np.arange(2)\n",
    "num_channels = len(selected_channels)\n",
    "channels = np.asarray([ \"Ch\" + str(i) for i in selected_channels])\n",
    "num_of_all_channels = len(channels)\n",
    "all_channels = np.arange(num_of_all_channels)"
   ]
  },
  {
   "cell_type": "code",
   "execution_count": 14,
   "id": "2737c295",
   "metadata": {},
   "outputs": [],
   "source": [
    "batch_size = 128\n",
    "num_workers = 4\n",
    "device=\"cuda\""
   ]
  },
  {
   "cell_type": "code",
   "execution_count": 15,
   "id": "c1789d1d",
   "metadata": {},
   "outputs": [
    {
     "data": {
      "text/plain": [
       "{b'apoptotic': 0, b'non-apoptotic': 1}"
      ]
     },
     "execution_count": 15,
     "metadata": {},
     "output_type": "execute_result"
    }
   ],
   "source": [
    "label_map = dict(zip(sorted(set(metadata.loc[:, \"label\"])), \n",
    "                     np.arange(len(set(metadata.loc[:, \"label\"])))))\n",
    "\n",
    "set_of_interesting_classes = metadata.label.unique().tolist()\n",
    "\n",
    "label_map"
   ]
  },
  {
   "cell_type": "markdown",
   "id": "b31b1963",
   "metadata": {},
   "source": [
    "splitting data to train, validaiton and test"
   ]
  },
  {
   "cell_type": "code",
   "execution_count": 16,
   "id": "5613c7c5",
   "metadata": {},
   "outputs": [],
   "source": [
    "from sklearn.model_selection import StratifiedKFold\n",
    "from sklearn.model_selection import train_test_split\n",
    "from sklearn.preprocessing import OneHotEncoder\n",
    "\n",
    "seed_value = 42\n",
    "train_index, _, _, _ = train_test_split(metadata.index, \n",
    "                                                    metadata.label.tolist(), \n",
    "                                                    stratify = metadata.label.tolist(),\n",
    "                                                    test_size=0.2, \n",
    "                                                    shuffle=True,\n",
    "                                                    random_state=seed_value)\n",
    "\n",
    "\n",
    "skf = StratifiedKFold(n_splits=5,shuffle=False)\n",
    "main_fold = 1\n",
    "\n",
    "i = 1\n",
    "for train_index, test_index in skf.split(train_index.tolist(), \n",
    "                                metadata.loc[train_index, \"label\"].replace(label_map)):\n",
    "    if i == main_fold:\n",
    "        break\n",
    "    else:\n",
    "        i+=1\n",
    "\n",
    "\n",
    "\n",
    "\n",
    "train_index, validation_index, _, _ = train_test_split(train_index, \n",
    "                                                    metadata.loc[train_index,\"label\"].tolist(), \n",
    "                                                    stratify = metadata.loc[train_index,\"label\"].tolist(),\n",
    "                                                    test_size=0.2, \n",
    "                                                    shuffle=True,\n",
    "                                                    random_state=seed_value)"
   ]
  },
  {
   "cell_type": "markdown",
   "id": "475a6432",
   "metadata": {},
   "source": [
    "now we calculate the statistics of every channel to later use for nomalizing the dataset"
   ]
  },
  {
   "cell_type": "code",
   "execution_count": 17,
   "id": "e7256060",
   "metadata": {},
   "outputs": [],
   "source": [
    "train_dataset = DatasetGenerator(metadata=metadata.loc[train_index,:],\n",
    "                                 label_map=label_map,\n",
    "                                 selected_channels=selected_channels,\n",
    "                                 scaling_factor=scaling_factor,\n",
    "                                 reshape_size=reshape_size,\n",
    "                                 transform=transforms.Compose([]))"
   ]
  },
  {
   "cell_type": "code",
   "execution_count": 18,
   "id": "3a64b3c6",
   "metadata": {},
   "outputs": [],
   "source": [
    "train_loader = DataLoader(train_dataset, batch_size=batch_size, shuffle=False, num_workers=num_workers)"
   ]
  },
  {
   "cell_type": "code",
   "execution_count": 19,
   "id": "4f065d0c",
   "metadata": {},
   "outputs": [
    {
     "data": {
      "text/plain": [
       "<matplotlib.image.AxesImage at 0x14e556914410>"
      ]
     },
     "execution_count": 19,
     "metadata": {},
     "output_type": "execute_result"
    },
    {
     "data": {
      "image/png": "[encoded data removed]",
      "text/plain": [
       "<Figure size 432x288 with 1 Axes>"
      ]
     },
     "metadata": {
      "needs_background": "light"
     },
     "output_type": "display_data"
    }
   ],
   "source": [
    "plt.imshow(train_dataset[0][0][1])"
   ]
  },
  {
   "cell_type": "code",
   "execution_count": 20,
   "id": "ef449849",
   "metadata": {},
   "outputs": [
    {
     "name": "stderr",
     "output_type": "stream",
     "text": [
      "100%|██████████| 62/62 [00:07<00:00,  8.73it/s]"
     ]
    },
    {
     "name": "stdout",
     "output_type": "stream",
     "text": [
      "statistics used: {'min': tensor([1.5099e+00, 6.3251e-05]), 'p01': tensor([2.5242, 0.0173]), 'p05': tensor([2.8048, 0.0268]), 'p25': tensor([3.0935, 0.0485]), 'p50': tensor([3.1461, 0.0760]), 'p75': tensor([3.1876, 0.1634]), 'p95': tensor([3.4538, 0.7833]), 'p99': tensor([3.7519, 2.1285]), 'max': tensor([  5.2846, 252.9438]), 'mean': tensor([3.1394, 0.2223]), 'std': tensor([0.1986, 1.9980])}\n"
     ]
    },
    {
     "name": "stderr",
     "output_type": "stream",
     "text": [
      "\n"
     ]
    }
   ],
   "source": [
    "statistics = get_statistics(train_loader, selected_channels=selected_channels)"
   ]
  },
  {
   "cell_type": "markdown",
   "id": "9aa4e33b",
   "metadata": {},
   "source": [
    "adding the normalization to each transform"
   ]
  },
  {
   "cell_type": "code",
   "execution_count": 21,
   "id": "f2368397",
   "metadata": {},
   "outputs": [],
   "source": [
    "stats = dict()\n",
    "stats[\"lower_bound\"] = torch.tensor([statistics['min'][0], statistics['p01'][1]])\n",
    "stats[\"upper_bound\"] = torch.tensor([statistics['p99'][0], statistics['p99'][1]])\n",
    "\n",
    "train_transform = [ \n",
    "        MinMaxScaler(           min_in =  stats[\"lower_bound\"] , \n",
    "                                max_in =  stats[\"upper_bound\"] , \n",
    "                                min_out =  0. , \n",
    "                                max_out =  1.),\n",
    "        transforms.RandomHorizontalFlip(),\n",
    "        transforms.RandomVerticalFlip(),\n",
    "        AddGaussianNoise(mean=0., std=0.01),\n",
    "]\n",
    "\n",
    "validation_transform =  [ \n",
    "        MinMaxScaler(           min_in =  stats[\"lower_bound\"] , \n",
    "                                max_in =  stats[\"upper_bound\"] , \n",
    "                                min_out =  0. , \n",
    "                                max_out =  1.),\n",
    "]\n",
    "\n",
    "test_transform =  [ \n",
    "        MinMaxScaler(           min_in =  stats[\"lower_bound\"] , \n",
    "                                max_in =  stats[\"upper_bound\"] , \n",
    "                                min_out =  0. , \n",
    "                                max_out =  1.),\n",
    "]"
   ]
  },
  {
   "cell_type": "code",
   "execution_count": 22,
   "id": "b7075ad9",
   "metadata": {},
   "outputs": [],
   "source": [
    "train_loader = None"
   ]
  },
  {
   "cell_type": "markdown",
   "id": "58d57ca7",
   "metadata": {},
   "source": [
    "defining train, validation and test datasets"
   ]
  },
  {
   "cell_type": "code",
   "execution_count": 23,
   "id": "802f7ade",
   "metadata": {},
   "outputs": [],
   "source": [
    "train_dataset = DatasetGenerator(metadata=metadata.loc[train_index,:],\n",
    "                                 label_map=label_map,\n",
    "                                 selected_channels=selected_channels,\n",
    "                                 scaling_factor=scaling_factor, \n",
    "                                 reshape_size=reshape_size,\n",
    "                                 transform= transforms.Compose(train_transform))\n",
    "\n",
    "validation_dataset = DatasetGenerator(metadata=metadata.loc[validation_index,:],\n",
    "                                      label_map=label_map,\n",
    "                                      selected_channels=selected_channels,\n",
    "                                      scaling_factor=scaling_factor,\n",
    "                                      reshape_size=reshape_size,\n",
    "                                      transform=transforms.Compose(test_transform))\n",
    "\n",
    "test_dataset = DatasetGenerator(metadata=metadata.loc[test_index,:],\n",
    "                                label_map=label_map,\n",
    "                                selected_channels=selected_channels,\n",
    "                                scaling_factor=scaling_factor,\n",
    "                                reshape_size=reshape_size,\n",
    "                                transform=\n",
    "                                transforms.Compose(test_transform))"
   ]
  },
  {
   "cell_type": "code",
   "execution_count": 24,
   "id": "813bb743",
   "metadata": {},
   "outputs": [
    {
     "data": {
      "text/plain": [
       "<matplotlib.image.AxesImage at 0x14e5570c7d10>"
      ]
     },
     "execution_count": 24,
     "metadata": {},
     "output_type": "execute_result"
    },
    {
     "data": {
      "image/png": "[encoded data removed]",
      "text/plain": [
       "<Figure size 432x288 with 1 Axes>"
      ]
     },
     "metadata": {
      "needs_background": "light"
     },
     "output_type": "display_data"
    }
   ],
   "source": [
    "plt.imshow(test_dataset[0][0][0])"
   ]
  },
  {
   "cell_type": "code",
   "execution_count": 25,
   "id": "ec42c9e7",
   "metadata": {},
   "outputs": [
    {
     "data": {
      "text/plain": [
       "<matplotlib.image.AxesImage at 0x14e557062910>"
      ]
     },
     "execution_count": 25,
     "metadata": {},
     "output_type": "execute_result"
    },
    {
     "data": {
      "image/png": "[encoded data removed]",
      "text/plain": [
       "<Figure size 432x288 with 1 Axes>"
      ]
     },
     "metadata": {
      "needs_background": "light"
     },
     "output_type": "display_data"
    }
   ],
   "source": [
    "plt.imshow(test_dataset[0][0][1])"
   ]
  },
  {
   "cell_type": "code",
   "execution_count": 26,
   "id": "c683683e",
   "metadata": {},
   "outputs": [
    {
     "data": {
      "text/plain": [
       "<matplotlib.image.AxesImage at 0x14e556efaf10>"
      ]
     },
     "execution_count": 26,
     "metadata": {},
     "output_type": "execute_result"
    },
    {
     "data": {
      "image/png": "[encoded data removed]",
      "text/plain": [
       "<Figure size 432x288 with 1 Axes>"
      ]
     },
     "metadata": {
      "needs_background": "light"
     },
     "output_type": "display_data"
    }
   ],
   "source": [
    "plt.imshow(validation_dataset[0][0][0])"
   ]
  },
  {
   "cell_type": "code",
   "execution_count": 27,
   "id": "f1064d33",
   "metadata": {},
   "outputs": [
    {
     "data": {
      "text/plain": [
       "<matplotlib.image.AxesImage at 0x14e557035310>"
      ]
     },
     "execution_count": 27,
     "metadata": {},
     "output_type": "execute_result"
    },
    {
     "data": {
      "image/png": "[encoded data removed]",
      "text/plain": [
       "<Figure size 432x288 with 1 Axes>"
      ]
     },
     "metadata": {
      "needs_background": "light"
     },
     "output_type": "display_data"
    }
   ],
   "source": [
    "plt.imshow(train_dataset[0][0][0])"
   ]
  },
  {
   "cell_type": "code",
   "execution_count": 28,
   "id": "30007eba",
   "metadata": {},
   "outputs": [
    {
     "data": {
      "text/plain": [
       "<matplotlib.image.AxesImage at 0x14e5562e6f50>"
      ]
     },
     "execution_count": 28,
     "metadata": {},
     "output_type": "execute_result"
    },
    {
     "data": {
      "image/png": "[encoded data removed]",
      "text/plain": [
       "<Figure size 432x288 with 1 Axes>"
      ]
     },
     "metadata": {
      "needs_background": "light"
     },
     "output_type": "display_data"
    }
   ],
   "source": [
    "plt.imshow(train_dataset[0][0][1])"
   ]
  },
  {
   "cell_type": "markdown",
   "id": "f80959ea",
   "metadata": {},
   "source": [
    "considering that we have multiple input channels, we need to modify the ResNet18 network input layer"
   ]
  },
  {
   "cell_type": "code",
   "execution_count": 29,
   "id": "630e3e49",
   "metadata": {},
   "outputs": [],
   "source": [
    "import torch.nn as nn\n",
    "import torch.nn.functional as F\n",
    "\n",
    "model = PretrainedModel(num_channels = len(selected_channels),\n",
    "                                    num_classes = len(set_of_interesting_classes), \n",
    "                                    pretrained = True)"
   ]
  },
  {
   "cell_type": "code",
   "execution_count": null,
   "id": "26d042e0",
   "metadata": {},
   "outputs": [],
   "source": []
  },
  {
   "cell_type": "code",
   "execution_count": null,
   "id": "5f4424c3",
   "metadata": {},
   "outputs": [],
   "source": []
  },
  {
   "cell_type": "markdown",
   "id": "662bd8e6",
   "metadata": {},
   "source": [
    "finally, we add a scheduler and an early stopping based on valid_f1_macro"
   ]
  },
  {
   "cell_type": "code",
   "execution_count": 30,
   "id": "3c77e1e5",
   "metadata": {},
   "outputs": [],
   "source": [
    "lr_scheduler = LRScheduler(policy='ReduceLROnPlateau', factor=0.5, patience=5)\n",
    "\n",
    "epoch_scoring_f1_micro = EpochScoring(\"f1_micro\", \n",
    "                             name =  \"valid_f1_micro\", \n",
    "                             on_train = False,\n",
    "                             lower_is_better = False)\n",
    "\n",
    "epoch_scoring_f1_macro = EpochScoring(\"f1_macro\", \n",
    "                             name =  \"valid_f1_macro\", \n",
    "                             on_train = False,\n",
    "                             lower_is_better = False)\n",
    "\n",
    "early_stopping = EarlyStopping(monitor='valid_f1_macro', \n",
    "                               patience=50, \n",
    "                               threshold=0.0001, \n",
    "                               threshold_mode='rel', \n",
    "                               lower_is_better=False)\n",
    "\n",
    "checkpoint = Checkpoint(f_params='apoptotic_cells_DL_fold' + str(main_fold) +'.pth',\n",
    "                        monitor='valid_f1_macro_best', load_best=True)"
   ]
  },
  {
   "cell_type": "markdown",
   "id": "1c120641",
   "metadata": {},
   "source": [
    "lets define and train the model using `skorch`"
   ]
  },
  {
   "cell_type": "code",
   "execution_count": 31,
   "id": "49f0790b",
   "metadata": {},
   "outputs": [
    {
     "ename": "NameError",
     "evalue": "name 'resnet18_modified' is not defined",
     "output_type": "error",
     "traceback": [
      "\u001b[0;31m---------------------------------------------------------------------------\u001b[0m",
      "\u001b[0;31mNameError\u001b[0m                                 Traceback (most recent call last)",
      "\u001b[0;32m<timed exec>\u001b[0m in \u001b[0;36m<module>\u001b[0;34m\u001b[0m\n",
      "\u001b[0;31mNameError\u001b[0m: name 'resnet18_modified' is not defined"
     ]
    }
   ],
   "source": [
    "%%time\n",
    "\n",
    "net = NeuralNetClassifier(    \n",
    "    resnet18_modified, \n",
    "    criterion=nn.CrossEntropyLoss,\n",
    "    lr=0.001,\n",
    "    batch_size=batch_size,\n",
    "    max_epochs=1000,\n",
    "    optimizer=optim.Adam,\n",
    "    iterator_train__shuffle=True,\n",
    "    iterator_train__num_workers=num_workers,\n",
    "    iterator_valid__shuffle=False,\n",
    "    iterator_valid__num_workers=2,\n",
    "    callbacks=[lr_scheduler, epoch_scoring_f1_micro, \n",
    "               epoch_scoring_f1_macro, \n",
    "               early_stopping, checkpoint],\n",
    "    train_split=predefined_split(validation_dataset),\n",
    "    device=\"cuda\",\n",
    "    warm_start=True)"
   ]
  },
  {
   "cell_type": "code",
   "execution_count": 32,
   "id": "13944e55",
   "metadata": {},
   "outputs": [
    {
     "data": {
      "text/plain": [
       "PretrainedModel(\n",
       "  (model): ResNet(\n",
       "    (conv1): Conv2d(2, 64, kernel_size=(7, 7), stride=(2, 2), padding=(3, 3), bias=False)\n",
       "    (bn1): BatchNorm2d(64, eps=1e-05, momentum=0.1, affine=True, track_running_stats=True)\n",
       "    (relu): ReLU(inplace=True)\n",
       "    (maxpool): MaxPool2d(kernel_size=3, stride=2, padding=1, dilation=1, ceil_mode=False)\n",
       "    (layer1): Sequential(\n",
       "      (0): BasicBlock(\n",
       "        (conv1): Conv2d(64, 64, kernel_size=(3, 3), stride=(1, 1), padding=(1, 1), bias=False)\n",
       "        (bn1): BatchNorm2d(64, eps=1e-05, momentum=0.1, affine=True, track_running_stats=True)\n",
       "        (relu): ReLU(inplace=True)\n",
       "        (conv2): Conv2d(64, 64, kernel_size=(3, 3), stride=(1, 1), padding=(1, 1), bias=False)\n",
       "        (bn2): BatchNorm2d(64, eps=1e-05, momentum=0.1, affine=True, track_running_stats=True)\n",
       "        (relu2): ReLU(inplace=True)\n",
       "      )\n",
       "      (1): BasicBlock(\n",
       "        (conv1): Conv2d(64, 64, kernel_size=(3, 3), stride=(1, 1), padding=(1, 1), bias=False)\n",
       "        (bn1): BatchNorm2d(64, eps=1e-05, momentum=0.1, affine=True, track_running_stats=True)\n",
       "        (relu): ReLU(inplace=True)\n",
       "        (conv2): Conv2d(64, 64, kernel_size=(3, 3), stride=(1, 1), padding=(1, 1), bias=False)\n",
       "        (bn2): BatchNorm2d(64, eps=1e-05, momentum=0.1, affine=True, track_running_stats=True)\n",
       "        (relu2): ReLU(inplace=True)\n",
       "      )\n",
       "    )\n",
       "    (layer2): Sequential(\n",
       "      (0): BasicBlock(\n",
       "        (conv1): Conv2d(64, 128, kernel_size=(3, 3), stride=(2, 2), padding=(1, 1), bias=False)\n",
       "        (bn1): BatchNorm2d(128, eps=1e-05, momentum=0.1, affine=True, track_running_stats=True)\n",
       "        (relu): ReLU(inplace=True)\n",
       "        (conv2): Conv2d(128, 128, kernel_size=(3, 3), stride=(1, 1), padding=(1, 1), bias=False)\n",
       "        (bn2): BatchNorm2d(128, eps=1e-05, momentum=0.1, affine=True, track_running_stats=True)\n",
       "        (downsample): Sequential(\n",
       "          (0): Conv2d(64, 128, kernel_size=(1, 1), stride=(2, 2), bias=False)\n",
       "          (1): BatchNorm2d(128, eps=1e-05, momentum=0.1, affine=True, track_running_stats=True)\n",
       "        )\n",
       "        (relu2): ReLU(inplace=True)\n",
       "      )\n",
       "      (1): BasicBlock(\n",
       "        (conv1): Conv2d(128, 128, kernel_size=(3, 3), stride=(1, 1), padding=(1, 1), bias=False)\n",
       "        (bn1): BatchNorm2d(128, eps=1e-05, momentum=0.1, affine=True, track_running_stats=True)\n",
       "        (relu): ReLU(inplace=True)\n",
       "        (conv2): Conv2d(128, 128, kernel_size=(3, 3), stride=(1, 1), padding=(1, 1), bias=False)\n",
       "        (bn2): BatchNorm2d(128, eps=1e-05, momentum=0.1, affine=True, track_running_stats=True)\n",
       "        (relu2): ReLU(inplace=True)\n",
       "      )\n",
       "    )\n",
       "    (layer3): Sequential(\n",
       "      (0): BasicBlock(\n",
       "        (conv1): Conv2d(128, 256, kernel_size=(3, 3), stride=(2, 2), padding=(1, 1), bias=False)\n",
       "        (bn1): BatchNorm2d(256, eps=1e-05, momentum=0.1, affine=True, track_running_stats=True)\n",
       "        (relu): ReLU(inplace=True)\n",
       "        (conv2): Conv2d(256, 256, kernel_size=(3, 3), stride=(1, 1), padding=(1, 1), bias=False)\n",
       "        (bn2): BatchNorm2d(256, eps=1e-05, momentum=0.1, affine=True, track_running_stats=True)\n",
       "        (downsample): Sequential(\n",
       "          (0): Conv2d(128, 256, kernel_size=(1, 1), stride=(2, 2), bias=False)\n",
       "          (1): BatchNorm2d(256, eps=1e-05, momentum=0.1, affine=True, track_running_stats=True)\n",
       "        )\n",
       "        (relu2): ReLU(inplace=True)\n",
       "      )\n",
       "      (1): BasicBlock(\n",
       "        (conv1): Conv2d(256, 256, kernel_size=(3, 3), stride=(1, 1), padding=(1, 1), bias=False)\n",
       "        (bn1): BatchNorm2d(256, eps=1e-05, momentum=0.1, affine=True, track_running_stats=True)\n",
       "        (relu): ReLU(inplace=True)\n",
       "        (conv2): Conv2d(256, 256, kernel_size=(3, 3), stride=(1, 1), padding=(1, 1), bias=False)\n",
       "        (bn2): BatchNorm2d(256, eps=1e-05, momentum=0.1, affine=True, track_running_stats=True)\n",
       "        (relu2): ReLU(inplace=True)\n",
       "      )\n",
       "    )\n",
       "    (layer4): Sequential(\n",
       "      (0): BasicBlock(\n",
       "        (conv1): Conv2d(256, 512, kernel_size=(3, 3), stride=(2, 2), padding=(1, 1), bias=False)\n",
       "        (bn1): BatchNorm2d(512, eps=1e-05, momentum=0.1, affine=True, track_running_stats=True)\n",
       "        (relu): ReLU(inplace=True)\n",
       "        (conv2): Conv2d(512, 512, kernel_size=(3, 3), stride=(1, 1), padding=(1, 1), bias=False)\n",
       "        (bn2): BatchNorm2d(512, eps=1e-05, momentum=0.1, affine=True, track_running_stats=True)\n",
       "        (downsample): Sequential(\n",
       "          (0): Conv2d(256, 512, kernel_size=(1, 1), stride=(2, 2), bias=False)\n",
       "          (1): BatchNorm2d(512, eps=1e-05, momentum=0.1, affine=True, track_running_stats=True)\n",
       "        )\n",
       "        (relu2): ReLU(inplace=True)\n",
       "      )\n",
       "      (1): BasicBlock(\n",
       "        (conv1): Conv2d(512, 512, kernel_size=(3, 3), stride=(1, 1), padding=(1, 1), bias=False)\n",
       "        (bn1): BatchNorm2d(512, eps=1e-05, momentum=0.1, affine=True, track_running_stats=True)\n",
       "        (relu): ReLU(inplace=True)\n",
       "        (conv2): Conv2d(512, 512, kernel_size=(3, 3), stride=(1, 1), padding=(1, 1), bias=False)\n",
       "        (bn2): BatchNorm2d(512, eps=1e-05, momentum=0.1, affine=True, track_running_stats=True)\n",
       "        (relu2): ReLU(inplace=True)\n",
       "      )\n",
       "    )\n",
       "    (avgpool): AdaptiveAvgPool2d(output_size=(1, 1))\n",
       "    (fc): Linear(in_features=512, out_features=2, bias=True)\n",
       "  )\n",
       ")"
      ]
     },
     "execution_count": 32,
     "metadata": {},
     "output_type": "execute_result"
    }
   ],
   "source": [
    "model.load_state_dict(torch.load('apoptotic_cells_DL_fold' + str(main_fold) +'.pth'))\n",
    "model.cuda()"
   ]
  },
  {
   "cell_type": "markdown",
   "id": "92e9095f",
   "metadata": {},
   "source": [
    "\n",
    "\n",
    "lets take a look the prediction pefromance for the validation set"
   ]
  },
  {
   "cell_type": "markdown",
   "id": "0bf0a285",
   "metadata": {},
   "source": [
    "and finally for the test set"
   ]
  },
  {
   "cell_type": "code",
   "execution_count": 33,
   "id": "4c9d9d38",
   "metadata": {},
   "outputs": [],
   "source": [
    "\n",
    "torch.cuda.empty_cache()"
   ]
  },
  {
   "cell_type": "markdown",
   "id": "64ece6e5",
   "metadata": {},
   "source": [
    "### Model Interpretation"
   ]
  },
  {
   "cell_type": "code",
   "execution_count": 34,
   "id": "21860a82",
   "metadata": {},
   "outputs": [],
   "source": [
    "# where to save results\n",
    "model_name = \"resnet18\"\n",
    "dataset_name = \"apoptotic vs. non-apoptotic\""
   ]
  },
  {
   "cell_type": "markdown",
   "id": "b658e806",
   "metadata": {},
   "source": [
    "#### Pixel-Permutation Tests"
   ]
  },
  {
   "cell_type": "code",
   "execution_count": 35,
   "id": "e622d29e",
   "metadata": {},
   "outputs": [],
   "source": [
    "from time import process_time"
   ]
  },
  {
   "cell_type": "code",
   "execution_count": 36,
   "id": "5427ac16",
   "metadata": {},
   "outputs": [],
   "source": [
    "\n",
    "test_loader = DataLoader(test_dataset, batch_size=batch_size, shuffle=False, num_workers=num_workers)"
   ]
  },
  {
   "cell_type": "code",
   "execution_count": 37,
   "id": "9f2c47d2",
   "metadata": {},
   "outputs": [],
   "source": [
    "correct = 0.\n",
    "total = 0.\n",
    "y_true = list()\n",
    "y_pred = list()\n",
    "y_true_proba = list()\n",
    "with torch.no_grad():\n",
    "    for data in test_loader:\n",
    "        inputs, labels = data[0].to(device).float(), data[1].to(device).long()\n",
    "        outputs = model(inputs)\n",
    "        pred = outputs.argmax(dim=1)\n",
    "        true_proba = np.array([j[i] for (i,j) in zip(pred, outputs.cpu())])\n",
    "        _, predicted = torch.max(outputs.data, 1)\n",
    "        total += labels.size(0)\n",
    "        correct += (labels.reshape(-1) == predicted).sum().item()\n",
    "        for i in range(len(pred)):\n",
    "            y_true.append(labels[i].item())\n",
    "            y_pred.append(pred[i].item())\n",
    "            y_true_proba.append(true_proba[i].item())"
   ]
  },
  {
   "cell_type": "code",
   "execution_count": 38,
   "id": "c3f7df24",
   "metadata": {},
   "outputs": [],
   "source": [
    "class_names_targets = [c.decode('ASCII') for c in label_map.keys()]"
   ]
  },
  {
   "cell_type": "code",
   "execution_count": 39,
   "id": "d0b9247a",
   "metadata": {},
   "outputs": [
    {
     "data": {
      "text/plain": [
       "['apoptotic', 'non-apoptotic']"
      ]
     },
     "execution_count": 39,
     "metadata": {},
     "output_type": "execute_result"
    }
   ],
   "source": [
    "class_names_targets"
   ]
  },
  {
   "cell_type": "code",
   "execution_count": 40,
   "id": "93102e1c",
   "metadata": {},
   "outputs": [
    {
     "name": "stdout",
     "output_type": "stream",
     "text": [
      "               precision    recall  f1-score   support\n",
      "\n",
      "    apoptotic       0.95      0.96      0.95      1427\n",
      "non-apoptotic       0.94      0.94      0.94      1023\n",
      "\n",
      "     accuracy                           0.95      2450\n",
      "    macro avg       0.95      0.95      0.95      2450\n",
      " weighted avg       0.95      0.95      0.95      2450\n",
      "\n"
     ]
    }
   ],
   "source": [
    "print(classification_report(y_true, y_pred, target_names=class_names_targets, digits=2))"
   ]
  },
  {
   "cell_type": "markdown",
   "id": "8ec2ce3a",
   "metadata": {},
   "source": [
    "## k ablation"
   ]
  },
  {
   "cell_type": "code",
   "execution_count": 41,
   "id": "1db4f85d",
   "metadata": {},
   "outputs": [
    {
     "name": "stderr",
     "output_type": "stream",
     "text": [
      "100%|██████████| 5/5 [00:07<00:00,  1.40s/it]\n",
      "100%|██████████| 5/5 [00:07<00:00,  1.50s/it]\n",
      "100%|██████████| 10/10 [00:15<00:00,  1.51s/it]\n",
      "100%|██████████| 10/10 [00:15<00:00,  1.56s/it]\n",
      "100%|██████████| 20/20 [00:50<00:00,  2.52s/it]\n",
      "100%|██████████| 20/20 [00:33<00:00,  1.69s/it]\n",
      "100%|██████████| 30/30 [00:42<00:00,  1.42s/it]\n",
      "100%|██████████| 30/30 [00:43<00:00,  1.45s/it]\n",
      "100%|██████████| 40/40 [01:00<00:00,  1.52s/it]\n",
      "100%|██████████| 40/40 [01:02<00:00,  1.56s/it]\n",
      "100%|██████████| 50/50 [01:13<00:00,  1.47s/it]\n",
      "100%|██████████| 50/50 [01:13<00:00,  1.46s/it]\n",
      "100%|██████████| 100/100 [02:34<00:00,  1.55s/it]\n",
      "100%|██████████| 100/100 [02:28<00:00,  1.48s/it]\n",
      "100%|██████████| 200/200 [04:55<00:00,  1.48s/it]\n",
      "100%|██████████| 200/200 [04:45<00:00,  1.43s/it]\n",
      "100%|██████████| 500/500 [12:05<00:00,  1.45s/it]\n",
      "100%|██████████| 500/500 [12:23<00:00,  1.49s/it]\n",
      "100%|██████████| 1000/1000 [24:19<00:00,  1.46s/it]\n",
      "100%|██████████| 1000/1000 [24:17<00:00,  1.46s/it]"
     ]
    },
    {
     "name": "stdout",
     "output_type": "stream",
     "text": [
      "CPU times: user 10min 43s, sys: 15min 37s, total: 26min 20s\n",
      "Wall time: 1h 35min 55s\n"
     ]
    },
    {
     "name": "stderr",
     "output_type": "stream",
     "text": [
      "\n"
     ]
    }
   ],
   "source": [
    "%%time\n",
    "\n",
    "t1_start = process_time()\n",
    "\n",
    "shuffle_times_list = [5,10,20,30,40,50,100,200,500,1000]\n",
    "shuffle_times_results_order = dict()\n",
    "shuffle_times_results_values = dict()\n",
    "f1_score_original = f1_score(y_true, y_pred, average=None, labels=np.arange(num_classes))\n",
    "for shuffle_times in shuffle_times_list:\n",
    "    min_mean_dif = 1.0\n",
    "    candidate = 0\n",
    "    df_all = pd.DataFrame([], columns=class_names_targets)\n",
    "    for c in range(num_channels):\n",
    "        f1_score_diff_from_original_per_channel_per_shuffle = []\n",
    "        transform = test_transform.copy()\n",
    "        transform.append(ShuffleChannel(channels_to_shuffle=[c]))\n",
    "        for s in tqdm(range(shuffle_times)):\n",
    "            dataset = DatasetGenerator(metadata=metadata.loc[test_index,:],\n",
    "                                     label_map=label_map,\n",
    "                                     selected_channels=selected_channels,\n",
    "                                     scaling_factor=scaling_factor,\n",
    "                                     reshape_size=reshape_size,\n",
    "                                     transform=transforms.Compose(transform))\n",
    "            dataloader = DataLoader(dataset,\n",
    "                                    batch_size=batch_size,\n",
    "                                    shuffle=False,\n",
    "                                    num_workers=num_workers)\n",
    "            y_true = list()\n",
    "            y_pred = list()\n",
    "            with torch.no_grad():\n",
    "                for data in dataloader:\n",
    "                    inputs, labels = data[0].to(device).float(), data[1].to(device).reshape(-1).long()\n",
    "                    outputs = model(inputs)\n",
    "                    pred = outputs.argmax(dim=1)\n",
    "                    for i in range(len(pred)):\n",
    "                        y_true.append(labels[i].item())\n",
    "                        y_pred.append(pred[i].item())\n",
    "                f1_score_per_channel = f1_score(y_true, y_pred, average=None, labels=np.arange(num_classes))\n",
    "                f1_score_diff_from_original_per_channel_per_shuffle.append(f1_score_original - f1_score_per_channel)\n",
    "        mean_along_columns = np.mean(f1_score_diff_from_original_per_channel_per_shuffle, axis=0)\n",
    "        mean_dif = np.mean(mean_along_columns)\n",
    "        if mean_dif < min_mean_dif and mean_dif > 0 and not selected_channels[c]:\n",
    "            min_mean_dif = mean_dif\n",
    "            candidate = selected_channels[c]\n",
    "        df_diff = pd.DataFrame(np.atleast_2d(f1_score_diff_from_original_per_channel_per_shuffle), columns=class_names_targets)\n",
    "        df_mean_diff = pd.DataFrame(np.atleast_2d(mean_along_columns), columns=class_names_targets)\n",
    "        df_all = pd.concat([df_all, df_mean_diff], ignore_index=True, sort=False)\n",
    "        shuffle_times_results_order[shuffle_times] = df_all.T.mean().argsort()\n",
    "        shuffle_times_results_values[shuffle_times] = df_all.T.mean()\n",
    "\n",
    "pd.DataFrame(shuffle_times_results_order).to_csv(\"shuffle_times_results_order\" + str(main_fold) + \".csv\")\n",
    "pd.DataFrame(shuffle_times_results_values).to_csv(\"shuffle_times_results_values\" + str(main_fold) + \".csv\")\n",
    "\n",
    "torch.cuda.empty_cache()"
   ]
  },
  {
   "cell_type": "code",
   "execution_count": 42,
   "id": "220eeb3b",
   "metadata": {},
   "outputs": [
    {
     "data": {
      "text/html": [
       "<div>\n",
       "<style scoped>\n",
       "    .dataframe tbody tr th:only-of-type {\n",
       "        vertical-align: middle;\n",
       "    }\n",
       "\n",
       "    .dataframe tbody tr th {\n",
       "        vertical-align: top;\n",
       "    }\n",
       "\n",
       "    .dataframe thead th {\n",
       "        text-align: right;\n",
       "    }\n",
       "</style>\n",
       "<table border=\"1\" class=\"dataframe\">\n",
       "  <thead>\n",
       "    <tr style=\"text-align: right;\">\n",
       "      <th></th>\n",
       "      <th>5</th>\n",
       "      <th>10</th>\n",
       "      <th>20</th>\n",
       "      <th>30</th>\n",
       "      <th>40</th>\n",
       "      <th>50</th>\n",
       "      <th>100</th>\n",
       "      <th>200</th>\n",
       "      <th>500</th>\n",
       "      <th>1000</th>\n",
       "    </tr>\n",
       "  </thead>\n",
       "  <tbody>\n",
       "    <tr>\n",
       "      <th>0</th>\n",
       "      <td>0</td>\n",
       "      <td>0</td>\n",
       "      <td>0</td>\n",
       "      <td>0</td>\n",
       "      <td>0</td>\n",
       "      <td>0</td>\n",
       "      <td>0</td>\n",
       "      <td>0</td>\n",
       "      <td>0</td>\n",
       "      <td>0</td>\n",
       "    </tr>\n",
       "    <tr>\n",
       "      <th>1</th>\n",
       "      <td>1</td>\n",
       "      <td>1</td>\n",
       "      <td>1</td>\n",
       "      <td>1</td>\n",
       "      <td>1</td>\n",
       "      <td>1</td>\n",
       "      <td>1</td>\n",
       "      <td>1</td>\n",
       "      <td>1</td>\n",
       "      <td>1</td>\n",
       "    </tr>\n",
       "  </tbody>\n",
       "</table>\n",
       "</div>"
      ],
      "text/plain": [
       "   5     10    20    30    40    50    100   200   500   1000\n",
       "0     0     0     0     0     0     0     0     0     0     0\n",
       "1     1     1     1     1     1     1     1     1     1     1"
      ]
     },
     "execution_count": 42,
     "metadata": {},
     "output_type": "execute_result"
    }
   ],
   "source": [
    "pd.DataFrame(shuffle_times_results_order)"
   ]
  },
  {
   "cell_type": "code",
   "execution_count": 43,
   "id": "b799122a",
   "metadata": {},
   "outputs": [
    {
     "data": {
      "text/html": [
       "<div>\n",
       "<style scoped>\n",
       "    .dataframe tbody tr th:only-of-type {\n",
       "        vertical-align: middle;\n",
       "    }\n",
       "\n",
       "    .dataframe tbody tr th {\n",
       "        vertical-align: top;\n",
       "    }\n",
       "\n",
       "    .dataframe thead th {\n",
       "        text-align: right;\n",
       "    }\n",
       "</style>\n",
       "<table border=\"1\" class=\"dataframe\">\n",
       "  <thead>\n",
       "    <tr style=\"text-align: right;\">\n",
       "      <th></th>\n",
       "      <th>5</th>\n",
       "      <th>10</th>\n",
       "      <th>20</th>\n",
       "      <th>30</th>\n",
       "      <th>40</th>\n",
       "      <th>50</th>\n",
       "      <th>100</th>\n",
       "      <th>200</th>\n",
       "      <th>500</th>\n",
       "      <th>1000</th>\n",
       "    </tr>\n",
       "  </thead>\n",
       "  <tbody>\n",
       "    <tr>\n",
       "      <th>0</th>\n",
       "      <td>0.004189</td>\n",
       "      <td>0.004924</td>\n",
       "      <td>0.004876</td>\n",
       "      <td>0.005192</td>\n",
       "      <td>0.005084</td>\n",
       "      <td>0.004691</td>\n",
       "      <td>0.005291</td>\n",
       "      <td>0.005089</td>\n",
       "      <td>0.004992</td>\n",
       "      <td>0.005072</td>\n",
       "    </tr>\n",
       "    <tr>\n",
       "      <th>1</th>\n",
       "      <td>0.342818</td>\n",
       "      <td>0.343438</td>\n",
       "      <td>0.345480</td>\n",
       "      <td>0.344277</td>\n",
       "      <td>0.346287</td>\n",
       "      <td>0.347167</td>\n",
       "      <td>0.344574</td>\n",
       "      <td>0.345276</td>\n",
       "      <td>0.345061</td>\n",
       "      <td>0.345416</td>\n",
       "    </tr>\n",
       "  </tbody>\n",
       "</table>\n",
       "</div>"
      ],
      "text/plain": [
       "       5         10        20        30        40        50        100   \\\n",
       "0  0.004189  0.004924  0.004876  0.005192  0.005084  0.004691  0.005291   \n",
       "1  0.342818  0.343438  0.345480  0.344277  0.346287  0.347167  0.344574   \n",
       "\n",
       "       200       500       1000  \n",
       "0  0.005089  0.004992  0.005072  \n",
       "1  0.345276  0.345061  0.345416  "
      ]
     },
     "execution_count": 43,
     "metadata": {},
     "output_type": "execute_result"
    }
   ],
   "source": [
    "pd.DataFrame(shuffle_times_results_values)"
   ]
  },
  {
   "cell_type": "code",
   "execution_count": null,
   "id": "f24ef79b",
   "metadata": {},
   "outputs": [],
   "source": []
  }
 ],
 "metadata": {
  "kernelspec": {
   "display_name": "Python 3 (ipykernel)",
   "language": "python",
   "name": "python3"
  },
  "language_info": {
   "codemirror_mode": {
    "name": "ipython",
    "version": 3
   },
   "file_extension": ".py",
   "mimetype": "text/x-python",
   "name": "python",
   "nbconvert_exporter": "python",
   "pygments_lexer": "ipython3",
   "version": "3.11.0"
  },
  "vscode": {
   "interpreter": {
    "hash": "dc85c72049d21f557e30689d2619ffc4ab3f684c40ae26d281fe4539bf4644b2"
   }
  }
 },
 "nbformat": 4,
 "nbformat_minor": 5
}
