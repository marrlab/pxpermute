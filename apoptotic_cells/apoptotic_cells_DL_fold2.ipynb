{
 "cells": [
  {
   "cell_type": "markdown",
   "metadata": {},
   "source": [
    "# Classification of Apoptotic cells\n",
    "\n",
    "In this jupyter notebook, we provide an example of how to extract explainable features and run a classification for the imaging flow cytometry dataset provided by:\n",
    "\n",
    "In vivo identification of apoptotic and extracellular vesicle-bound live cells using image-based deep learning https://doi.org/10.1080%2F20013078.2020.1792683\n",
    "\n",
    "\n",
    "We assume you have already installed the library. Otherwise you can install it using \n",
    "\n",
    "`!pip -q install <Path to the cloned module>`\n",
    "\n",
    "This notebook provides an example for deep learning methods"
   ]
  },
  {
   "cell_type": "markdown",
   "metadata": {},
   "source": [
    "here we import a series of needed modules. "
   ]
  },
  {
   "cell_type": "code",
   "execution_count": 1,
   "metadata": {},
   "outputs": [],
   "source": [
    "import scifAI\n",
    "import numpy as np\n",
    "from sklearn.datasets import make_classification\n",
    "import torch.nn as nn\n",
    "from skorch import NeuralNetClassifier\n",
    "import matplotlib.pyplot as plt\n",
    "import glob\n",
    "from imageio import imread\n",
    "# Ignore warnings\n",
    "import warnings\n",
    "warnings.filterwarnings(\"ignore\")\n",
    "import os\n",
    "import numpy as np\n",
    "from tqdm import tqdm\n",
    "import pandas as pd\n",
    "from sklearn.ensemble import RandomForestClassifier\n",
    "from sklearn.metrics import classification_report\n",
    "import torch\n",
    "from torchvision import transforms\n",
    "from IPython.core.debugger import Tracer\n",
    "from torch.utils.data import DataLoader, Dataset\n",
    "from sklearn.pipeline import Pipeline, FeatureUnion\n",
    "# Compare Algorithms\n",
    "from sklearn.model_selection import train_test_split\n",
    "from imblearn.over_sampling import RandomOverSampler\n",
    "from sklearn.metrics import f1_score"
   ]
  },
  {
   "cell_type": "code",
   "execution_count": 2,
   "metadata": {},
   "outputs": [],
   "source": [
    "from scifAI.dl.utils import calculate_weights, train_validation_test_split, get_statistics\n",
    "from scifAI.dl.dataset import DatasetGenerator\n",
    "from scifAI.dl.custom_transforms import ShuffleChannel\n",
    "from scifAI.dl.models import PretrainedModel, resnet18"
   ]
  },
  {
   "cell_type": "code",
   "execution_count": 3,
   "metadata": {},
   "outputs": [],
   "source": [
    "from iflai.dl.models import PretrainedModel\n",
    "from skorch.callbacks import LRScheduler,Checkpoint,EpochScoring,EarlyStopping\n",
    "import torch.optim as optim\n",
    "from skorch.helper import predefined_split"
   ]
  },
  {
   "cell_type": "markdown",
   "metadata": {},
   "source": [
    "here, we provide a function for visualizing the result of the confusion matrix which will be used later."
   ]
  },
  {
   "cell_type": "code",
   "execution_count": 4,
   "metadata": {},
   "outputs": [],
   "source": [
    "from sklearn.metrics import (plot_confusion_matrix, \n",
    "                             matthews_corrcoef, \n",
    "                             classification_report,\n",
    "                             confusion_matrix, \n",
    "                             accuracy_score, \n",
    "                             balanced_accuracy_score, \n",
    "                             cohen_kappa_score, \n",
    "                             f1_score,  \n",
    "                             precision_score, recall_score)\n",
    "from imblearn.metrics import classification_report_imbalanced\n",
    "\n",
    "def classification_complete_report(y_true, y_pred, plot = True ): \n",
    "    print(classification_report(y_true, y_pred))\n",
    "    print(15*\"----\")\n",
    "    print(\"matthews correlation coeff: %.2f\" % (matthews_corrcoef(y_true, y_pred)) )\n",
    "    print(\"Cohen Kappa score: %.2f\" % (cohen_kappa_score(y_true, y_pred)) )\n",
    "    print(\"Accuracy: %.2f & balanced Accuracy: %.2f\" % (accuracy_score(y_true, y_pred), balanced_accuracy_score(y_true, y_pred)) )\n",
    "    print(\"macro F1 score: %.2f & micro F1 score: %.2f\" % (f1_score(y_true, y_pred, average = \"macro\"), f1_score(y_true, y_pred, average = \"micro\")) )\n",
    "    print(\"macro Precision score: %.2f & micro Precision score: %.2f\" % (precision_score(y_true, y_pred, average = \"macro\"), precision_score(y_true, y_pred, average = \"micro\")) )\n",
    "    print(\"macro Recall score: %.2f & micro Recall score: %.2f\" % (recall_score(y_true, y_pred, average = \"macro\"), recall_score(y_true, y_pred, average = \"micro\")) )\n",
    "    print(15*\"----\")\n",
    "    \n",
    "    "
   ]
  },
  {
   "cell_type": "markdown",
   "metadata": {},
   "source": [
    "now lets calculate the metadata:"
   ]
  },
  {
   "cell_type": "code",
   "execution_count": 5,
   "metadata": {},
   "outputs": [
    {
     "name": "stdout",
     "output_type": "stream",
     "text": [
      "Metadata prepration starts...\n",
      "Experiment_1 Donor_1 condition_1\n"
     ]
    },
    {
     "name": "stderr",
     "output_type": "stream",
     "text": [
      "100%|██████████| 15311/15311 [00:02<00:00, 5412.99it/s]\n"
     ]
    },
    {
     "name": "stdout",
     "output_type": "stream",
     "text": [
      "...metadata prepration ended.\n",
      "CPU times: user 254 ms, sys: 168 ms, total: 422 ms\n",
      "Wall time: 3.34 s\n"
     ]
    }
   ],
   "source": [
    "%%time\n",
    "\n",
    "data_path = \"/pstore/data/DS4/Apoptotic_cell_detection/\"\n",
    "metadata = scifAI.metadata_generator(data_path)"
   ]
  },
  {
   "cell_type": "code",
   "execution_count": 6,
   "metadata": {},
   "outputs": [
    {
     "data": {
      "text/html": [
       "<div>\n",
       "<style scoped>\n",
       "    .dataframe tbody tr th:only-of-type {\n",
       "        vertical-align: middle;\n",
       "    }\n",
       "\n",
       "    .dataframe tbody tr th {\n",
       "        vertical-align: top;\n",
       "    }\n",
       "\n",
       "    .dataframe thead th {\n",
       "        text-align: right;\n",
       "    }\n",
       "</style>\n",
       "<table border=\"1\" class=\"dataframe\">\n",
       "  <thead>\n",
       "    <tr style=\"text-align: right;\">\n",
       "      <th></th>\n",
       "      <th>file</th>\n",
       "      <th>experiment</th>\n",
       "      <th>donor</th>\n",
       "      <th>condition</th>\n",
       "      <th>object_number</th>\n",
       "      <th>set</th>\n",
       "      <th>label</th>\n",
       "    </tr>\n",
       "  </thead>\n",
       "  <tbody>\n",
       "    <tr>\n",
       "      <th>0</th>\n",
       "      <td>/pstore/data/DS4/Apoptotic_cell_detection/Expe...</td>\n",
       "      <td>Experiment_1</td>\n",
       "      <td>Donor_1</td>\n",
       "      <td>condition_1</td>\n",
       "      <td>822</td>\n",
       "      <td>labeled</td>\n",
       "      <td>apoptotic</td>\n",
       "    </tr>\n",
       "    <tr>\n",
       "      <th>1</th>\n",
       "      <td>/pstore/data/DS4/Apoptotic_cell_detection/Expe...</td>\n",
       "      <td>Experiment_1</td>\n",
       "      <td>Donor_1</td>\n",
       "      <td>condition_1</td>\n",
       "      <td>12187</td>\n",
       "      <td>labeled</td>\n",
       "      <td>non-apoptotic</td>\n",
       "    </tr>\n",
       "    <tr>\n",
       "      <th>2</th>\n",
       "      <td>/pstore/data/DS4/Apoptotic_cell_detection/Expe...</td>\n",
       "      <td>Experiment_1</td>\n",
       "      <td>Donor_1</td>\n",
       "      <td>condition_1</td>\n",
       "      <td>2295</td>\n",
       "      <td>labeled</td>\n",
       "      <td>apoptotic</td>\n",
       "    </tr>\n",
       "    <tr>\n",
       "      <th>3</th>\n",
       "      <td>/pstore/data/DS4/Apoptotic_cell_detection/Expe...</td>\n",
       "      <td>Experiment_1</td>\n",
       "      <td>Donor_1</td>\n",
       "      <td>condition_1</td>\n",
       "      <td>14306</td>\n",
       "      <td>labeled</td>\n",
       "      <td>non-apoptotic</td>\n",
       "    </tr>\n",
       "    <tr>\n",
       "      <th>4</th>\n",
       "      <td>/pstore/data/DS4/Apoptotic_cell_detection/Expe...</td>\n",
       "      <td>Experiment_1</td>\n",
       "      <td>Donor_1</td>\n",
       "      <td>condition_1</td>\n",
       "      <td>2584</td>\n",
       "      <td>labeled</td>\n",
       "      <td>apoptotic</td>\n",
       "    </tr>\n",
       "    <tr>\n",
       "      <th>...</th>\n",
       "      <td>...</td>\n",
       "      <td>...</td>\n",
       "      <td>...</td>\n",
       "      <td>...</td>\n",
       "      <td>...</td>\n",
       "      <td>...</td>\n",
       "      <td>...</td>\n",
       "    </tr>\n",
       "    <tr>\n",
       "      <th>15306</th>\n",
       "      <td>/pstore/data/DS4/Apoptotic_cell_detection/Expe...</td>\n",
       "      <td>Experiment_1</td>\n",
       "      <td>Donor_1</td>\n",
       "      <td>condition_1</td>\n",
       "      <td>10365</td>\n",
       "      <td>labeled</td>\n",
       "      <td>apoptotic</td>\n",
       "    </tr>\n",
       "    <tr>\n",
       "      <th>15307</th>\n",
       "      <td>/pstore/data/DS4/Apoptotic_cell_detection/Expe...</td>\n",
       "      <td>Experiment_1</td>\n",
       "      <td>Donor_1</td>\n",
       "      <td>condition_1</td>\n",
       "      <td>2952</td>\n",
       "      <td>labeled</td>\n",
       "      <td>apoptotic</td>\n",
       "    </tr>\n",
       "    <tr>\n",
       "      <th>15308</th>\n",
       "      <td>/pstore/data/DS4/Apoptotic_cell_detection/Expe...</td>\n",
       "      <td>Experiment_1</td>\n",
       "      <td>Donor_1</td>\n",
       "      <td>condition_1</td>\n",
       "      <td>7308</td>\n",
       "      <td>labeled</td>\n",
       "      <td>non-apoptotic</td>\n",
       "    </tr>\n",
       "    <tr>\n",
       "      <th>15309</th>\n",
       "      <td>/pstore/data/DS4/Apoptotic_cell_detection/Expe...</td>\n",
       "      <td>Experiment_1</td>\n",
       "      <td>Donor_1</td>\n",
       "      <td>condition_1</td>\n",
       "      <td>3211</td>\n",
       "      <td>labeled</td>\n",
       "      <td>apoptotic</td>\n",
       "    </tr>\n",
       "    <tr>\n",
       "      <th>15310</th>\n",
       "      <td>/pstore/data/DS4/Apoptotic_cell_detection/Expe...</td>\n",
       "      <td>Experiment_1</td>\n",
       "      <td>Donor_1</td>\n",
       "      <td>condition_1</td>\n",
       "      <td>3500</td>\n",
       "      <td>labeled</td>\n",
       "      <td>apoptotic</td>\n",
       "    </tr>\n",
       "  </tbody>\n",
       "</table>\n",
       "<p>15311 rows × 7 columns</p>\n",
       "</div>"
      ],
      "text/plain": [
       "                                                    file    experiment  \\\n",
       "0      /pstore/data/DS4/Apoptotic_cell_detection/Expe...  Experiment_1   \n",
       "1      /pstore/data/DS4/Apoptotic_cell_detection/Expe...  Experiment_1   \n",
       "2      /pstore/data/DS4/Apoptotic_cell_detection/Expe...  Experiment_1   \n",
       "3      /pstore/data/DS4/Apoptotic_cell_detection/Expe...  Experiment_1   \n",
       "4      /pstore/data/DS4/Apoptotic_cell_detection/Expe...  Experiment_1   \n",
       "...                                                  ...           ...   \n",
       "15306  /pstore/data/DS4/Apoptotic_cell_detection/Expe...  Experiment_1   \n",
       "15307  /pstore/data/DS4/Apoptotic_cell_detection/Expe...  Experiment_1   \n",
       "15308  /pstore/data/DS4/Apoptotic_cell_detection/Expe...  Experiment_1   \n",
       "15309  /pstore/data/DS4/Apoptotic_cell_detection/Expe...  Experiment_1   \n",
       "15310  /pstore/data/DS4/Apoptotic_cell_detection/Expe...  Experiment_1   \n",
       "\n",
       "         donor    condition object_number      set          label  \n",
       "0      Donor_1  condition_1           822  labeled      apoptotic  \n",
       "1      Donor_1  condition_1         12187  labeled  non-apoptotic  \n",
       "2      Donor_1  condition_1          2295  labeled      apoptotic  \n",
       "3      Donor_1  condition_1         14306  labeled  non-apoptotic  \n",
       "4      Donor_1  condition_1          2584  labeled      apoptotic  \n",
       "...        ...          ...           ...      ...            ...  \n",
       "15306  Donor_1  condition_1         10365  labeled      apoptotic  \n",
       "15307  Donor_1  condition_1          2952  labeled      apoptotic  \n",
       "15308  Donor_1  condition_1          7308  labeled  non-apoptotic  \n",
       "15309  Donor_1  condition_1          3211  labeled      apoptotic  \n",
       "15310  Donor_1  condition_1          3500  labeled      apoptotic  \n",
       "\n",
       "[15311 rows x 7 columns]"
      ]
     },
     "execution_count": 6,
     "metadata": {},
     "output_type": "execute_result"
    }
   ],
   "source": [
    "metadata"
   ]
  },
  {
   "cell_type": "code",
   "execution_count": 7,
   "metadata": {},
   "outputs": [
    {
     "name": "stdout",
     "output_type": "stream",
     "text": [
      "['apoptotic' 'non-apoptotic']\n"
     ]
    },
    {
     "data": {
      "text/plain": [
       "<AxesSubplot:>"
      ]
     },
     "execution_count": 7,
     "metadata": {},
     "output_type": "execute_result"
    },
    {
     "data": {
      "image/png": "[encoded data removed]",
      "text/plain": [
       "<Figure size 432x288 with 1 Axes>"
      ]
     },
     "metadata": {
      "needs_background": "light"
     },
     "output_type": "display_data"
    }
   ],
   "source": [
    "print(metadata.label.unique())\n",
    "metadata.label.hist()"
   ]
  },
  {
   "cell_type": "markdown",
   "metadata": {},
   "source": [
    "so we have 31280  files with various labels. first we need to get rid of `unknown` labels"
   ]
  },
  {
   "cell_type": "code",
   "execution_count": 8,
   "metadata": {},
   "outputs": [],
   "source": [
    "row_index = metadata.label != \"unknown\"\n",
    "\n",
    "metadata = metadata.loc[row_index,:].reset_index(drop = True)"
   ]
  },
  {
   "cell_type": "markdown",
   "metadata": {},
   "source": [
    "lets plot a random image per class"
   ]
  },
  {
   "cell_type": "code",
   "execution_count": 9,
   "metadata": {},
   "outputs": [
    {
     "name": "stdout",
     "output_type": "stream",
     "text": [
      "apoptotic\n",
      "non-apoptotic\n"
     ]
    },
    {
     "data": {
      "image/png": "[encoded data removed]",
      "text/plain": [
       "<Figure size 144x144 with 4 Axes>"
      ]
     },
     "metadata": {},
     "output_type": "display_data"
    }
   ],
   "source": [
    "from skimage.util import crop\n",
    "import h5py\n",
    "\n",
    "def crop_pad_h_w(image_dummy,reshape_size):\n",
    "    if image_dummy.shape[0] < reshape_size:\n",
    "        h1_pad = ( reshape_size - image_dummy.shape[0])/2\n",
    "        h1_pad = int(h1_pad)\n",
    "        h2_pad =  reshape_size - h1_pad - image_dummy.shape[0]\n",
    "        h1_crop = 0\n",
    "        h2_crop = 0\n",
    "    else:\n",
    "        h1_pad = 0\n",
    "        h2_pad = 0\n",
    "        h1_crop = ( reshape_size - image_dummy.shape[0])/2\n",
    "        h1_crop = abs(int(h1_crop))\n",
    "        h2_crop = image_dummy.shape[0]- reshape_size  - h1_crop\n",
    "\n",
    "    if image_dummy.shape[1] < reshape_size:\n",
    "        w1_pad = (reshape_size - image_dummy.shape[1])/2\n",
    "        w1_pad = int(w1_pad)\n",
    "        w2_pad = reshape_size - w1_pad - image_dummy.shape[1]\n",
    "        w1_crop = 0\n",
    "        w2_crop = 0\n",
    "    else:\n",
    "        w1_pad = 0\n",
    "        w2_pad = 0\n",
    "        w1_crop = (reshape_size - image_dummy.shape[1])/2\n",
    "        w1_crop = abs(int(w1_crop))\n",
    "        w2_crop = image_dummy.shape[1]- reshape_size  - w1_crop\n",
    "\n",
    "    h = [h1_crop, h2_crop, h1_pad, h2_pad]\n",
    "    w = [w1_crop, w2_crop, w1_pad, w2_pad] \n",
    "    return h, w\n",
    "\n",
    "def plot_images_with_metadata(metadata,  \n",
    "                              figsize = None,\n",
    "                              channels = [\"BF\",\"BF\", \"BF\"],\n",
    "                    channel_colors =  [\"Greys\", \"Oranges\", \"Blues\"],\n",
    "                    image_size = 128):\n",
    "    \n",
    "    metadata_dummy = metadata.copy()\n",
    "    metadata_dummy = metadata_dummy.reset_index(drop = True)\n",
    "    \n",
    "    nrows = len(metadata_dummy)\n",
    "    ncols = len(channel_colors)\n",
    "    \n",
    "    if figsize is None:\n",
    "        figsize = ( ncols*2, nrows*2 )\n",
    "    fix,ax = plt.subplots(nrows, ncols, figsize = figsize, tight_layout = True)\n",
    "    \n",
    "    vmin = [4095.]*ncols\n",
    "    vmax = [0.]*ncols\n",
    "    \n",
    "    for i in range(nrows):\n",
    "        h5_file_ = h5py.File(metadata_dummy.loc[i,\"file\"], \"r\")\n",
    "        image = h5_file_.get(\"image\")[()]\n",
    "        for j, ch in enumerate(range(ncols)):\n",
    "            vmin[j] = min(vmin[j], image[:,:,ch].min()  )\n",
    "            vmax[j] = max(vmax[j], image[:,:,ch].max()  )\n",
    "        \n",
    "    for i in range(nrows):\n",
    "        h5_file_ = h5py.File(metadata_dummy.loc[i,\"file\"], \"r\")\n",
    "        image = h5_file_.get(\"image\")[()]         \n",
    "        \n",
    "        h, w = crop_pad_h_w(image, image_size)\n",
    "        h1_crop, h2_crop, h1_pad, h2_pad =  h \n",
    "        w1_crop, w2_crop, w1_pad, w2_pad = w \n",
    "        for j, ch in enumerate(channel_colors):\n",
    "            image_dummy = crop(image[:,:,j], ((h1_crop,h2_crop),(w1_crop,w2_crop)))            \n",
    "            image_dummy = np.pad(image_dummy, \n",
    "                                     ((h1_pad,h2_pad),(w1_pad,w2_pad)), \n",
    "                                     'constant', \n",
    "                                     constant_values = np.mean(image_dummy) )\n",
    "            ax[i,j].imshow(image_dummy, cmap = channel_colors[j] , vmin = vmin[j], vmax = vmax[j]  )\n",
    "            ax[i,j].set_xticks([])\n",
    "            ax[i,j].set_yticks([])\n",
    "            \n",
    "            if j == 0:\n",
    "                print(metadata_dummy.loc[i,\"label\"])\n",
    "                ax[i,j].set_ylabel(metadata_dummy.loc[i,\"label\"])\n",
    "            if i == 0:\n",
    "                ax[i,j].set_xlabel(channels[j])\n",
    "                ax[i,j].xaxis.set_label_position('top') \n",
    "            \n",
    "        h5_file_.close()\n",
    "    plt.tight_layout()\n",
    "\n",
    "    \n",
    "plot_images_with_metadata(metadata.groupby('label').apply(lambda s: s.sample(1, random_state = 2)).reset_index(drop = True) ,  \n",
    "                              figsize = (2,2),\n",
    "                    channel_colors =  [\"Greys\", \"copper\"],\n",
    "                          channels = [\"BF\",\"FL\"],\n",
    "                    image_size = 32)\n",
    "\n",
    "\n",
    "\n",
    "plt.savefig(\"Dataset 1 - apoptotic vs non apoptotic cells.png\", bbox_inches='tight')\n",
    "plt.savefig(\"Dataset 1 - apoptotic vs non apoptotic cells.svg\", bbox_inches='tight')"
   ]
  },
  {
   "cell_type": "markdown",
   "metadata": {},
   "source": [
    "Set all random seeds to the specific value, so the results are more reproducable"
   ]
  },
  {
   "cell_type": "code",
   "execution_count": 10,
   "metadata": {},
   "outputs": [],
   "source": [
    "seed_value = 42\n",
    "\n",
    "os.environ['PYTHONHASHSEED']=str(seed_value)\n",
    "import random\n",
    "random.seed(seed_value)\n",
    "\n",
    "np.random.seed(seed_value)\n",
    "torch.manual_seed(seed_value)\n",
    "\n",
    "torch.backends.cudnn.deterministic = True\n",
    "torch.backends.cudnn.benchmark = False"
   ]
  },
  {
   "cell_type": "markdown",
   "metadata": {},
   "source": [
    "Define all necessary parameters"
   ]
  },
  {
   "cell_type": "code",
   "execution_count": 11,
   "metadata": {},
   "outputs": [],
   "source": [
    "class AddGaussianNoise(object):\n",
    "    def __init__(self, mean=0., std=1.):\n",
    "        self.std = std\n",
    "        self.mean = mean\n",
    "        \n",
    "    def __call__(self, tensor):\n",
    "        return tensor + torch.randn(tensor.size()) * self.std + self.mean\n",
    "    \n",
    "    def __repr__(self):\n",
    "        return self.__class__.__name__ + '(mean={0}, std={1})'.format(self.mean, self.std)"
   ]
  },
  {
   "cell_type": "code",
   "execution_count": 12,
   "metadata": {},
   "outputs": [],
   "source": [
    "class MinMaxScaler(object):\n",
    "    def __init__(self, min_in , max_in, min_out, max_out):\n",
    "        self.min_in = min_in.reshape(-1,1,1)\n",
    "        self.max_in = max_in.reshape(-1,1,1)\n",
    "        self.min_out = min_out\n",
    "        self.max_out = max_out\n",
    "        \n",
    "    def __call__(self, tensor):\n",
    "        \n",
    "        tensor_ = (tensor - self.min_in)/(self.max_in - self.min_in)\n",
    "        tensor_ = tensor_*(self.max_out - self.min_out) + self.min_out\n",
    "        tensor_[tensor_<self.min_out]= self.min_out\n",
    "        tensor_[tensor_>self.max_out]= self.max_out\n",
    "        return tensor_\n",
    "    \n",
    "    def __repr__(self):\n",
    "        return self.__class__.__name__ + '(min_out={0}, max_out={1})'.format(self.min_out, self.max_out)"
   ]
  },
  {
   "cell_type": "code",
   "execution_count": 13,
   "metadata": {},
   "outputs": [],
   "source": [
    "\n",
    "model_dir = \"models\"\n",
    "log_dir = \"logs\"\n",
    "scaling_factor = 255.\n",
    "reshape_size = 32\n",
    "num_classes = len(metadata.label.unique())"
   ]
  },
  {
   "cell_type": "code",
   "execution_count": 14,
   "metadata": {},
   "outputs": [],
   "source": [
    "\n",
    "selected_channels = np.arange(2)\n",
    "num_channels = len(selected_channels)\n",
    "channels = np.asarray([ \"Ch\" + str(i) for i in selected_channels])\n",
    "num_of_all_channels = len(channels)\n",
    "all_channels = np.arange(num_of_all_channels)"
   ]
  },
  {
   "cell_type": "code",
   "execution_count": 15,
   "metadata": {},
   "outputs": [],
   "source": [
    "batch_size = 128\n",
    "num_workers = 4\n",
    "device=\"cuda\""
   ]
  },
  {
   "cell_type": "markdown",
   "metadata": {},
   "source": [
    "splitting data to train, validaiton and test"
   ]
  },
  {
   "cell_type": "code",
   "execution_count": 16,
   "metadata": {},
   "outputs": [
    {
     "name": "stdout",
     "output_type": "stream",
     "text": [
      "1\n"
     ]
    }
   ],
   "source": [
    "from sklearn.model_selection import StratifiedKFold\n",
    "from sklearn.model_selection import train_test_split\n",
    "\n",
    "skf = StratifiedKFold(n_splits=5, random_state=seed_value, shuffle=True)\n",
    "main_fold = 2\n",
    "i = 1\n",
    "for train_index, test_index in skf.split(metadata.index.tolist(), metadata[\"label\"]):\n",
    "    if i == main_fold:\n",
    "        break\n",
    "    else:\n",
    "        print(i)\n",
    "        i+=1\n",
    "\n",
    "\n",
    "train_index, validation_index, _, _ = train_test_split(train_index, \n",
    "                                                    metadata.loc[train_index,\"label\"].index.tolist(), \n",
    "                                                    stratify = metadata.loc[train_index,\"label\"].tolist(),\n",
    "                                                    test_size=0.2, \n",
    "                                                    random_state=seed_value)"
   ]
  },
  {
   "cell_type": "code",
   "execution_count": null,
   "metadata": {},
   "outputs": [],
   "source": []
  },
  {
   "cell_type": "code",
   "execution_count": 17,
   "metadata": {},
   "outputs": [
    {
     "data": {
      "text/plain": [
       "{'apoptotic': 0, 'non-apoptotic': 1}"
      ]
     },
     "execution_count": 17,
     "metadata": {},
     "output_type": "execute_result"
    }
   ],
   "source": [
    "label_map = dict(zip(sorted(set(metadata.loc[train_index, \"label\"])), \n",
    "                     np.arange(len(set(metadata.loc[train_index, \"label\"])))))\n",
    "\n",
    "set_of_interesting_classes = metadata.label.unique().tolist()\n",
    "\n",
    "label_map"
   ]
  },
  {
   "cell_type": "markdown",
   "metadata": {},
   "source": [
    "now we calculate the statistics of every channel to later use for nomalizing the dataset"
   ]
  },
  {
   "cell_type": "code",
   "execution_count": 18,
   "metadata": {},
   "outputs": [],
   "source": [
    "train_dataset = DatasetGenerator(metadata=metadata.loc[train_index,:],\n",
    "                                 label_map=label_map,\n",
    "                                 selected_channels=selected_channels,\n",
    "                                 scaling_factor=scaling_factor,\n",
    "                                 reshape_size=reshape_size,\n",
    "                                 transform=transforms.Compose([]))"
   ]
  },
  {
   "cell_type": "code",
   "execution_count": 19,
   "metadata": {},
   "outputs": [],
   "source": [
    "train_loader = DataLoader(train_dataset, batch_size=batch_size, shuffle=False, num_workers=num_workers)"
   ]
  },
  {
   "cell_type": "code",
   "execution_count": 20,
   "metadata": {},
   "outputs": [
    {
     "data": {
      "text/plain": [
       "<matplotlib.image.AxesImage at 0x2aab57dcb970>"
      ]
     },
     "execution_count": 20,
     "metadata": {},
     "output_type": "execute_result"
    },
    {
     "data": {
      "image/png": "[encoded data removed]",
      "text/plain": [
       "<Figure size 432x288 with 1 Axes>"
      ]
     },
     "metadata": {
      "needs_background": "light"
     },
     "output_type": "display_data"
    }
   ],
   "source": [
    "plt.imshow(train_dataset[0][0][1])"
   ]
  },
  {
   "cell_type": "code",
   "execution_count": 21,
   "metadata": {},
   "outputs": [
    {
     "name": "stderr",
     "output_type": "stream",
     "text": [
      "100%|██████████| 77/77 [00:14<00:00,  5.37it/s]"
     ]
    },
    {
     "name": "stdout",
     "output_type": "stream",
     "text": [
      "statistics used: {'min': tensor([1.4599, 0.0000]), 'p01': tensor([2.5298, 0.0169]), 'p05': tensor([2.8079, 0.0272]), 'p25': tensor([3.0937, 0.0480]), 'p50': tensor([3.1462, 0.0762]), 'p75': tensor([3.1873, 0.1629]), 'p95': tensor([3.4512, 0.7811]), 'p99': tensor([3.7476, 2.1453]), 'max': tensor([  5.2849, 250.7375]), 'mean': tensor([3.1394, 0.2232]), 'std': tensor([0.1971, 2.0162])}\n"
     ]
    },
    {
     "name": "stderr",
     "output_type": "stream",
     "text": [
      "\n"
     ]
    }
   ],
   "source": [
    "statistics = get_statistics(train_loader, selected_channels=selected_channels)"
   ]
  },
  {
   "cell_type": "markdown",
   "metadata": {},
   "source": [
    "adding the normalization to each transform"
   ]
  },
  {
   "cell_type": "code",
   "execution_count": 22,
   "metadata": {},
   "outputs": [],
   "source": [
    "stats = dict()\n",
    "stats[\"lower_bound\"] = torch.tensor([statistics['min'][0], statistics['p01'][1]])\n",
    "stats[\"upper_bound\"] = torch.tensor([statistics['p99'][0], statistics['p99'][1]])\n",
    "\n",
    "train_transform = [ \n",
    "        MinMaxScaler(           min_in =  stats[\"lower_bound\"] , \n",
    "                                max_in =  stats[\"upper_bound\"] , \n",
    "                                min_out =  0. , \n",
    "                                max_out =  1.),\n",
    "        transforms.RandomHorizontalFlip(),\n",
    "        transforms.RandomVerticalFlip(),\n",
    "        AddGaussianNoise(mean=0., std=0.01),\n",
    "]\n",
    "\n",
    "validation_transform =  [ \n",
    "        MinMaxScaler(           min_in =  stats[\"lower_bound\"] , \n",
    "                                max_in =  stats[\"upper_bound\"] , \n",
    "                                min_out =  0. , \n",
    "                                max_out =  1.),\n",
    "]\n",
    "\n",
    "test_transform =  [ \n",
    "        MinMaxScaler(           min_in =  stats[\"lower_bound\"] , \n",
    "                                max_in =  stats[\"upper_bound\"] , \n",
    "                                min_out =  0. , \n",
    "                                max_out =  1.),\n",
    "]"
   ]
  },
  {
   "cell_type": "code",
   "execution_count": 23,
   "metadata": {},
   "outputs": [],
   "source": [
    "train_loader = None"
   ]
  },
  {
   "cell_type": "markdown",
   "metadata": {},
   "source": [
    "defining train, validation and test datasets"
   ]
  },
  {
   "cell_type": "code",
   "execution_count": 24,
   "metadata": {},
   "outputs": [],
   "source": [
    "train_dataset = DatasetGenerator(metadata=metadata.loc[train_index,:],\n",
    "                                 label_map=label_map,\n",
    "                                 selected_channels=selected_channels,\n",
    "                                 scaling_factor=scaling_factor, \n",
    "                                 reshape_size=reshape_size,\n",
    "                                 transform= transforms.Compose(train_transform))\n",
    "\n",
    "validation_dataset = DatasetGenerator(metadata=metadata.loc[validation_index,:],\n",
    "                                      label_map=label_map,\n",
    "                                      selected_channels=selected_channels,\n",
    "                                      scaling_factor=scaling_factor,\n",
    "                                      reshape_size=reshape_size,\n",
    "                                      transform=transforms.Compose(test_transform))\n",
    "\n",
    "test_dataset = DatasetGenerator(metadata=metadata.loc[test_index,:],\n",
    "                                label_map=label_map,\n",
    "                                selected_channels=selected_channels,\n",
    "                                scaling_factor=scaling_factor,\n",
    "                                reshape_size=reshape_size,\n",
    "                                transform=\n",
    "                                transforms.Compose(test_transform))"
   ]
  },
  {
   "cell_type": "code",
   "execution_count": 25,
   "metadata": {},
   "outputs": [
    {
     "data": {
      "text/plain": [
       "<matplotlib.image.AxesImage at 0x2aab587b83a0>"
      ]
     },
     "execution_count": 25,
     "metadata": {},
     "output_type": "execute_result"
    },
    {
     "data": {
      "image/png": "[encoded data removed]",
      "text/plain": [
       "<Figure size 432x288 with 1 Axes>"
      ]
     },
     "metadata": {
      "needs_background": "light"
     },
     "output_type": "display_data"
    }
   ],
   "source": [
    "plt.imshow(test_dataset[0][0][0])"
   ]
  },
  {
   "cell_type": "code",
   "execution_count": 26,
   "metadata": {},
   "outputs": [
    {
     "data": {
      "text/plain": [
       "<matplotlib.image.AxesImage at 0x2aab587ef6d0>"
      ]
     },
     "execution_count": 26,
     "metadata": {},
     "output_type": "execute_result"
    },
    {
     "data": {
      "image/png": "[encoded data removed]",
      "text/plain": [
       "<Figure size 432x288 with 1 Axes>"
      ]
     },
     "metadata": {
      "needs_background": "light"
     },
     "output_type": "display_data"
    }
   ],
   "source": [
    "plt.imshow(validation_dataset[0][0][0])"
   ]
  },
  {
   "cell_type": "code",
   "execution_count": 27,
   "metadata": {},
   "outputs": [
    {
     "data": {
      "text/plain": [
       "<matplotlib.image.AxesImage at 0x2aab58826a90>"
      ]
     },
     "execution_count": 27,
     "metadata": {},
     "output_type": "execute_result"
    },
    {
     "data": {
      "image/png": "[encoded data removed]",
      "text/plain": [
       "<Figure size 432x288 with 1 Axes>"
      ]
     },
     "metadata": {
      "needs_background": "light"
     },
     "output_type": "display_data"
    }
   ],
   "source": [
    "plt.imshow(train_dataset[0][0][0])"
   ]
  },
  {
   "cell_type": "markdown",
   "metadata": {},
   "source": [
    "considering that we have multiple input channels, we need to modify the ResNet18 network input layer"
   ]
  },
  {
   "cell_type": "code",
   "execution_count": 28,
   "metadata": {},
   "outputs": [],
   "source": [
    "import torch.nn as nn\n",
    "from scifAI.dl.models import PretrainedModel\n",
    "import torch.nn.functional as F\n",
    "\n",
    "resnet18_modified = PretrainedModel(len(selected_channels),\n",
    "                                     len(set_of_interesting_classes), \n",
    "                                     pretrained = True)"
   ]
  },
  {
   "cell_type": "code",
   "execution_count": null,
   "metadata": {},
   "outputs": [],
   "source": []
  },
  {
   "cell_type": "markdown",
   "metadata": {},
   "source": [
    "finally, we add a scheduler and an early stopping based on valid_f1_macro"
   ]
  },
  {
   "cell_type": "code",
   "execution_count": 29,
   "metadata": {},
   "outputs": [],
   "source": [
    "lr_scheduler = LRScheduler(policy='ReduceLROnPlateau', factor=0.5, patience=5)\n",
    "\n",
    "epoch_scoring_f1_micro = EpochScoring(\"f1_micro\", \n",
    "                             name =  \"valid_f1_micro\", \n",
    "                             on_train = False,\n",
    "                             lower_is_better = False)\n",
    "\n",
    "epoch_scoring_f1_macro = EpochScoring(\"f1_macro\", \n",
    "                             name =  \"valid_f1_macro\", \n",
    "                             on_train = False,\n",
    "                             lower_is_better = False)\n",
    "\n",
    "early_stopping = EarlyStopping(monitor='valid_f1_macro', \n",
    "                               patience=50, \n",
    "                               threshold=0.0001, \n",
    "                               threshold_mode='rel', \n",
    "                               lower_is_better=False)\n",
    "\n",
    "checkpoint = Checkpoint(f_params='apoptotic_cells_DL_fold2.pth',\n",
    "                        monitor='valid_f1_macro_best', load_best=True)"
   ]
  },
  {
   "cell_type": "markdown",
   "metadata": {},
   "source": [
    "lets define and train the model using `skorch`"
   ]
  },
  {
   "cell_type": "code",
   "execution_count": 30,
   "metadata": {},
   "outputs": [],
   "source": [
    "net = NeuralNetClassifier(    \n",
    "    resnet18_modified, \n",
    "    criterion=nn.CrossEntropyLoss,\n",
    "    lr=0.001,\n",
    "    batch_size=batch_size,\n",
    "    max_epochs=1000,\n",
    "    optimizer=optim.Adam,\n",
    "    iterator_train__shuffle=True,\n",
    "    iterator_train__num_workers=num_workers,\n",
    "    iterator_valid__shuffle=False,\n",
    "    iterator_valid__num_workers=2,\n",
    "    callbacks=[lr_scheduler, epoch_scoring_f1_micro, \n",
    "               epoch_scoring_f1_macro, \n",
    "               early_stopping, checkpoint],\n",
    "    train_split=predefined_split(validation_dataset),\n",
    "    device=\"cuda\",\n",
    "    warm_start=True)"
   ]
  },
  {
   "cell_type": "code",
   "execution_count": 31,
   "metadata": {},
   "outputs": [
    {
     "name": "stdout",
     "output_type": "stream",
     "text": [
      "  epoch    train_loss    valid_acc    valid_f1_macro    valid_f1_micro    valid_loss    cp     dur\n",
      "-------  ------------  -----------  ----------------  ----------------  ------------  ----  ------\n",
      "      1        \u001b[36m0.4228\u001b[0m       \u001b[32m0.8686\u001b[0m            \u001b[35m0.8665\u001b[0m            \u001b[31m0.8686\u001b[0m        \u001b[94m0.3023\u001b[0m     +  6.0490\n",
      "      2        \u001b[36m0.2656\u001b[0m       0.7743            0.7590            0.7743        0.6200        6.1075\n",
      "      3        \u001b[36m0.2319\u001b[0m       \u001b[32m0.8980\u001b[0m            \u001b[35m0.8947\u001b[0m            \u001b[31m0.8980\u001b[0m        \u001b[94m0.2556\u001b[0m     +  6.1012\n",
      "      4        \u001b[36m0.2210\u001b[0m       \u001b[32m0.9041\u001b[0m            \u001b[35m0.9000\u001b[0m            \u001b[31m0.9041\u001b[0m        \u001b[94m0.2254\u001b[0m     +  6.0189\n",
      "      5        \u001b[36m0.1910\u001b[0m       0.8278            0.8277            0.8278        0.4381        6.0090\n",
      "      6        0.1962       0.9004            0.8963            0.9004        0.2624        6.0627\n",
      "      7        \u001b[36m0.1858\u001b[0m       \u001b[32m0.9073\u001b[0m            \u001b[35m0.9056\u001b[0m            \u001b[31m0.9073\u001b[0m        \u001b[94m0.2115\u001b[0m     +  5.9838\n",
      "      8        \u001b[36m0.1640\u001b[0m       \u001b[32m0.9216\u001b[0m            \u001b[35m0.9191\u001b[0m            \u001b[31m0.9216\u001b[0m        \u001b[94m0.1995\u001b[0m     +  6.0231\n",
      "      9        \u001b[36m0.1625\u001b[0m       0.8114            0.7880            0.8114        0.5124        5.9300\n",
      "     10        \u001b[36m0.1542\u001b[0m       0.8931            0.8867            0.8931        0.2981        6.0577\n",
      "     11        0.1583       0.9098            0.9084            0.9098        0.2140        6.0930\n",
      "     12        \u001b[36m0.1494\u001b[0m       \u001b[32m0.9347\u001b[0m            \u001b[35m0.9329\u001b[0m            \u001b[31m0.9347\u001b[0m        \u001b[94m0.1617\u001b[0m     +  5.9925\n",
      "     13        \u001b[36m0.1472\u001b[0m       0.9024            0.8983            0.9024        0.2373        6.0001\n",
      "     14        \u001b[36m0.1352\u001b[0m       0.9220            0.9187            0.9220        0.1886        6.0705\n",
      "     15        0.1412       0.9302            0.9279            0.9302        0.1787        6.0716\n",
      "     16        0.1423       0.9131            0.9119            0.9131        0.2285        6.0889\n",
      "     17        \u001b[36m0.1348\u001b[0m       0.9306            0.9294            0.9306        0.1859        6.0202\n",
      "     18        0.1402       \u001b[32m0.9363\u001b[0m            \u001b[35m0.9345\u001b[0m            \u001b[31m0.9363\u001b[0m        0.1625     +  5.9636\n",
      "     19        \u001b[36m0.1297\u001b[0m       0.9057            0.9017            0.9057        0.2713        5.9997\n",
      "     20        \u001b[36m0.1251\u001b[0m       0.9159            0.9136            0.9159        0.1934        6.0439\n",
      "     21        0.1253       \u001b[32m0.9367\u001b[0m            \u001b[35m0.9354\u001b[0m            \u001b[31m0.9367\u001b[0m        \u001b[94m0.1595\u001b[0m     +  6.0019\n",
      "     22        \u001b[36m0.1160\u001b[0m       0.9184            0.9143            0.9184        0.1943        5.9822\n",
      "     23        \u001b[36m0.1148\u001b[0m       0.9106            0.9078            0.9106        0.2101        6.0537\n",
      "     24        0.1150       0.9306            0.9290            0.9306        0.1754        6.0012\n",
      "     25        \u001b[36m0.1145\u001b[0m       0.9196            0.9181            0.9196        0.1942        5.9999\n",
      "     26        \u001b[36m0.1108\u001b[0m       0.9347            0.9325            0.9347        0.1719        6.0223\n",
      "     27        \u001b[36m0.1000\u001b[0m       0.9110            0.9098            0.9110        0.2393        6.0689\n",
      "     28        0.1087       0.9314            0.9295            0.9314        0.1802        5.9984\n",
      "     29        \u001b[36m0.0997\u001b[0m       0.9265            0.9256            0.9265        0.2027        6.0252\n",
      "     30        0.1012       0.9224            0.9212            0.9224        0.2003        6.0270\n",
      "     31        0.1039       0.9298            0.9280            0.9298        0.1809        6.0308\n",
      "     32        0.1018       0.9306            0.9281            0.9306        0.1806        5.9866\n",
      "     33        \u001b[36m0.0962\u001b[0m       0.9355            0.9339            0.9355        0.1888        6.0483\n",
      "     34        0.1054       0.9257            0.9225            0.9257        0.1986        6.0281\n",
      "     35        \u001b[36m0.0922\u001b[0m       0.9269            0.9259            0.9269        0.1988        6.0085\n",
      "     36        \u001b[36m0.0883\u001b[0m       0.9335            0.9311            0.9335        0.2083        6.0894\n",
      "     37        \u001b[36m0.0836\u001b[0m       0.9314            0.9282            0.9314        0.1928        6.0361\n",
      "     38        \u001b[36m0.0808\u001b[0m       0.9363            0.9340            0.9363        0.1889        6.0245\n",
      "     39        0.0862       0.9151            0.9124            0.9151        0.2427        6.0130\n",
      "     40        0.0883       0.9265            0.9250            0.9265        0.2288        5.9985\n",
      "     41        0.0809       0.9229            0.9193            0.9229        0.2300        6.0445\n",
      "     42        \u001b[36m0.0790\u001b[0m       0.9110            0.9102            0.9110        0.2845        6.0476\n",
      "     43        0.0820       0.9322            0.9303            0.9322        0.1903        6.0051\n",
      "     44        0.0828       0.9261            0.9240            0.9261        0.2095        5.9621\n",
      "     45        \u001b[36m0.0755\u001b[0m       0.9184            0.9175            0.9184        0.2453        6.0755\n",
      "     46        0.0843       0.9265            0.9242            0.9265        0.1948        6.0802\n",
      "     47        \u001b[36m0.0731\u001b[0m       0.9294            0.9281            0.9294        0.2078        6.0568\n",
      "     48        0.0736       \u001b[32m0.9400\u001b[0m            \u001b[35m0.9382\u001b[0m            \u001b[31m0.9400\u001b[0m        0.1970     +  6.0409\n",
      "     49        0.0739       0.9322            0.9300            0.9322        0.1798        5.9742\n",
      "     50        \u001b[36m0.0625\u001b[0m       \u001b[32m0.9416\u001b[0m            \u001b[35m0.9403\u001b[0m            \u001b[31m0.9416\u001b[0m        0.1800     +  6.0437\n",
      "     51        0.0633       0.9278            0.9266            0.9278        0.2202        6.0590\n",
      "     52        0.0646       0.8886            0.8805            0.8886        0.4102        6.0199\n",
      "     53        0.0699       0.9310            0.9297            0.9310        0.2044        6.0502\n",
      "     54        0.0709       0.9306            0.9287            0.9306        0.2046        6.0940\n",
      "     55        \u001b[36m0.0599\u001b[0m       0.9380            0.9367            0.9380        0.2039        6.1229\n",
      "     56        \u001b[36m0.0588\u001b[0m       0.9204            0.9169            0.9204        0.2519        6.0437\n",
      "     57        \u001b[36m0.0516\u001b[0m       0.9310            0.9299            0.9310        0.2417        6.0074\n",
      "     58        0.0615       0.9180            0.9168            0.9180        0.2267        6.0978\n",
      "     59        0.0524       0.9371            0.9356            0.9371        0.2032        6.0434\n",
      "     60        \u001b[36m0.0496\u001b[0m       \u001b[32m0.9420\u001b[0m            0.9400            \u001b[31m0.9420\u001b[0m        0.2226        6.0026\n",
      "     61        \u001b[36m0.0472\u001b[0m       0.9286            0.9260            0.9286        0.2712        6.0964\n",
      "     62        0.0570       0.9208            0.9195            0.9208        0.2701        6.0350\n",
      "     63        0.0493       0.9371            0.9354            0.9371        0.2208        6.0172\n",
      "     64        0.0521       0.9053            0.9043            0.9053        0.3233        6.0723\n",
      "     65        \u001b[36m0.0439\u001b[0m       0.9286            0.9257            0.9286        0.2549        6.0966\n",
      "     66        0.0464       0.9310            0.9282            0.9310        0.2482        6.0362\n",
      "     67        0.0468       \u001b[32m0.9441\u001b[0m            \u001b[35m0.9425\u001b[0m            \u001b[31m0.9441\u001b[0m        0.2567     +  6.1082\n",
      "     68        \u001b[36m0.0404\u001b[0m       0.9220            0.9183            0.9220        0.2766        6.0380\n",
      "     69        0.0494       0.9318            0.9294            0.9318        0.2436        6.0232\n",
      "     70        \u001b[36m0.0383\u001b[0m       0.9331            0.9317            0.9331        0.2682        6.0385\n",
      "     71        0.0452       0.9420            0.9405            0.9420        0.1928        5.9569\n",
      "     72        0.0398       0.9286            0.9268            0.9286        0.2586        6.0263\n",
      "     73        \u001b[36m0.0367\u001b[0m       0.9400            0.9387            0.9400        0.2246        6.0293\n",
      "     74        0.0401       0.9420            0.9405            0.9420        0.2262        5.9799\n"
     ]
    },
    {
     "name": "stdout",
     "output_type": "stream",
     "text": [
      "     75        \u001b[36m0.0348\u001b[0m       0.9359            0.9343            0.9359        0.2601        6.0208\n",
      "     76        0.0349       0.9278            0.9264            0.9278        0.3286        6.0419\n",
      "     77        \u001b[36m0.0319\u001b[0m       0.9351            0.9336            0.9351        0.3088        6.0925\n",
      "     78        0.0400       0.9310            0.9286            0.9310        0.2779        6.0748\n",
      "     79        0.0398       0.9200            0.9188            0.9200        0.2625        6.0641\n",
      "     80        0.0380       0.9224            0.9192            0.9224        0.3035        6.1038\n",
      "     81        0.0371       0.9351            0.9336            0.9351        0.2250        6.0719\n",
      "     82        \u001b[36m0.0262\u001b[0m       0.9351            0.9335            0.9351        0.2909        6.0696\n",
      "     83        0.0344       0.9229            0.9188            0.9229        0.3433        6.0267\n",
      "     84        0.0372       \u001b[32m0.9445\u001b[0m            \u001b[35m0.9430\u001b[0m            \u001b[31m0.9445\u001b[0m        0.1998     +  6.0401\n",
      "     85        0.0296       0.9355            0.9339            0.9355        0.2724        6.0262\n",
      "     86        0.0313       0.9376            0.9361            0.9376        0.2544        6.0447\n",
      "     87        0.0290       0.9400            0.9384            0.9400        0.2390        6.0373\n",
      "     88        0.0275       0.9253            0.9231            0.9253        0.2634        6.0618\n",
      "     89        \u001b[36m0.0234\u001b[0m       0.9388            0.9369            0.9388        0.2563        6.0765\n",
      "     90        \u001b[36m0.0160\u001b[0m       \u001b[32m0.9453\u001b[0m            \u001b[35m0.9438\u001b[0m            \u001b[31m0.9453\u001b[0m        0.2466     +  6.0423\n",
      "     91        \u001b[36m0.0118\u001b[0m       0.9371            0.9358            0.9371        0.2909        6.0771\n",
      "     92        0.0157       0.9392            0.9377            0.9392        0.3046        6.0305\n",
      "     93        \u001b[36m0.0101\u001b[0m       0.9408            0.9390            0.9408        0.3138        6.0010\n",
      "     94        0.0117       0.9388            0.9372            0.9388        0.3143        6.1019\n",
      "     95        \u001b[36m0.0091\u001b[0m       0.9347            0.9327            0.9347        0.3435        6.0506\n",
      "     96        0.0151       0.9318            0.9298            0.9318        0.3267        6.0357\n",
      "     97        0.0102       0.9437            0.9421            0.9437        0.3007        6.0054\n",
      "     98        0.0108       0.9376            0.9360            0.9376        0.2972        6.0132\n",
      "     99        0.0126       0.9388            0.9370            0.9388        0.2950        6.1013\n",
      "    100        0.0107       0.9388            0.9369            0.9388        0.3649        6.0273\n",
      "    101        0.0111       0.9412            0.9395            0.9412        0.3012        6.0819\n",
      "    102        \u001b[36m0.0073\u001b[0m       0.9416            0.9400            0.9416        0.3220        6.1575\n",
      "    103        \u001b[36m0.0048\u001b[0m       0.9404            0.9389            0.9404        0.3246        6.0775\n",
      "    104        0.0048       0.9437            0.9419            0.9437        0.3431        6.0453\n",
      "    105        \u001b[36m0.0041\u001b[0m       0.9437            0.9421            0.9437        0.3589        6.0358\n",
      "    106        \u001b[36m0.0036\u001b[0m       \u001b[32m0.9469\u001b[0m            \u001b[35m0.9454\u001b[0m            \u001b[31m0.9469\u001b[0m        0.3555     +  6.0548\n",
      "    107        0.0070       0.9437            0.9422            0.9437        0.3314        6.0143\n",
      "    108        \u001b[36m0.0034\u001b[0m       0.9416            0.9400            0.9416        0.3467        6.0235\n",
      "    109        \u001b[36m0.0023\u001b[0m       0.9457            0.9443            0.9457        0.3623        6.0041\n",
      "    110        0.0034       0.9408            0.9392            0.9408        0.3802        6.0672\n",
      "    111        0.0042       0.9388            0.9371            0.9388        0.3800        6.1047\n",
      "    112        0.0055       0.9392            0.9376            0.9392        0.3495        6.0429\n",
      "    113        0.0038       0.9429            0.9410            0.9429        0.4027        6.0833\n",
      "    114        0.0027       0.9388            0.9370            0.9388        0.3508        6.0650\n",
      "    115        0.0027       0.9437            0.9421            0.9437        0.3892        6.1144\n",
      "    116        \u001b[36m0.0014\u001b[0m       0.9429            0.9412            0.9429        0.3875        6.0602\n",
      "    117        0.0020       \u001b[32m0.9478\u001b[0m            \u001b[35m0.9461\u001b[0m            \u001b[31m0.9478\u001b[0m        0.3860     +  6.0894\n",
      "    118        \u001b[36m0.0013\u001b[0m       \u001b[32m0.9482\u001b[0m            \u001b[35m0.9466\u001b[0m            \u001b[31m0.9482\u001b[0m        0.3943     +  5.9927\n",
      "    119        0.0015       0.9404            0.9390            0.9404        0.4165        6.0969\n",
      "    120        \u001b[36m0.0010\u001b[0m       0.9449            0.9432            0.9449        0.3853        6.0406\n",
      "    121        0.0028       0.9429            0.9413            0.9429        0.3905        6.0475\n",
      "    122        0.0010       0.9429            0.9412            0.9429        0.4109        6.0798\n",
      "    123        \u001b[36m0.0004\u001b[0m       0.9420            0.9405            0.9420        0.4102        6.0615\n",
      "    124        0.0007       0.9453            0.9435            0.9453        0.4312        5.9986\n",
      "    125        0.0018       0.9473            0.9458            0.9473        0.4245        6.0334\n",
      "    126        0.0018       0.9445            0.9430            0.9445        0.4205        6.0227\n",
      "    127        0.0028       0.9449            0.9433            0.9449        0.4091        5.9968\n",
      "    128        0.0023       0.9449            0.9432            0.9449        0.3852        5.9847\n",
      "    129        0.0027       0.9449            0.9431            0.9449        0.3856        5.9569\n",
      "    130        0.0015       0.9445            0.9427            0.9445        0.3715        6.0302\n",
      "    131        0.0007       0.9437            0.9421            0.9437        0.3789        5.9505\n",
      "    132        0.0011       0.9445            0.9427            0.9445        0.3869        5.9766\n",
      "    133        0.0007       0.9429            0.9412            0.9429        0.3859        6.0456\n",
      "    134        0.0018       0.9449            0.9432            0.9449        0.3935        5.9549\n",
      "    135        0.0007       0.9449            0.9435            0.9449        0.3878        5.9579\n",
      "    136        \u001b[36m0.0003\u001b[0m       0.9461            0.9446            0.9461        0.3814        6.0197\n",
      "    137        0.0006       0.9453            0.9436            0.9453        0.3859        6.0079\n",
      "    138        0.0008       0.9433            0.9415            0.9433        0.3980        6.0282\n",
      "    139        0.0007       0.9457            0.9440            0.9457        0.3939        6.0542\n",
      "    140        0.0008       0.9445            0.9429            0.9445        0.4019        6.0374\n",
      "    141        0.0008       0.9445            0.9430            0.9445        0.3922        6.0570\n",
      "    142        0.0003       0.9457            0.9442            0.9457        0.3895        6.0571\n",
      "    143        \u001b[36m0.0001\u001b[0m       0.9445            0.9430            0.9445        0.3959        6.0030\n",
      "    144        0.0003       0.9449            0.9433            0.9449        0.3936        5.9479\n",
      "    145        0.0004       0.9457            0.9442            0.9457        0.3982        6.0177\n",
      "    146        0.0002       0.9457            0.9442            0.9457        0.3954        6.1075\n",
      "    147        0.0004       0.9437            0.9421            0.9437        0.4039        6.0022\n",
      "    148        0.0009       0.9457            0.9441            0.9457        0.3952        6.0562\n",
      "    149        0.0004       0.9453            0.9437            0.9453        0.3998        6.0037\n",
      "    150        0.0002       0.9449            0.9433            0.9449        0.4013        6.0098\n",
      "    151        0.0003       0.9457            0.9442            0.9457        0.3985        6.0731\n",
      "    152        0.0002       0.9449            0.9434            0.9449        0.4017        6.0636\n",
      "    153        0.0002       0.9457            0.9442            0.9457        0.4051        6.0651\n",
      "    154        0.0003       0.9424            0.9407            0.9424        0.4037        6.0269\n"
     ]
    },
    {
     "name": "stdout",
     "output_type": "stream",
     "text": [
      "    155        0.0007       0.9465            0.9450            0.9465        0.3996        6.0321\n",
      "    156        0.0002       0.9457            0.9441            0.9457        0.4024        6.0637\n",
      "    157        0.0003       0.9445            0.9429            0.9445        0.4022        6.0461\n",
      "    158        0.0002       0.9453            0.9437            0.9453        0.4055        6.0057\n",
      "    159        \u001b[36m0.0001\u001b[0m       0.9441            0.9424            0.9441        0.4068        5.9735\n",
      "    160        0.0008       0.9437            0.9419            0.9437        0.4104        6.0503\n",
      "    161        0.0008       0.9465            0.9449            0.9465        0.4007        6.0020\n",
      "    162        0.0002       0.9453            0.9436            0.9453        0.4112        6.0569\n",
      "    163        0.0001       0.9429            0.9412            0.9429        0.4061        6.0754\n",
      "    164        0.0001       0.9433            0.9417            0.9433        0.4122        5.9932\n",
      "    165        0.0006       0.9437            0.9420            0.9437        0.4106        6.0837\n",
      "    166        0.0008       0.9441            0.9423            0.9441        0.4085        6.0193\n",
      "    167        0.0003       0.9437            0.9420            0.9437        0.4031        6.0313\n",
      "Stopping since valid_f1_macro has not improved in the last 50 epochs.\n"
     ]
    }
   ],
   "source": [
    "net = net.fit(train_dataset, y = None)"
   ]
  },
  {
   "cell_type": "code",
   "execution_count": 32,
   "metadata": {},
   "outputs": [
    {
     "data": {
      "text/plain": [
       "<All keys matched successfully>"
      ]
     },
     "execution_count": 32,
     "metadata": {},
     "output_type": "execute_result"
    }
   ],
   "source": [
    "net.module.load_state_dict(torch.load('apoptotic_cells_DL_fold2.pth')) "
   ]
  },
  {
   "cell_type": "markdown",
   "metadata": {},
   "source": [
    "\n",
    "\n",
    "lets take a look the prediction pefromance for the validation set"
   ]
  },
  {
   "cell_type": "code",
   "execution_count": 33,
   "metadata": {},
   "outputs": [
    {
     "name": "stdout",
     "output_type": "stream",
     "text": [
      "               precision    recall  f1-score   support\n",
      "\n",
      "    apoptotic       0.95      0.97      0.96      1422\n",
      "non-apoptotic       0.95      0.92      0.94      1028\n",
      "\n",
      "     accuracy                           0.95      2450\n",
      "    macro avg       0.95      0.94      0.95      2450\n",
      " weighted avg       0.95      0.95      0.95      2450\n",
      "\n",
      "------------------------------------------------------------\n",
      "matthews correlation coeff: 0.89\n",
      "Cohen Kappa score: 0.89\n",
      "Accuracy: 0.95 & balanced Accuracy: 0.94\n",
      "macro F1 score: 0.95 & micro F1 score: 0.95\n",
      "macro Precision score: 0.95 & micro Precision score: 0.95\n",
      "macro Recall score: 0.94 & micro Recall score: 0.95\n",
      "------------------------------------------------------------\n"
     ]
    }
   ],
   "source": [
    "inv_label_map = {v: k for k, v in label_map.items()}\n",
    "\n",
    "preds = net.predict(validation_dataset)\n",
    "preds =  [inv_label_map[int(t)] for t in preds]\n",
    "\n",
    "classification_complete_report(validation_dataset.metadata.label, \n",
    "                               preds  )"
   ]
  },
  {
   "cell_type": "markdown",
   "metadata": {},
   "source": [
    "and finally for the test set"
   ]
  },
  {
   "cell_type": "code",
   "execution_count": 34,
   "metadata": {},
   "outputs": [
    {
     "name": "stdout",
     "output_type": "stream",
     "text": [
      "               precision    recall  f1-score   support\n",
      "\n",
      "    apoptotic       0.95      0.97      0.96      1777\n",
      "non-apoptotic       0.95      0.92      0.94      1285\n",
      "\n",
      "     accuracy                           0.95      3062\n",
      "    macro avg       0.95      0.94      0.95      3062\n",
      " weighted avg       0.95      0.95      0.95      3062\n",
      "\n",
      "------------------------------------------------------------\n",
      "matthews correlation coeff: 0.89\n",
      "Cohen Kappa score: 0.89\n",
      "Accuracy: 0.95 & balanced Accuracy: 0.94\n",
      "macro F1 score: 0.95 & micro F1 score: 0.95\n",
      "macro Precision score: 0.95 & micro Precision score: 0.95\n",
      "macro Recall score: 0.94 & micro Recall score: 0.95\n",
      "------------------------------------------------------------\n"
     ]
    }
   ],
   "source": [
    "preds = net.predict(test_dataset)\n",
    "preds =  [inv_label_map[int(t)] for t in preds]\n",
    "\n",
    "classification_complete_report(test_dataset.metadata.label, \n",
    "                               preds  )"
   ]
  },
  {
   "cell_type": "code",
   "execution_count": null,
   "metadata": {},
   "outputs": [],
   "source": []
  },
  {
   "cell_type": "code",
   "execution_count": 35,
   "metadata": {},
   "outputs": [],
   "source": [
    "performance_with_all_channels = pd.read_csv(\"performance_with_all_channels.csv\")\n",
    "\n",
    "performance_with_all_channels.loc[main_fold,\"accuracy\"] = accuracy_score(test_dataset.metadata.label, preds)\n",
    "performance_with_all_channels.loc[main_fold,\"f1_macro\"] = f1_score(test_dataset.metadata.label, preds, average=\"macro\")\n",
    "performance_with_all_channels.loc[main_fold,\"f1_micro\"] = f1_score(test_dataset.metadata.label, preds, average=\"micro\")\n",
    "\n",
    "performance_with_all_channels.to_csv(\"performance_with_all_channels.csv\", index = False)"
   ]
  },
  {
   "cell_type": "code",
   "execution_count": 36,
   "metadata": {},
   "outputs": [],
   "source": [
    "model = net.module_\n",
    "net = None\n",
    "torch.cuda.empty_cache()"
   ]
  },
  {
   "cell_type": "markdown",
   "metadata": {},
   "source": [
    "### Model Interpretation"
   ]
  },
  {
   "cell_type": "code",
   "execution_count": 37,
   "metadata": {},
   "outputs": [],
   "source": [
    "# where to save results\n",
    "model_name = \"resnet18\"\n",
    "dataset_name = \"apoptotic vs. non-apoptotic\""
   ]
  },
  {
   "cell_type": "markdown",
   "metadata": {},
   "source": [
    "#### Pixel-Permutation Tests"
   ]
  },
  {
   "cell_type": "code",
   "execution_count": 38,
   "metadata": {},
   "outputs": [],
   "source": [
    "from time import process_time"
   ]
  },
  {
   "cell_type": "code",
   "execution_count": 39,
   "metadata": {},
   "outputs": [],
   "source": [
    "\n",
    "test_loader = DataLoader(test_dataset, batch_size=batch_size, shuffle=False, num_workers=num_workers)"
   ]
  },
  {
   "cell_type": "code",
   "execution_count": 40,
   "metadata": {},
   "outputs": [],
   "source": [
    "correct = 0.\n",
    "total = 0.\n",
    "y_true = list()\n",
    "y_pred = list()\n",
    "y_true_proba = list()\n",
    "with torch.no_grad():\n",
    "    for data in test_loader:\n",
    "        inputs, labels = data[0].to(device).float(), data[1].to(device).long()\n",
    "        outputs = model(inputs)\n",
    "        pred = outputs.argmax(dim=1)\n",
    "        true_proba = np.array([j[i] for (i,j) in zip(pred, outputs.cpu())])\n",
    "        _, predicted = torch.max(outputs.data, 1)\n",
    "        total += labels.size(0)\n",
    "        correct += (labels.reshape(-1) == predicted).sum().item()\n",
    "        for i in range(len(pred)):\n",
    "            y_true.append(labels[i].item())\n",
    "            y_pred.append(pred[i].item())\n",
    "            y_true_proba.append(true_proba[i].item())"
   ]
  },
  {
   "cell_type": "code",
   "execution_count": 41,
   "metadata": {},
   "outputs": [],
   "source": [
    "class_names_targets = [c for c in label_map.keys()]"
   ]
  },
  {
   "cell_type": "code",
   "execution_count": 42,
   "metadata": {},
   "outputs": [
    {
     "name": "stdout",
     "output_type": "stream",
     "text": [
      "               precision    recall  f1-score   support\n",
      "\n",
      "    apoptotic       0.95      0.97      0.96      1777\n",
      "non-apoptotic       0.95      0.92      0.94      1285\n",
      "\n",
      "     accuracy                           0.95      3062\n",
      "    macro avg       0.95      0.94      0.95      3062\n",
      " weighted avg       0.95      0.95      0.95      3062\n",
      "\n"
     ]
    }
   ],
   "source": [
    "print(classification_report(y_true, y_pred, target_names=class_names_targets, digits=2))"
   ]
  },
  {
   "cell_type": "code",
   "execution_count": 43,
   "metadata": {},
   "outputs": [
    {
     "name": "stderr",
     "output_type": "stream",
     "text": [
      "100%|██████████| 100/100 [02:25<00:00,  1.45s/it]\n",
      "100%|██████████| 100/100 [02:23<00:00,  1.44s/it]"
     ]
    },
    {
     "name": "stdout",
     "output_type": "stream",
     "text": [
      "Candidate channel  to remove is 0\n"
     ]
    },
    {
     "name": "stderr",
     "output_type": "stream",
     "text": [
      "\n"
     ]
    },
    {
     "data": {
      "image/png": "[encoded data removed]",
      "text/plain": [
       "<Figure size 720x360 with 1 Axes>"
      ]
     },
     "metadata": {
      "needs_background": "light"
     },
     "output_type": "display_data"
    },
    {
     "data": {
      "image/png": "[encoded data removed]",
      "text/plain": [
       "<Figure size 720x360 with 1 Axes>"
      ]
     },
     "metadata": {
      "needs_background": "light"
     },
     "output_type": "display_data"
    }
   ],
   "source": [
    "t1_start = process_time()\n",
    "f1_score_original = f1_score(y_true, y_pred, average=None, labels=np.arange(num_classes))\n",
    "min_mean_dif = 1.0\n",
    "candidate = 0\n",
    "shuffle_times = 100\n",
    "df_all = pd.DataFrame([], columns=class_names_targets)\n",
    "for c in range(num_channels):\n",
    "    f1_score_diff_from_original_per_channel_per_shuffle = []\n",
    "    transform = test_transform.copy()\n",
    "    transform.append(ShuffleChannel(channels_to_shuffle=[c]))\n",
    "    for s in tqdm(range(shuffle_times)):\n",
    "        dataset = DatasetGenerator(metadata=metadata.loc[test_index,:],\n",
    "                                 label_map=label_map,\n",
    "                                 selected_channels=selected_channels,\n",
    "                                 scaling_factor=scaling_factor,\n",
    "                                 reshape_size=reshape_size,\n",
    "                                 transform=transforms.Compose(transform))\n",
    "        dataloader = DataLoader(dataset,\n",
    "                                batch_size=batch_size,\n",
    "                                shuffle=False,\n",
    "                                num_workers=num_workers)\n",
    "        y_true = list()\n",
    "        y_pred = list()\n",
    "        with torch.no_grad():\n",
    "            for data in dataloader:\n",
    "                inputs, labels = data[0].to(device).float(), data[1].to(device).reshape(-1).long()\n",
    "                outputs = model(inputs)\n",
    "                pred = outputs.argmax(dim=1)\n",
    "                for i in range(len(pred)):\n",
    "                    y_true.append(labels[i].item())\n",
    "                    y_pred.append(pred[i].item())\n",
    "            f1_score_per_channel = f1_score(y_true, y_pred, average=None, labels=np.arange(num_classes))\n",
    "            f1_score_diff_from_original_per_channel_per_shuffle.append(f1_score_original - f1_score_per_channel)\n",
    "    mean_along_columns = np.mean(f1_score_diff_from_original_per_channel_per_shuffle, axis=0)\n",
    "    mean_dif = np.mean(mean_along_columns)\n",
    "    if mean_dif < min_mean_dif and mean_dif > 0 and not selected_channels[c]:\n",
    "        min_mean_dif = mean_dif\n",
    "        candidate = selected_channels[c]\n",
    "    df_diff = pd.DataFrame(np.atleast_2d(f1_score_diff_from_original_per_channel_per_shuffle), columns=class_names_targets)\n",
    "    df_mean_diff = pd.DataFrame(np.atleast_2d(mean_along_columns), columns=class_names_targets)\n",
    "    df_all = pd.concat([df_all, df_mean_diff], ignore_index=True, sort=False)\n",
    "    fig, ax = plt.subplots(figsize=(10, 5))\n",
    "    ax = df_diff.boxplot()\n",
    "    ax.set_xticklabels(class_names_targets, rotation=45)\n",
    "    #fig.savefig(os.path.join(\"results\",model_name, \"{}-shuffle_method-model-{}-channel-{}.png\".format(dataset_name, str(model_name), str(selected_channels[c]))))\n",
    "print(\"Candidate channel  to remove is {}\".format(candidate))"
   ]
  },
  {
   "cell_type": "code",
   "execution_count": 44,
   "metadata": {},
   "outputs": [
    {
     "data": {
      "text/plain": [
       "<BarContainer object of 2 artists>"
      ]
     },
     "execution_count": 44,
     "metadata": {},
     "output_type": "execute_result"
    },
    {
     "data": {
      "image/png": "[encoded data removed]",
      "text/plain": [
       "<Figure size 432x288 with 1 Axes>"
      ]
     },
     "metadata": {
      "needs_background": "light"
     },
     "output_type": "display_data"
    }
   ],
   "source": [
    "plt.bar(channels[selected_channels], df_all.T.mean(), color='Grey')\n",
    "#plt.savefig(os.path.join(\"results\",model_name, \"{}-pixel-permutation-method-model-all-{}.svg\".format(dataset_name, str(\"resnet_all\"))))"
   ]
  },
  {
   "cell_type": "code",
   "execution_count": 45,
   "metadata": {},
   "outputs": [],
   "source": [
    "channel_ranking_pixel_permutation = pd.DataFrame(data={'channels': channels[np.asarray(selected_channels)], 'importance': df_all.T.mean().to_numpy()})"
   ]
  },
  {
   "cell_type": "code",
   "execution_count": null,
   "metadata": {},
   "outputs": [],
   "source": []
  },
  {
   "cell_type": "code",
   "execution_count": null,
   "metadata": {},
   "outputs": [],
   "source": []
  },
  {
   "cell_type": "code",
   "execution_count": 46,
   "metadata": {},
   "outputs": [],
   "source": [
    "from captum.attr import (\n",
    "    GuidedGradCam,\n",
    "    DeepLift,\n",
    "    Saliency,\n",
    "    DeepLiftShap,\n",
    "    GradientShap,\n",
    "    InputXGradient,\n",
    "    IntegratedGradients,\n",
    "    GuidedBackprop,\n",
    "    Deconvolution,\n",
    "    Occlusion,\n",
    "    FeaturePermutation,\n",
    "    ShapleyValueSampling,\n",
    "    Lime,\n",
    "    KernelShap,\n",
    "    LRP\n",
    ")\n",
    "from time import process_time"
   ]
  },
  {
   "cell_type": "code",
   "execution_count": 47,
   "metadata": {},
   "outputs": [],
   "source": [
    "def run_interpretation_method(ablator, method_name, require_baseline=False, require_sliding_window=False):\n",
    "    t1_start = process_time()\n",
    "    dataset = DatasetGenerator(metadata=metadata.loc[test_index,:],\n",
    "                                     label_map=label_map,\n",
    "                                     selected_channels=selected_channels,\n",
    "                                     scaling_factor=scaling_factor,\n",
    "                                     reshape_size=reshape_size,\n",
    "                                     transform=transforms.Compose(test_transform))\n",
    "    testloader = DataLoader(test_dataset,\n",
    "                                    batch_size=batch_size,\n",
    "                                    shuffle=False,\n",
    "                                    num_workers=num_workers)\n",
    "\n",
    "    heatmaps = torch.empty(0, dtype=torch.float32, device=device)\n",
    "    with torch.no_grad():\n",
    "        for data in testloader:\n",
    "            inputs, labels = data[0].to(device).float(), data[1].to(device).reshape(-1).long()\n",
    "            if require_baseline:\n",
    "                baselines=torch.zeros(inputs.shape).to(device)\n",
    "                attr = ablator.attribute(inputs, target=labels, baselines=baselines)\n",
    "            elif require_sliding_window:\n",
    "                attr = ablator.attribute(inputs, target=labels, sliding_window_shapes=(1,3,3))\n",
    "            else:\n",
    "                attr = ablator.attribute(inputs, target=labels)\n",
    "            heatmaps = torch.cat((heatmaps,  torch.from_numpy(np.percentile(torch.flatten(attr, start_dim=-2).cpu().numpy(), q=50, axis=-1)).to(device)))\n",
    "    heatmaps_mean = torch.mean(heatmaps, dim=0)\n",
    "    plt.bar(channels, heatmaps_mean.cpu(), color='grey')\n",
    "    #plt.savefig(os.path.join(\"results\", \"resnet_all\", \"{}-{}_method-model-50-percentile-{}.png\".format(dataset_name, method_name, str(\"resnet_all\"))))\n",
    "\n",
    "    t1_stop = process_time()\n",
    "    print(\"Elapsed time:\", t1_stop, t1_start) \n",
    "\n",
    "    print(\"Elapsed time during the whole program in seconds:\",\n",
    "                                             t1_stop-t1_start)\n",
    "    return heatmaps_mean"
   ]
  },
  {
   "cell_type": "code",
   "execution_count": 48,
   "metadata": {},
   "outputs": [],
   "source": [
    "# DeepLift"
   ]
  },
  {
   "cell_type": "code",
   "execution_count": 49,
   "metadata": {},
   "outputs": [
    {
     "name": "stdout",
     "output_type": "stream",
     "text": [
      "Elapsed time: 682.589893998 681.003976549\n",
      "Elapsed time during the whole program in seconds: 1.5859174490000214\n"
     ]
    },
    {
     "data": {
      "image/png": "[encoded data removed]",
      "text/plain": [
       "<Figure size 432x288 with 1 Axes>"
      ]
     },
     "metadata": {
      "needs_background": "light"
     },
     "output_type": "display_data"
    }
   ],
   "source": [
    "dl = DeepLift(model)\n",
    "heatmaps_deeplift_mean = run_interpretation_method(dl, 'dl')"
   ]
  },
  {
   "cell_type": "code",
   "execution_count": null,
   "metadata": {},
   "outputs": [],
   "source": []
  },
  {
   "cell_type": "code",
   "execution_count": 50,
   "metadata": {},
   "outputs": [],
   "source": [
    "# Saliency"
   ]
  },
  {
   "cell_type": "code",
   "execution_count": 51,
   "metadata": {},
   "outputs": [
    {
     "name": "stdout",
     "output_type": "stream",
     "text": [
      "Elapsed time: 683.7640864 682.671856684\n",
      "Elapsed time during the whole program in seconds: 1.0922297160000198\n"
     ]
    },
    {
     "data": {
      "image/png": "[encoded data removed]",
      "text/plain": [
       "<Figure size 432x288 with 1 Axes>"
      ]
     },
     "metadata": {
      "needs_background": "light"
     },
     "output_type": "display_data"
    }
   ],
   "source": [
    "saliency = Saliency(model)\n",
    "heatmaps_saliency_mean = run_interpretation_method(saliency, 'saliency')"
   ]
  },
  {
   "cell_type": "code",
   "execution_count": 52,
   "metadata": {},
   "outputs": [],
   "source": [
    "# IntegratedGradients"
   ]
  },
  {
   "cell_type": "code",
   "execution_count": 53,
   "metadata": {},
   "outputs": [
    {
     "name": "stdout",
     "output_type": "stream",
     "text": [
      "Elapsed time: 704.480617982 683.853312508\n",
      "Elapsed time during the whole program in seconds: 20.627305473999968\n"
     ]
    },
    {
     "data": {
      "image/png": "[encoded data removed]",
      "text/plain": [
       "<Figure size 432x288 with 1 Axes>"
      ]
     },
     "metadata": {
      "needs_background": "light"
     },
     "output_type": "display_data"
    }
   ],
   "source": [
    "ig = IntegratedGradients(model)\n",
    "heatmaps_integrated_gradient_mean = run_interpretation_method(ig, 'IntegratedGradients')"
   ]
  },
  {
   "cell_type": "code",
   "execution_count": 54,
   "metadata": {},
   "outputs": [],
   "source": [
    "# LRP"
   ]
  },
  {
   "cell_type": "code",
   "execution_count": 55,
   "metadata": {},
   "outputs": [
    {
     "name": "stdout",
     "output_type": "stream",
     "text": [
      "Elapsed time: 705.89164258 704.577297761\n",
      "Elapsed time during the whole program in seconds: 1.3143448190000981\n"
     ]
    },
    {
     "data": {
      "image/png": "[encoded data removed]",
      "text/plain": [
       "<Figure size 432x288 with 1 Axes>"
      ]
     },
     "metadata": {
      "needs_background": "light"
     },
     "output_type": "display_data"
    }
   ],
   "source": [
    "lrp = LRP(model)\n",
    "heatmaps_lrp_mean = run_interpretation_method(lrp, 'LRP')"
   ]
  },
  {
   "cell_type": "code",
   "execution_count": 56,
   "metadata": {},
   "outputs": [],
   "source": [
    "# GuidedGradCAM"
   ]
  },
  {
   "cell_type": "code",
   "execution_count": 57,
   "metadata": {},
   "outputs": [
    {
     "name": "stdout",
     "output_type": "stream",
     "text": [
      "Elapsed time: 707.645678651 705.970889932\n",
      "Elapsed time during the whole program in seconds: 1.6747887190000483\n"
     ]
    },
    {
     "data": {
      "image/png": "[encoded data removed]",
      "text/plain": [
       "<Figure size 432x288 with 1 Axes>"
      ]
     },
     "metadata": {
      "needs_background": "light"
     },
     "output_type": "display_data"
    }
   ],
   "source": [
    "guided_cram = GuidedGradCam(model, model.model.layer1)\n",
    "heatmaps_gradcam_mean = run_interpretation_method(guided_cram, 'GuidedGradCam')"
   ]
  },
  {
   "cell_type": "code",
   "execution_count": 58,
   "metadata": {},
   "outputs": [
    {
     "data": {
      "text/html": [
       "<div>\n",
       "<style scoped>\n",
       "    .dataframe tbody tr th:only-of-type {\n",
       "        vertical-align: middle;\n",
       "    }\n",
       "\n",
       "    .dataframe tbody tr th {\n",
       "        vertical-align: top;\n",
       "    }\n",
       "\n",
       "    .dataframe thead th {\n",
       "        text-align: right;\n",
       "    }\n",
       "</style>\n",
       "<table border=\"1\" class=\"dataframe\">\n",
       "  <thead>\n",
       "    <tr style=\"text-align: right;\">\n",
       "      <th></th>\n",
       "      <th>channels</th>\n",
       "      <th>importance</th>\n",
       "    </tr>\n",
       "  </thead>\n",
       "  <tbody>\n",
       "    <tr>\n",
       "      <th>0</th>\n",
       "      <td>Ch0</td>\n",
       "      <td>0.006798</td>\n",
       "    </tr>\n",
       "    <tr>\n",
       "      <th>1</th>\n",
       "      <td>Ch1</td>\n",
       "      <td>0.438943</td>\n",
       "    </tr>\n",
       "  </tbody>\n",
       "</table>\n",
       "</div>"
      ],
      "text/plain": [
       "  channels  importance\n",
       "0      Ch0    0.006798\n",
       "1      Ch1    0.438943"
      ]
     },
     "execution_count": 58,
     "metadata": {},
     "output_type": "execute_result"
    }
   ],
   "source": [
    "channel_ranking_pixel_permutation"
   ]
  },
  {
   "cell_type": "markdown",
   "metadata": {},
   "source": [
    "5fold CV on the data and get the importance per fold for statistical evaluation\n",
    "    \n",
    "our result is in alignment with the original paper. On the other hand, guided gradcam failed"
   ]
  },
  {
   "cell_type": "code",
   "execution_count": 59,
   "metadata": {},
   "outputs": [],
   "source": [
    "channel_importance = pd.read_csv(\"channel_importance.csv\")\n",
    "\n",
    "channel_importance_fold = pd.DataFrame(columns = channel_importance.columns)\n",
    "\n",
    "channel_importance_fold[\"channel\"] = channels\n",
    "channel_importance_fold[\"fold\"] = main_fold\n",
    "channel_importance_fold[\"PXPermute\"] = channel_ranking_pixel_permutation[\"importance\"]\n",
    "channel_importance_fold[\"DeepLift\"] = heatmaps_deeplift_mean.cpu().numpy()\n",
    "channel_importance_fold[\"IntegratedGradients\"] = heatmaps_integrated_gradient_mean.cpu().numpy()\n",
    "channel_importance_fold[\"LRP\"] = heatmaps_lrp_mean.cpu().numpy()\n",
    "channel_importance_fold[\"GuidedGradCAM\"] = heatmaps_gradcam_mean.cpu().numpy()\n",
    "\n",
    "channel_importance = channel_importance.append(channel_importance_fold, ignore_index = True)\n",
    "\n",
    "channel_importance.to_csv(\"channel_importance.csv\", index = False)"
   ]
  },
  {
   "cell_type": "code",
   "execution_count": null,
   "metadata": {},
   "outputs": [],
   "source": []
  },
  {
   "cell_type": "code",
   "execution_count": null,
   "metadata": {},
   "outputs": [],
   "source": []
  }
 ],
 "metadata": {
  "kernelspec": {
   "display_name": "py310",
   "language": "python",
   "name": "py310"
  },
  "language_info": {
   "codemirror_mode": {
    "name": "ipython",
    "version": 3
   },
   "file_extension": ".py",
   "mimetype": "text/x-python",
   "name": "python",
   "nbconvert_exporter": "python",
   "pygments_lexer": "ipython3",
   "version": "3.8.3"
  },
  "vscode": {
   "interpreter": {
    "hash": "dc85c72049d21f557e30689d2619ffc4ab3f684c40ae26d281fe4539bf4644b2"
   }
  }
 },
 "nbformat": 4,
 "nbformat_minor": 5
}
